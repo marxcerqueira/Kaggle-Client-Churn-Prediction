{
 "cells": [
  {
   "cell_type": "markdown",
   "id": "french-dollar",
   "metadata": {},
   "source": [
    "High Value Customers Identification"
   ]
  },
  {
   "cell_type": "markdown",
   "id": "interracial-limitation",
   "metadata": {},
   "source": [
    "# Project Solution Planning"
   ]
  },
  {
   "cell_type": "markdown",
   "id": "extra-soccer",
   "metadata": {},
   "source": [
    "Churn analytics: \n",
    "- Churn (or attrition), in the simplest terms, is when customers leave and stop buying your product or using your service during a defined time frame.\n",
    "\n",
    "- In order to do keep churn rates as close to zero as possible, companies in nearly every industry need to treat churn as a top priority. If ignored, churn can plateau the growth of any business, even the ones that can gain customers quickly."
   ]
  },
  {
   "cell_type": "markdown",
   "id": "thrown-montana",
   "metadata": {},
   "source": [
    "## Inputs"
   ]
  },
  {
   "cell_type": "markdown",
   "id": "capital-surfing",
   "metadata": {},
   "source": [
    "1. Problema de Negócio\n",
    "    - Taxa de churn aumentou nos últimos meses\n",
    "    - Rankear os clientes com maiores probabilidades de entrar em churn\n",
    "\n",
    "2. Conjunto de dados\n",
    "    - Atributos que descrevem os clientes de um determinado banco: ChrunDataset Kaggle"
   ]
  },
  {
   "cell_type": "markdown",
   "id": "rough-relative",
   "metadata": {},
   "source": [
    "## Output"
   ]
  },
  {
   "cell_type": "markdown",
   "id": "funny-camping",
   "metadata": {
    "ExecuteTime": {
     "end_time": "2021-04-07T19:38:32.014786Z",
     "start_time": "2021-04-07T19:38:32.005785Z"
    }
   },
   "source": [
    "1. Indicação das pessoas que irão entrar em churn\n",
    "    - Coluna em tabela com rankeado das pessoas com propensão de entrar em churn\n",
    "    - Modelo em produção\n",
    "    \n",
    "2. Relatório com performance do modelo e respostas das perguntas:\n",
    "     - Qual a taxa atual de Churn da TopBank? Como ela varia mensalmente?\n",
    "     - Qual a Performance do modelo em classificar os clientes como churns?\n",
    "     - Qual o retorno esperado, em termos de faturamento, se a empresa utilizar seu modelo para evitar o churn dos clientes?\n",
    "     - Para quais clientes você daria o incentivo financeiro e qual seria esse valor, de modo a maximizar o ROI (Retorno sobre o investimento). Lembrando que a soma dos incentivos não pode ultrapassar os  R$10.000,00\n",
    "    "
   ]
  },
  {
   "cell_type": "markdown",
   "id": "agreed-pierce",
   "metadata": {},
   "source": [
    "## Tasks"
   ]
  },
  {
   "cell_type": "markdown",
   "id": "incoming-money",
   "metadata": {},
   "source": [
    "1. Qual a taxa atual de Churn da TopBank? Como ela varia mensalmente?\n",
    "    - Calcular taxa atual, somatório da coluna target divido pelo número total de clientes da base\n",
    "    \n",
    "2. Qual a Performance do modelo em classificar os clientes como churns?\n",
    "    - Calculo da performance do modelo\n",
    "    - Verificar métricas de performance learning to rank\n",
    "    \n",
    "3. Qual o retorno esperado, em termos de faturamento, se a empresa utilizar seu modelo para evitar o churn dos clientes?\n",
    "    - Curva lift para comparação do modelo com o status quo da empresa e apresentação do resultado\n",
    "    - Calcular diferença em reais do modelo\n",
    "    - Calcular ROI\n",
    "    - Comparativo entre ROIs\n",
    "\n",
    "4. Para quais clientes você daria o incentivo financeiro e qual seria esse valor, de modo a maximizar o ROI (Retorno sobre o investimento). Lembrando que a soma dos incentivos não pode ultrapassar os  R$10.000,00\n",
    "    - Classificar quais clientes trarão mais retorno para empresa com o incentivo.\n",
    "    "
   ]
  },
  {
   "cell_type": "markdown",
   "id": "homeless-heading",
   "metadata": {},
   "source": [
    "# Imports"
   ]
  },
  {
   "cell_type": "code",
   "execution_count": 1,
   "id": "lovely-guess",
   "metadata": {
    "ExecuteTime": {
     "end_time": "2021-04-23T11:36:10.692832Z",
     "start_time": "2021-04-23T11:36:09.597433Z"
    }
   },
   "outputs": [],
   "source": [
    "import pandas as pd\n",
    "import numpy as np\n",
    "import seaborn as sns\n",
    "import os\n",
    "import inflection\n",
    "import matplotlib.pyplot as plt\n",
    "\n",
    "import missingno as msno\n",
    "\n",
    "\n",
    "from IPython.core.display    import HTML\n",
    "from IPython.display         import Image"
   ]
  },
  {
   "cell_type": "code",
   "execution_count": 2,
   "id": "indoor-archives",
   "metadata": {
    "ExecuteTime": {
     "end_time": "2021-04-23T11:36:10.698058Z",
     "start_time": "2021-04-23T11:36:10.694114Z"
    }
   },
   "outputs": [
    {
     "data": {
      "text/plain": [
       "'/home/marxcerqueira/repos/Data-Science-Projects/Kaggle-Client-Churn-Prediction/notebooks'"
      ]
     },
     "execution_count": 2,
     "metadata": {},
     "output_type": "execute_result"
    }
   ],
   "source": [
    "os.getcwd()"
   ]
  },
  {
   "cell_type": "markdown",
   "id": "dressed-ukraine",
   "metadata": {},
   "source": [
    "## Helper Functions"
   ]
  },
  {
   "cell_type": "code",
   "execution_count": 3,
   "id": "cordless-people",
   "metadata": {
    "ExecuteTime": {
     "end_time": "2021-04-23T11:36:10.705621Z",
     "start_time": "2021-04-23T11:36:10.699448Z"
    }
   },
   "outputs": [],
   "source": [
    "def jupyter_settings():\n",
    "    %matplotlib inline\n",
    "    %pylab inline\n",
    "    \n",
    "    plt.style.use( 'bmh' )\n",
    "    plt.rcParams['figure.figsize'] = [25, 12]\n",
    "    plt.rcParams['font.size'] = 24\n",
    "    \n",
    "    display( HTML( '<style>.container { width:100% !important; }</style>') )\n",
    "    pd.options.display.max_columns = None\n",
    "    pd.options.display.max_rows = None\n",
    "    pd.set_option( 'display.expand_frame_repr', False )\n",
    "    \n",
    "    sns.set()\n",
    "    \n",
    "# def cramer_v( x, y ):\n",
    "#     cm = pd.crosstab( x, y ).values # Confusion Matrix\n",
    "#     n = cm.sum()\n",
    "#     r, k = cm.shape\n",
    "    \n",
    "#     chi2 = ss.chi2_contingency( cm )[0]\n",
    "#     chi2corr = max( 0, chi2 - (k-1)*(r-1)/(n-1) )\n",
    "    \n",
    "#     kcorr = k - (k-1)**2/(n-1)\n",
    "#     rcorr = r - (r-1)**2/(n-1)\n",
    "    \n",
    "#     return np.sqrt( (chi2corr/n) / ( min( kcorr-1, rcorr-1 ) ) )\n",
    "\n",
    "# def mean_absolute_percentage_error( y, yhat ):\n",
    "#     return np.mean( np.abs( ( y-yhat ) / y ))\n",
    "\n",
    "# def mean_percentage_error( y, yhat ):\n",
    "#     return np.mean( ( y - yhat ) / y )\n",
    "\n",
    "# def ml_error ( model_name, y, yhat):\n",
    "#     mae = mean_absolute_error( y,yhat )\n",
    "#     mape = mean_absolute_percentage_error( y,yhat )\n",
    "#     rmse = np.sqrt(mean_squared_error( y,yhat ))\n",
    "    \n",
    "#     return pd.DataFrame( {'Model Name': model_name,\n",
    "#                           'MAE': mae,\n",
    "#                           'MAPE': mape,\n",
    "#                           'RMSE': rmse}, index=[0])\n",
    "\n",
    "# def cross_validation( x_training, kfold, model_name, model, verbose=False ):\n",
    "#     mae_list = []\n",
    "#     mape_list = []\n",
    "#     rmse_list = []\n",
    "    \n",
    "#     for k in reversed( range( 1, kfold+1 ) ):\n",
    "#         if verbose:\n",
    "#             print( '\\nKFold Number: {}'.format( k ) )\n",
    "#         # start and end date for validation \n",
    "#         start_date_validation = x_training['date'].max() - datetime.timedelta( days=k*6*7)\n",
    "#         end_date_validation = x_training['date'].max() - datetime.timedelta( days=(k-1)*6*7)\n",
    "\n",
    "#         # filtering dataset\n",
    "#         training = x_training[x_training['date'] < start_date_validation]\n",
    "#         validation = x_training[(x_training['date'] >= start_date_validation) & (x_training['date'] <= end_date_validation)]\n",
    "\n",
    "#         # training and validation dataset\n",
    "#         # training\n",
    "#         xtraining = training.drop( ['date', 'sales'], axis=1 ) \n",
    "#         ytraining = training['sales']\n",
    "\n",
    "#         # validation\n",
    "#         xvalidation = validation.drop( ['date', 'sales'], axis=1 )\n",
    "#         yvalidation = validation['sales']\n",
    "\n",
    "#         # model\n",
    "#         m = model.fit( xtraining, ytraining )\n",
    "\n",
    "#         # prediction\n",
    "#         yhat = m.predict( xvalidation )\n",
    "\n",
    "#         # performance\n",
    "#         m_result = ml_error( model_name, np.expm1( yvalidation ), np.expm1( yhat ) )\n",
    "\n",
    "#         # store performance of each kfold iteration\n",
    "#         mae_list.append(  m_result['MAE'] )\n",
    "#         mape_list.append( m_result['MAPE'] )\n",
    "#         rmse_list.append( m_result['RMSE'] )\n",
    "\n",
    "#     return pd.DataFrame( {'Model Name': model_name,\n",
    "#                           'MAE CV': np.round( np.mean( mae_list ), 2 ).astype( str ) + ' +/- ' + np.round( np.std( mae_list ), 2 ).astype( str ),\n",
    "#                           'MAPE CV': np.round( np.mean( mape_list ), 2 ).astype( str ) + ' +/- ' + np.round( np.std( mape_list ), 2 ).astype( str ),\n",
    "#                           'RMSE CV': np.round( np.mean( rmse_list ), 2 ).astype( str ) + ' +/- ' + np.round( np.std( rmse_list ), 2 ).astype( str ) }, index=[0] )\n"
   ]
  },
  {
   "cell_type": "code",
   "execution_count": 4,
   "id": "casual-ecology",
   "metadata": {
    "ExecuteTime": {
     "end_time": "2021-04-23T11:36:10.714219Z",
     "start_time": "2021-04-23T11:36:10.706708Z"
    }
   },
   "outputs": [
    {
     "name": "stdout",
     "output_type": "stream",
     "text": [
      "Populating the interactive namespace from numpy and matplotlib\n"
     ]
    },
    {
     "data": {
      "text/html": [
       "<style>.container { width:100% !important; }</style>"
      ],
      "text/plain": [
       "<IPython.core.display.HTML object>"
      ]
     },
     "metadata": {},
     "output_type": "display_data"
    }
   ],
   "source": [
    "jupyter_settings()"
   ]
  },
  {
   "cell_type": "markdown",
   "id": "perceived-wright",
   "metadata": {},
   "source": [
    "## Loading Dataset"
   ]
  },
  {
   "cell_type": "markdown",
   "id": "departmental-dance",
   "metadata": {},
   "source": [
    " - **Source**: https://www.kaggle.com/mervetorkan/churndataset"
   ]
  },
  {
   "cell_type": "code",
   "execution_count": 5,
   "id": "horizontal-interference",
   "metadata": {
    "ExecuteTime": {
     "end_time": "2021-04-23T11:36:10.731760Z",
     "start_time": "2021-04-23T11:36:10.715404Z"
    }
   },
   "outputs": [],
   "source": [
    "df_churn_raw = pd.read_csv('/home/marxcerqueira/repos/Data-Science-Projects/Kaggle-Client-Churn-Prediction/data/raw/churn.csv', low_memory = False)"
   ]
  },
  {
   "cell_type": "code",
   "execution_count": 6,
   "id": "consecutive-cooler",
   "metadata": {
    "ExecuteTime": {
     "end_time": "2021-04-23T11:36:10.746353Z",
     "start_time": "2021-04-23T11:36:10.732644Z"
    },
    "scrolled": true
   },
   "outputs": [
    {
     "data": {
      "text/html": [
       "<div>\n",
       "<style scoped>\n",
       "    .dataframe tbody tr th:only-of-type {\n",
       "        vertical-align: middle;\n",
       "    }\n",
       "\n",
       "    .dataframe tbody tr th {\n",
       "        vertical-align: top;\n",
       "    }\n",
       "\n",
       "    .dataframe thead th {\n",
       "        text-align: right;\n",
       "    }\n",
       "</style>\n",
       "<table border=\"1\" class=\"dataframe\">\n",
       "  <thead>\n",
       "    <tr style=\"text-align: right;\">\n",
       "      <th></th>\n",
       "      <th>RowNumber</th>\n",
       "      <th>CustomerId</th>\n",
       "      <th>Surname</th>\n",
       "      <th>CreditScore</th>\n",
       "      <th>Geography</th>\n",
       "      <th>Gender</th>\n",
       "      <th>Age</th>\n",
       "      <th>Tenure</th>\n",
       "      <th>Balance</th>\n",
       "      <th>NumOfProducts</th>\n",
       "      <th>HasCrCard</th>\n",
       "      <th>IsActiveMember</th>\n",
       "      <th>EstimatedSalary</th>\n",
       "      <th>Exited</th>\n",
       "    </tr>\n",
       "  </thead>\n",
       "  <tbody>\n",
       "    <tr>\n",
       "      <th>0</th>\n",
       "      <td>1</td>\n",
       "      <td>15634602</td>\n",
       "      <td>Hargrave</td>\n",
       "      <td>619</td>\n",
       "      <td>France</td>\n",
       "      <td>Female</td>\n",
       "      <td>42</td>\n",
       "      <td>2</td>\n",
       "      <td>0.00</td>\n",
       "      <td>1</td>\n",
       "      <td>1</td>\n",
       "      <td>1</td>\n",
       "      <td>101348.88</td>\n",
       "      <td>1</td>\n",
       "    </tr>\n",
       "    <tr>\n",
       "      <th>1</th>\n",
       "      <td>2</td>\n",
       "      <td>15647311</td>\n",
       "      <td>Hill</td>\n",
       "      <td>608</td>\n",
       "      <td>Spain</td>\n",
       "      <td>Female</td>\n",
       "      <td>41</td>\n",
       "      <td>1</td>\n",
       "      <td>83807.86</td>\n",
       "      <td>1</td>\n",
       "      <td>0</td>\n",
       "      <td>1</td>\n",
       "      <td>112542.58</td>\n",
       "      <td>0</td>\n",
       "    </tr>\n",
       "    <tr>\n",
       "      <th>2</th>\n",
       "      <td>3</td>\n",
       "      <td>15619304</td>\n",
       "      <td>Onio</td>\n",
       "      <td>502</td>\n",
       "      <td>France</td>\n",
       "      <td>Female</td>\n",
       "      <td>42</td>\n",
       "      <td>8</td>\n",
       "      <td>159660.80</td>\n",
       "      <td>3</td>\n",
       "      <td>1</td>\n",
       "      <td>0</td>\n",
       "      <td>113931.57</td>\n",
       "      <td>1</td>\n",
       "    </tr>\n",
       "    <tr>\n",
       "      <th>3</th>\n",
       "      <td>4</td>\n",
       "      <td>15701354</td>\n",
       "      <td>Boni</td>\n",
       "      <td>699</td>\n",
       "      <td>France</td>\n",
       "      <td>Female</td>\n",
       "      <td>39</td>\n",
       "      <td>1</td>\n",
       "      <td>0.00</td>\n",
       "      <td>2</td>\n",
       "      <td>0</td>\n",
       "      <td>0</td>\n",
       "      <td>93826.63</td>\n",
       "      <td>0</td>\n",
       "    </tr>\n",
       "    <tr>\n",
       "      <th>4</th>\n",
       "      <td>5</td>\n",
       "      <td>15737888</td>\n",
       "      <td>Mitchell</td>\n",
       "      <td>850</td>\n",
       "      <td>Spain</td>\n",
       "      <td>Female</td>\n",
       "      <td>43</td>\n",
       "      <td>2</td>\n",
       "      <td>125510.82</td>\n",
       "      <td>1</td>\n",
       "      <td>1</td>\n",
       "      <td>1</td>\n",
       "      <td>79084.10</td>\n",
       "      <td>0</td>\n",
       "    </tr>\n",
       "  </tbody>\n",
       "</table>\n",
       "</div>"
      ],
      "text/plain": [
       "   RowNumber  CustomerId   Surname  CreditScore Geography  Gender  Age  Tenure    Balance  NumOfProducts  HasCrCard  IsActiveMember  EstimatedSalary  Exited\n",
       "0          1    15634602  Hargrave          619    France  Female   42       2       0.00              1          1               1        101348.88       1\n",
       "1          2    15647311      Hill          608     Spain  Female   41       1   83807.86              1          0               1        112542.58       0\n",
       "2          3    15619304      Onio          502    France  Female   42       8  159660.80              3          1               0        113931.57       1\n",
       "3          4    15701354      Boni          699    France  Female   39       1       0.00              2          0               0         93826.63       0\n",
       "4          5    15737888  Mitchell          850     Spain  Female   43       2  125510.82              1          1               1         79084.10       0"
      ]
     },
     "execution_count": 6,
     "metadata": {},
     "output_type": "execute_result"
    }
   ],
   "source": [
    "df_churn_raw.head()"
   ]
  },
  {
   "cell_type": "markdown",
   "id": "pressing-health",
   "metadata": {
    "ExecuteTime": {
     "end_time": "2021-04-08T11:44:34.933983Z",
     "start_time": "2021-04-08T11:44:34.923584Z"
    }
   },
   "source": [
    "**Feature Description**:\n",
    "\n",
    "- **RowNumber**: The number of the columns.\n",
    "- **CustomerID**: Unique client identifier.\n",
    "- **Surname**: Client's surname.\n",
    "- **CreditScore**: Client's credit card score for the financial market A pontuação de Crédito do cliente para o mercado de consumo.\n",
    "- **Geography**: The country where the client lives.\n",
    "- **Gender**: Client's gender.\n",
    "- **Age**: Client's age.\n",
    "- **Tenure**: The number of years the client remained activate in the bank.\n",
    "- **Balance**: The monetary amount the client has in their current account.\n",
    "- **NumOfProducts**: The number of products purchased by the client.\n",
    "- **HasCrCard**: Point if the client has a credit card.\n",
    "- **IsActiveMember**: Tell if the client is an active member of the bank (within the last 12 months).\n",
    "- **EstimateSalary**: Client's annual salary estimate.\n",
    "- **Exited**: Indicates if the client is a churn (tagert variable)."
   ]
  },
  {
   "cell_type": "markdown",
   "id": "respiratory-seattle",
   "metadata": {},
   "source": [
    "# DATA DISCRIPTION"
   ]
  },
  {
   "cell_type": "code",
   "execution_count": 7,
   "id": "italian-wayne",
   "metadata": {
    "ExecuteTime": {
     "end_time": "2021-04-23T11:36:10.750583Z",
     "start_time": "2021-04-23T11:36:10.747592Z"
    }
   },
   "outputs": [],
   "source": [
    "# copy dataset\n",
    "df0 = df_churn_raw.copy()"
   ]
  },
  {
   "cell_type": "markdown",
   "id": "linear-haiti",
   "metadata": {},
   "source": [
    "## Rename Columns"
   ]
  },
  {
   "cell_type": "code",
   "execution_count": 8,
   "id": "accepting-comedy",
   "metadata": {
    "ExecuteTime": {
     "end_time": "2021-04-23T11:36:10.757168Z",
     "start_time": "2021-04-23T11:36:10.753223Z"
    }
   },
   "outputs": [
    {
     "data": {
      "text/plain": [
       "['row_number',\n",
       " 'customer_id',\n",
       " 'surname',\n",
       " 'credit_score',\n",
       " 'geography',\n",
       " 'gender',\n",
       " 'age',\n",
       " 'tenure',\n",
       " 'balance',\n",
       " 'num_of_products',\n",
       " 'has_cr_card',\n",
       " 'is_active_member',\n",
       " 'estimated_salary',\n",
       " 'exited']"
      ]
     },
     "execution_count": 8,
     "metadata": {},
     "output_type": "execute_result"
    }
   ],
   "source": [
    "cols_old = list(df0)\n",
    "snakecase = lambda x: inflection.underscore(x)\n",
    "col_news = list(map(snakecase, cols_old))\n",
    "\n",
    "# Rename columns\n",
    "df0.columns = col_news\n",
    "list(df0)"
   ]
  },
  {
   "cell_type": "code",
   "execution_count": 9,
   "id": "authorized-valentine",
   "metadata": {
    "ExecuteTime": {
     "end_time": "2021-04-23T11:36:10.768109Z",
     "start_time": "2021-04-23T11:36:10.758505Z"
    },
    "scrolled": false
   },
   "outputs": [
    {
     "data": {
      "text/html": [
       "<div>\n",
       "<style scoped>\n",
       "    .dataframe tbody tr th:only-of-type {\n",
       "        vertical-align: middle;\n",
       "    }\n",
       "\n",
       "    .dataframe tbody tr th {\n",
       "        vertical-align: top;\n",
       "    }\n",
       "\n",
       "    .dataframe thead th {\n",
       "        text-align: right;\n",
       "    }\n",
       "</style>\n",
       "<table border=\"1\" class=\"dataframe\">\n",
       "  <thead>\n",
       "    <tr style=\"text-align: right;\">\n",
       "      <th></th>\n",
       "      <th>row_number</th>\n",
       "      <th>customer_id</th>\n",
       "      <th>surname</th>\n",
       "      <th>credit_score</th>\n",
       "      <th>geography</th>\n",
       "      <th>gender</th>\n",
       "      <th>age</th>\n",
       "      <th>tenure</th>\n",
       "      <th>balance</th>\n",
       "      <th>num_of_products</th>\n",
       "      <th>has_cr_card</th>\n",
       "      <th>is_active_member</th>\n",
       "      <th>estimated_salary</th>\n",
       "      <th>exited</th>\n",
       "    </tr>\n",
       "  </thead>\n",
       "  <tbody>\n",
       "    <tr>\n",
       "      <th>0</th>\n",
       "      <td>1</td>\n",
       "      <td>15634602</td>\n",
       "      <td>Hargrave</td>\n",
       "      <td>619</td>\n",
       "      <td>France</td>\n",
       "      <td>Female</td>\n",
       "      <td>42</td>\n",
       "      <td>2</td>\n",
       "      <td>0.00</td>\n",
       "      <td>1</td>\n",
       "      <td>1</td>\n",
       "      <td>1</td>\n",
       "      <td>101348.88</td>\n",
       "      <td>1</td>\n",
       "    </tr>\n",
       "    <tr>\n",
       "      <th>1</th>\n",
       "      <td>2</td>\n",
       "      <td>15647311</td>\n",
       "      <td>Hill</td>\n",
       "      <td>608</td>\n",
       "      <td>Spain</td>\n",
       "      <td>Female</td>\n",
       "      <td>41</td>\n",
       "      <td>1</td>\n",
       "      <td>83807.86</td>\n",
       "      <td>1</td>\n",
       "      <td>0</td>\n",
       "      <td>1</td>\n",
       "      <td>112542.58</td>\n",
       "      <td>0</td>\n",
       "    </tr>\n",
       "    <tr>\n",
       "      <th>2</th>\n",
       "      <td>3</td>\n",
       "      <td>15619304</td>\n",
       "      <td>Onio</td>\n",
       "      <td>502</td>\n",
       "      <td>France</td>\n",
       "      <td>Female</td>\n",
       "      <td>42</td>\n",
       "      <td>8</td>\n",
       "      <td>159660.80</td>\n",
       "      <td>3</td>\n",
       "      <td>1</td>\n",
       "      <td>0</td>\n",
       "      <td>113931.57</td>\n",
       "      <td>1</td>\n",
       "    </tr>\n",
       "    <tr>\n",
       "      <th>3</th>\n",
       "      <td>4</td>\n",
       "      <td>15701354</td>\n",
       "      <td>Boni</td>\n",
       "      <td>699</td>\n",
       "      <td>France</td>\n",
       "      <td>Female</td>\n",
       "      <td>39</td>\n",
       "      <td>1</td>\n",
       "      <td>0.00</td>\n",
       "      <td>2</td>\n",
       "      <td>0</td>\n",
       "      <td>0</td>\n",
       "      <td>93826.63</td>\n",
       "      <td>0</td>\n",
       "    </tr>\n",
       "    <tr>\n",
       "      <th>4</th>\n",
       "      <td>5</td>\n",
       "      <td>15737888</td>\n",
       "      <td>Mitchell</td>\n",
       "      <td>850</td>\n",
       "      <td>Spain</td>\n",
       "      <td>Female</td>\n",
       "      <td>43</td>\n",
       "      <td>2</td>\n",
       "      <td>125510.82</td>\n",
       "      <td>1</td>\n",
       "      <td>1</td>\n",
       "      <td>1</td>\n",
       "      <td>79084.10</td>\n",
       "      <td>0</td>\n",
       "    </tr>\n",
       "  </tbody>\n",
       "</table>\n",
       "</div>"
      ],
      "text/plain": [
       "   row_number  customer_id   surname  credit_score geography  gender  age  tenure    balance  num_of_products  has_cr_card  is_active_member  estimated_salary  exited\n",
       "0           1     15634602  Hargrave           619    France  Female   42       2       0.00                1            1                 1         101348.88       1\n",
       "1           2     15647311      Hill           608     Spain  Female   41       1   83807.86                1            0                 1         112542.58       0\n",
       "2           3     15619304      Onio           502    France  Female   42       8  159660.80                3            1                 0         113931.57       1\n",
       "3           4     15701354      Boni           699    France  Female   39       1       0.00                2            0                 0          93826.63       0\n",
       "4           5     15737888  Mitchell           850     Spain  Female   43       2  125510.82                1            1                 1          79084.10       0"
      ]
     },
     "execution_count": 9,
     "metadata": {},
     "output_type": "execute_result"
    }
   ],
   "source": [
    "df0.head()"
   ]
  },
  {
   "cell_type": "markdown",
   "id": "fatal-governor",
   "metadata": {},
   "source": [
    "**Feature Description**:\n",
    "\n",
    "- **RowNumber**: The number of the columns.\n",
    "- **CustomerID**: Unique client identifier.\n",
    "- **Surname**: Client's surname.\n",
    "- **CreditScore**: Client's credit card score for the financial market A pontuação de Crédito do cliente para o mercado de consumo.\n",
    "- **Geography**: The country where the client lives.\n",
    "- **Gender**: Client's gender.\n",
    "- **Age**: Client's age.\n",
    "- **Tenure**: The number of years the client remained activate in the bank.\n",
    "- **Balance**: The monetary amount the client has in their current account.\n",
    "- **NumOfProducts**: The number of products purchased by the client.\n",
    "- **HasCrCard**: Point if the client has a credit card.\n",
    "- **IsActiveMember**: Tell if the client is an active member of the bank (within the last 12 months).\n",
    "- **EstimateSalary**: Client's annual salary estimate.\n",
    "- **Exited**: Indicates if the client is a churn (tagert variable)."
   ]
  },
  {
   "cell_type": "markdown",
   "id": "growing-arrival",
   "metadata": {},
   "source": [
    "## Data Dimension and Type"
   ]
  },
  {
   "cell_type": "code",
   "execution_count": 10,
   "id": "congressional-contrast",
   "metadata": {
    "ExecuteTime": {
     "end_time": "2021-04-23T11:36:10.772595Z",
     "start_time": "2021-04-23T11:36:10.769218Z"
    }
   },
   "outputs": [
    {
     "name": "stdout",
     "output_type": "stream",
     "text": [
      "Number of rows: 10000\n",
      "Number of columns: 14\n"
     ]
    }
   ],
   "source": [
    "print('Number of rows: {}'.format(df0.shape[0]))\n",
    "print('Number of columns: {}'.format(df0.shape[1]))"
   ]
  },
  {
   "cell_type": "code",
   "execution_count": 11,
   "id": "animated-characterization",
   "metadata": {
    "ExecuteTime": {
     "end_time": "2021-04-23T11:36:10.791702Z",
     "start_time": "2021-04-23T11:36:10.773761Z"
    },
    "scrolled": true
   },
   "outputs": [
    {
     "name": "stdout",
     "output_type": "stream",
     "text": [
      "<class 'pandas.core.frame.DataFrame'>\n",
      "RangeIndex: 10000 entries, 0 to 9999\n",
      "Data columns (total 14 columns):\n",
      " #   Column            Non-Null Count  Dtype  \n",
      "---  ------            --------------  -----  \n",
      " 0   row_number        10000 non-null  int64  \n",
      " 1   customer_id       10000 non-null  int64  \n",
      " 2   surname           10000 non-null  object \n",
      " 3   credit_score      10000 non-null  int64  \n",
      " 4   geography         10000 non-null  object \n",
      " 5   gender            10000 non-null  object \n",
      " 6   age               10000 non-null  int64  \n",
      " 7   tenure            10000 non-null  int64  \n",
      " 8   balance           10000 non-null  float64\n",
      " 9   num_of_products   10000 non-null  int64  \n",
      " 10  has_cr_card       10000 non-null  int64  \n",
      " 11  is_active_member  10000 non-null  int64  \n",
      " 12  estimated_salary  10000 non-null  float64\n",
      " 13  exited            10000 non-null  int64  \n",
      "dtypes: float64(2), int64(9), object(3)\n",
      "memory usage: 1.1+ MB\n"
     ]
    }
   ],
   "source": [
    "# check columns datatypes\n",
    "df0.info()"
   ]
  },
  {
   "cell_type": "markdown",
   "id": "stylish-camcorder",
   "metadata": {},
   "source": [
    "## Check for duplicates"
   ]
  },
  {
   "cell_type": "code",
   "execution_count": 12,
   "id": "played-virgin",
   "metadata": {
    "ExecuteTime": {
     "end_time": "2021-04-23T11:36:10.798277Z",
     "start_time": "2021-04-23T11:36:10.793204Z"
    },
    "scrolled": true
   },
   "outputs": [
    {
     "data": {
      "text/plain": [
       "0"
      ]
     },
     "execution_count": 12,
     "metadata": {},
     "output_type": "execute_result"
    }
   ],
   "source": [
    "# duplicates \n",
    "\n",
    "df0.duplicated(subset='customer_id').sum()"
   ]
  },
  {
   "cell_type": "markdown",
   "id": "naval-annual",
   "metadata": {},
   "source": [
    "## Check NA Values"
   ]
  },
  {
   "cell_type": "code",
   "execution_count": 13,
   "id": "important-appendix",
   "metadata": {
    "ExecuteTime": {
     "end_time": "2021-04-23T11:36:10.821930Z",
     "start_time": "2021-04-23T11:36:10.799724Z"
    }
   },
   "outputs": [
    {
     "data": {
      "text/html": [
       "<div>\n",
       "<style scoped>\n",
       "    .dataframe tbody tr th:only-of-type {\n",
       "        vertical-align: middle;\n",
       "    }\n",
       "\n",
       "    .dataframe tbody tr th {\n",
       "        vertical-align: top;\n",
       "    }\n",
       "\n",
       "    .dataframe thead th {\n",
       "        text-align: right;\n",
       "    }\n",
       "</style>\n",
       "<table border=\"1\" class=\"dataframe\">\n",
       "  <thead>\n",
       "    <tr style=\"text-align: right;\">\n",
       "      <th></th>\n",
       "      <th>missing value count</th>\n",
       "      <th>percentage (%)</th>\n",
       "    </tr>\n",
       "  </thead>\n",
       "  <tbody>\n",
       "    <tr>\n",
       "      <th>row_number</th>\n",
       "      <td>0</td>\n",
       "      <td>0.0</td>\n",
       "    </tr>\n",
       "    <tr>\n",
       "      <th>customer_id</th>\n",
       "      <td>0</td>\n",
       "      <td>0.0</td>\n",
       "    </tr>\n",
       "    <tr>\n",
       "      <th>surname</th>\n",
       "      <td>0</td>\n",
       "      <td>0.0</td>\n",
       "    </tr>\n",
       "    <tr>\n",
       "      <th>credit_score</th>\n",
       "      <td>0</td>\n",
       "      <td>0.0</td>\n",
       "    </tr>\n",
       "    <tr>\n",
       "      <th>geography</th>\n",
       "      <td>0</td>\n",
       "      <td>0.0</td>\n",
       "    </tr>\n",
       "    <tr>\n",
       "      <th>gender</th>\n",
       "      <td>0</td>\n",
       "      <td>0.0</td>\n",
       "    </tr>\n",
       "    <tr>\n",
       "      <th>age</th>\n",
       "      <td>0</td>\n",
       "      <td>0.0</td>\n",
       "    </tr>\n",
       "    <tr>\n",
       "      <th>tenure</th>\n",
       "      <td>0</td>\n",
       "      <td>0.0</td>\n",
       "    </tr>\n",
       "    <tr>\n",
       "      <th>balance</th>\n",
       "      <td>0</td>\n",
       "      <td>0.0</td>\n",
       "    </tr>\n",
       "    <tr>\n",
       "      <th>num_of_products</th>\n",
       "      <td>0</td>\n",
       "      <td>0.0</td>\n",
       "    </tr>\n",
       "    <tr>\n",
       "      <th>has_cr_card</th>\n",
       "      <td>0</td>\n",
       "      <td>0.0</td>\n",
       "    </tr>\n",
       "    <tr>\n",
       "      <th>is_active_member</th>\n",
       "      <td>0</td>\n",
       "      <td>0.0</td>\n",
       "    </tr>\n",
       "    <tr>\n",
       "      <th>estimated_salary</th>\n",
       "      <td>0</td>\n",
       "      <td>0.0</td>\n",
       "    </tr>\n",
       "    <tr>\n",
       "      <th>exited</th>\n",
       "      <td>0</td>\n",
       "      <td>0.0</td>\n",
       "    </tr>\n",
       "  </tbody>\n",
       "</table>\n",
       "</div>"
      ],
      "text/plain": [
       "                  missing value count  percentage (%)\n",
       "row_number                          0             0.0\n",
       "customer_id                         0             0.0\n",
       "surname                             0             0.0\n",
       "credit_score                        0             0.0\n",
       "geography                           0             0.0\n",
       "gender                              0             0.0\n",
       "age                                 0             0.0\n",
       "tenure                              0             0.0\n",
       "balance                             0             0.0\n",
       "num_of_products                     0             0.0\n",
       "has_cr_card                         0             0.0\n",
       "is_active_member                    0             0.0\n",
       "estimated_salary                    0             0.0\n",
       "exited                              0             0.0"
      ]
     },
     "execution_count": 13,
     "metadata": {},
     "output_type": "execute_result"
    }
   ],
   "source": [
    "missing_count = df0.isnull().sum()\n",
    "value_count = df0.isnull().count()\n",
    "\n",
    "missing_percentage = round(missing_count/value_count*100, 2)\n",
    "missing_df = pd.DataFrame({'missing value count': missing_count, 'percentage (%)': missing_percentage })\n",
    "missing_df"
   ]
  },
  {
   "cell_type": "code",
   "execution_count": 14,
   "id": "sporting-commitment",
   "metadata": {
    "ExecuteTime": {
     "end_time": "2021-04-23T11:36:11.211263Z",
     "start_time": "2021-04-23T11:36:10.823240Z"
    }
   },
   "outputs": [
    {
     "data": {
      "image/png": "[encoded data removed]",
      "text/plain": [
       "<Figure size 1800x720 with 2 Axes>"
      ]
     },
     "metadata": {},
     "output_type": "display_data"
    }
   ],
   "source": [
    "# check no missing values to confirm\n",
    "msno.matrix(df0);"
   ]
  },
  {
   "cell_type": "markdown",
   "id": "severe-puppy",
   "metadata": {},
   "source": [
    "## Descriptive Statistics"
   ]
  },
  {
   "cell_type": "code",
   "execution_count": 15,
   "id": "wrong-nothing",
   "metadata": {
    "ExecuteTime": {
     "end_time": "2021-04-23T11:36:11.245078Z",
     "start_time": "2021-04-23T11:36:11.212388Z"
    },
    "scrolled": false
   },
   "outputs": [
    {
     "data": {
      "text/html": [
       "<div>\n",
       "<style scoped>\n",
       "    .dataframe tbody tr th:only-of-type {\n",
       "        vertical-align: middle;\n",
       "    }\n",
       "\n",
       "    .dataframe tbody tr th {\n",
       "        vertical-align: top;\n",
       "    }\n",
       "\n",
       "    .dataframe thead th {\n",
       "        text-align: right;\n",
       "    }\n",
       "</style>\n",
       "<table border=\"1\" class=\"dataframe\">\n",
       "  <thead>\n",
       "    <tr style=\"text-align: right;\">\n",
       "      <th></th>\n",
       "      <th>row_number</th>\n",
       "      <th>customer_id</th>\n",
       "      <th>credit_score</th>\n",
       "      <th>age</th>\n",
       "      <th>tenure</th>\n",
       "      <th>balance</th>\n",
       "      <th>num_of_products</th>\n",
       "      <th>has_cr_card</th>\n",
       "      <th>is_active_member</th>\n",
       "      <th>estimated_salary</th>\n",
       "      <th>exited</th>\n",
       "    </tr>\n",
       "  </thead>\n",
       "  <tbody>\n",
       "    <tr>\n",
       "      <th>count</th>\n",
       "      <td>10000.00000</td>\n",
       "      <td>1.000000e+04</td>\n",
       "      <td>10000.000000</td>\n",
       "      <td>10000.000000</td>\n",
       "      <td>10000.000000</td>\n",
       "      <td>10000.000000</td>\n",
       "      <td>10000.000000</td>\n",
       "      <td>10000.00000</td>\n",
       "      <td>10000.000000</td>\n",
       "      <td>10000.000000</td>\n",
       "      <td>10000.000000</td>\n",
       "    </tr>\n",
       "    <tr>\n",
       "      <th>mean</th>\n",
       "      <td>5000.50000</td>\n",
       "      <td>1.569094e+07</td>\n",
       "      <td>650.528800</td>\n",
       "      <td>38.921800</td>\n",
       "      <td>5.012800</td>\n",
       "      <td>76485.889288</td>\n",
       "      <td>1.530200</td>\n",
       "      <td>0.70550</td>\n",
       "      <td>0.515100</td>\n",
       "      <td>100090.239881</td>\n",
       "      <td>0.203700</td>\n",
       "    </tr>\n",
       "    <tr>\n",
       "      <th>std</th>\n",
       "      <td>2886.89568</td>\n",
       "      <td>7.193619e+04</td>\n",
       "      <td>96.653299</td>\n",
       "      <td>10.487806</td>\n",
       "      <td>2.892174</td>\n",
       "      <td>62397.405202</td>\n",
       "      <td>0.581654</td>\n",
       "      <td>0.45584</td>\n",
       "      <td>0.499797</td>\n",
       "      <td>57510.492818</td>\n",
       "      <td>0.402769</td>\n",
       "    </tr>\n",
       "    <tr>\n",
       "      <th>min</th>\n",
       "      <td>1.00000</td>\n",
       "      <td>1.556570e+07</td>\n",
       "      <td>350.000000</td>\n",
       "      <td>18.000000</td>\n",
       "      <td>0.000000</td>\n",
       "      <td>0.000000</td>\n",
       "      <td>1.000000</td>\n",
       "      <td>0.00000</td>\n",
       "      <td>0.000000</td>\n",
       "      <td>11.580000</td>\n",
       "      <td>0.000000</td>\n",
       "    </tr>\n",
       "    <tr>\n",
       "      <th>25%</th>\n",
       "      <td>2500.75000</td>\n",
       "      <td>1.562853e+07</td>\n",
       "      <td>584.000000</td>\n",
       "      <td>32.000000</td>\n",
       "      <td>3.000000</td>\n",
       "      <td>0.000000</td>\n",
       "      <td>1.000000</td>\n",
       "      <td>0.00000</td>\n",
       "      <td>0.000000</td>\n",
       "      <td>51002.110000</td>\n",
       "      <td>0.000000</td>\n",
       "    </tr>\n",
       "    <tr>\n",
       "      <th>50%</th>\n",
       "      <td>5000.50000</td>\n",
       "      <td>1.569074e+07</td>\n",
       "      <td>652.000000</td>\n",
       "      <td>37.000000</td>\n",
       "      <td>5.000000</td>\n",
       "      <td>97198.540000</td>\n",
       "      <td>1.000000</td>\n",
       "      <td>1.00000</td>\n",
       "      <td>1.000000</td>\n",
       "      <td>100193.915000</td>\n",
       "      <td>0.000000</td>\n",
       "    </tr>\n",
       "    <tr>\n",
       "      <th>75%</th>\n",
       "      <td>7500.25000</td>\n",
       "      <td>1.575323e+07</td>\n",
       "      <td>718.000000</td>\n",
       "      <td>44.000000</td>\n",
       "      <td>7.000000</td>\n",
       "      <td>127644.240000</td>\n",
       "      <td>2.000000</td>\n",
       "      <td>1.00000</td>\n",
       "      <td>1.000000</td>\n",
       "      <td>149388.247500</td>\n",
       "      <td>0.000000</td>\n",
       "    </tr>\n",
       "    <tr>\n",
       "      <th>max</th>\n",
       "      <td>10000.00000</td>\n",
       "      <td>1.581569e+07</td>\n",
       "      <td>850.000000</td>\n",
       "      <td>92.000000</td>\n",
       "      <td>10.000000</td>\n",
       "      <td>250898.090000</td>\n",
       "      <td>4.000000</td>\n",
       "      <td>1.00000</td>\n",
       "      <td>1.000000</td>\n",
       "      <td>199992.480000</td>\n",
       "      <td>1.000000</td>\n",
       "    </tr>\n",
       "  </tbody>\n",
       "</table>\n",
       "</div>"
      ],
      "text/plain": [
       "        row_number   customer_id  credit_score           age        tenure        balance  num_of_products  has_cr_card  is_active_member  estimated_salary        exited\n",
       "count  10000.00000  1.000000e+04  10000.000000  10000.000000  10000.000000   10000.000000     10000.000000  10000.00000      10000.000000      10000.000000  10000.000000\n",
       "mean    5000.50000  1.569094e+07    650.528800     38.921800      5.012800   76485.889288         1.530200      0.70550          0.515100     100090.239881      0.203700\n",
       "std     2886.89568  7.193619e+04     96.653299     10.487806      2.892174   62397.405202         0.581654      0.45584          0.499797      57510.492818      0.402769\n",
       "min        1.00000  1.556570e+07    350.000000     18.000000      0.000000       0.000000         1.000000      0.00000          0.000000         11.580000      0.000000\n",
       "25%     2500.75000  1.562853e+07    584.000000     32.000000      3.000000       0.000000         1.000000      0.00000          0.000000      51002.110000      0.000000\n",
       "50%     5000.50000  1.569074e+07    652.000000     37.000000      5.000000   97198.540000         1.000000      1.00000          1.000000     100193.915000      0.000000\n",
       "75%     7500.25000  1.575323e+07    718.000000     44.000000      7.000000  127644.240000         2.000000      1.00000          1.000000     149388.247500      0.000000\n",
       "max    10000.00000  1.581569e+07    850.000000     92.000000     10.000000  250898.090000         4.000000      1.00000          1.000000     199992.480000      1.000000"
      ]
     },
     "execution_count": 15,
     "metadata": {},
     "output_type": "execute_result"
    }
   ],
   "source": [
    "df0.describe()"
   ]
  },
  {
   "cell_type": "code",
   "execution_count": 16,
   "id": "naval-consequence",
   "metadata": {
    "ExecuteTime": {
     "end_time": "2021-04-23T11:36:11.249130Z",
     "start_time": "2021-04-23T11:36:11.246199Z"
    }
   },
   "outputs": [
    {
     "data": {
      "text/plain": [
       "['row_number',\n",
       " 'customer_id',\n",
       " 'surname',\n",
       " 'credit_score',\n",
       " 'geography',\n",
       " 'gender',\n",
       " 'age',\n",
       " 'tenure',\n",
       " 'balance',\n",
       " 'num_of_products',\n",
       " 'has_cr_card',\n",
       " 'is_active_member',\n",
       " 'estimated_salary',\n",
       " 'exited']"
      ]
     },
     "execution_count": 16,
     "metadata": {},
     "output_type": "execute_result"
    }
   ],
   "source": [
    "list(df0)"
   ]
  },
  {
   "cell_type": "code",
   "execution_count": 17,
   "id": "attractive-tucson",
   "metadata": {
    "ExecuteTime": {
     "end_time": "2021-04-23T11:36:11.289759Z",
     "start_time": "2021-04-23T11:36:11.250764Z"
    }
   },
   "outputs": [],
   "source": [
    "# transforming categorical 1 or 0 values into 'yes' or 'no\n",
    "col_transform = ['has_cr_card', 'is_active_member']\n",
    "\n",
    "for col in col_transform:\n",
    "    df0[col] = df0[col].astype('str') \n",
    "\n",
    "for col in col_transform:\n",
    "    df0[col] = df0[col].apply(lambda x: 'yes' if x=='1' else 'no')\n"
   ]
  },
  {
   "cell_type": "code",
   "execution_count": 18,
   "id": "fitting-highlight",
   "metadata": {
    "ExecuteTime": {
     "end_time": "2021-04-23T11:36:11.298739Z",
     "start_time": "2021-04-23T11:36:11.291271Z"
    }
   },
   "outputs": [],
   "source": [
    "# separate numerical and categorical attributes\n",
    "\n",
    "num_att = df0.select_dtypes(include = 'number')\n",
    "cat_att = df0.select_dtypes(include = 'object')"
   ]
  },
  {
   "cell_type": "markdown",
   "id": "tropical-village",
   "metadata": {},
   "source": [
    "### Numerical Attributes"
   ]
  },
  {
   "cell_type": "code",
   "execution_count": 19,
   "id": "resistant-elephant",
   "metadata": {
    "ExecuteTime": {
     "end_time": "2021-04-23T11:36:11.345393Z",
     "start_time": "2021-04-23T11:36:11.300072Z"
    },
    "scrolled": true
   },
   "outputs": [
    {
     "data": {
      "text/html": [
       "<div>\n",
       "<style scoped>\n",
       "    .dataframe tbody tr th:only-of-type {\n",
       "        vertical-align: middle;\n",
       "    }\n",
       "\n",
       "    .dataframe tbody tr th {\n",
       "        vertical-align: top;\n",
       "    }\n",
       "\n",
       "    .dataframe thead th {\n",
       "        text-align: right;\n",
       "    }\n",
       "</style>\n",
       "<table border=\"1\" class=\"dataframe\">\n",
       "  <thead>\n",
       "    <tr style=\"text-align: right;\">\n",
       "      <th></th>\n",
       "      <th>attributes</th>\n",
       "      <th>min</th>\n",
       "      <th>max</th>\n",
       "      <th>range</th>\n",
       "      <th>mean</th>\n",
       "      <th>median</th>\n",
       "      <th>std</th>\n",
       "      <th>skew</th>\n",
       "      <th>kurtosis</th>\n",
       "    </tr>\n",
       "  </thead>\n",
       "  <tbody>\n",
       "    <tr>\n",
       "      <th>0</th>\n",
       "      <td>row_number</td>\n",
       "      <td>1.00</td>\n",
       "      <td>10000.00</td>\n",
       "      <td>9999.00</td>\n",
       "      <td>5.000500e+03</td>\n",
       "      <td>5.000500e+03</td>\n",
       "      <td>2886.751332</td>\n",
       "      <td>0.000000</td>\n",
       "      <td>-1.200000</td>\n",
       "    </tr>\n",
       "    <tr>\n",
       "      <th>1</th>\n",
       "      <td>customer_id</td>\n",
       "      <td>15565701.00</td>\n",
       "      <td>15815690.00</td>\n",
       "      <td>249989.00</td>\n",
       "      <td>1.569094e+07</td>\n",
       "      <td>1.569074e+07</td>\n",
       "      <td>71932.589224</td>\n",
       "      <td>0.001149</td>\n",
       "      <td>-1.196113</td>\n",
       "    </tr>\n",
       "    <tr>\n",
       "      <th>2</th>\n",
       "      <td>credit_score</td>\n",
       "      <td>350.00</td>\n",
       "      <td>850.00</td>\n",
       "      <td>500.00</td>\n",
       "      <td>6.505288e+02</td>\n",
       "      <td>6.520000e+02</td>\n",
       "      <td>96.648466</td>\n",
       "      <td>-0.071607</td>\n",
       "      <td>-0.425726</td>\n",
       "    </tr>\n",
       "    <tr>\n",
       "      <th>3</th>\n",
       "      <td>age</td>\n",
       "      <td>18.00</td>\n",
       "      <td>92.00</td>\n",
       "      <td>74.00</td>\n",
       "      <td>3.892180e+01</td>\n",
       "      <td>3.700000e+01</td>\n",
       "      <td>10.487282</td>\n",
       "      <td>1.011320</td>\n",
       "      <td>1.395347</td>\n",
       "    </tr>\n",
       "    <tr>\n",
       "      <th>4</th>\n",
       "      <td>tenure</td>\n",
       "      <td>0.00</td>\n",
       "      <td>10.00</td>\n",
       "      <td>10.00</td>\n",
       "      <td>5.012800e+00</td>\n",
       "      <td>5.000000e+00</td>\n",
       "      <td>2.892030</td>\n",
       "      <td>0.010991</td>\n",
       "      <td>-1.165225</td>\n",
       "    </tr>\n",
       "    <tr>\n",
       "      <th>5</th>\n",
       "      <td>balance</td>\n",
       "      <td>0.00</td>\n",
       "      <td>250898.09</td>\n",
       "      <td>250898.09</td>\n",
       "      <td>7.648589e+04</td>\n",
       "      <td>9.719854e+04</td>\n",
       "      <td>62394.285254</td>\n",
       "      <td>-0.141109</td>\n",
       "      <td>-1.489412</td>\n",
       "    </tr>\n",
       "    <tr>\n",
       "      <th>6</th>\n",
       "      <td>num_of_products</td>\n",
       "      <td>1.00</td>\n",
       "      <td>4.00</td>\n",
       "      <td>3.00</td>\n",
       "      <td>1.530200e+00</td>\n",
       "      <td>1.000000e+00</td>\n",
       "      <td>0.581625</td>\n",
       "      <td>0.745568</td>\n",
       "      <td>0.582981</td>\n",
       "    </tr>\n",
       "    <tr>\n",
       "      <th>7</th>\n",
       "      <td>estimated_salary</td>\n",
       "      <td>11.58</td>\n",
       "      <td>199992.48</td>\n",
       "      <td>199980.90</td>\n",
       "      <td>1.000902e+05</td>\n",
       "      <td>1.001939e+05</td>\n",
       "      <td>57507.617221</td>\n",
       "      <td>0.002085</td>\n",
       "      <td>-1.181518</td>\n",
       "    </tr>\n",
       "    <tr>\n",
       "      <th>8</th>\n",
       "      <td>exited</td>\n",
       "      <td>0.00</td>\n",
       "      <td>1.00</td>\n",
       "      <td>1.00</td>\n",
       "      <td>2.037000e-01</td>\n",
       "      <td>0.000000e+00</td>\n",
       "      <td>0.402748</td>\n",
       "      <td>1.471611</td>\n",
       "      <td>0.165671</td>\n",
       "    </tr>\n",
       "  </tbody>\n",
       "</table>\n",
       "</div>"
      ],
      "text/plain": [
       "         attributes          min          max      range          mean        median           std      skew  kurtosis\n",
       "0        row_number         1.00     10000.00    9999.00  5.000500e+03  5.000500e+03   2886.751332  0.000000 -1.200000\n",
       "1       customer_id  15565701.00  15815690.00  249989.00  1.569094e+07  1.569074e+07  71932.589224  0.001149 -1.196113\n",
       "2      credit_score       350.00       850.00     500.00  6.505288e+02  6.520000e+02     96.648466 -0.071607 -0.425726\n",
       "3               age        18.00        92.00      74.00  3.892180e+01  3.700000e+01     10.487282  1.011320  1.395347\n",
       "4            tenure         0.00        10.00      10.00  5.012800e+00  5.000000e+00      2.892030  0.010991 -1.165225\n",
       "5           balance         0.00    250898.09  250898.09  7.648589e+04  9.719854e+04  62394.285254 -0.141109 -1.489412\n",
       "6   num_of_products         1.00         4.00       3.00  1.530200e+00  1.000000e+00      0.581625  0.745568  0.582981\n",
       "7  estimated_salary        11.58    199992.48  199980.90  1.000902e+05  1.001939e+05  57507.617221  0.002085 -1.181518\n",
       "8            exited         0.00         1.00       1.00  2.037000e-01  0.000000e+00      0.402748  1.471611  0.165671"
      ]
     },
     "execution_count": 19,
     "metadata": {},
     "output_type": "execute_result"
    }
   ],
   "source": [
    "# Central Tendency - Mean, median\n",
    "ct1 = pd.DataFrame( num_att.apply( np.mean ) ).T\n",
    "ct2 = pd.DataFrame( num_att.apply( np.median ) ).T\n",
    "\n",
    "# Dispersion - std, min, max, range, skew, kurtoisis\n",
    "d1 = pd.DataFrame(num_att.apply( np.std )).T\n",
    "d2 = pd.DataFrame(num_att.apply( min )).T\n",
    "d3 = pd.DataFrame(num_att.apply( max )).T\n",
    "d4 = pd.DataFrame(num_att.apply( lambda x: x.max() - x.min() )).T\n",
    "d5 = pd.DataFrame(num_att.apply( lambda x: x.skew() )).T\n",
    "d6 = pd.DataFrame(num_att.apply( lambda x: x.kurtosis() )).T\n",
    "\n",
    "#concatenate\n",
    "m = pd.concat( [d2, d3, d4, ct1, ct2, d1, d5, d6] ).T.reset_index()\n",
    "\n",
    "\n",
    "m.columns = ['attributes', 'min', 'max', 'range', 'mean', 'median', 'std', 'skew', 'kurtosis']\n",
    "m"
   ]
  },
  {
   "cell_type": "code",
   "execution_count": 20,
   "id": "laughing-piece",
   "metadata": {
    "ExecuteTime": {
     "end_time": "2021-04-23T11:36:11.352230Z",
     "start_time": "2021-04-23T11:36:11.346552Z"
    },
    "scrolled": true
   },
   "outputs": [
    {
     "data": {
      "text/plain": [
       "row_number          10000\n",
       "customer_id         10000\n",
       "credit_score          460\n",
       "age                    70\n",
       "tenure                 11\n",
       "balance              6382\n",
       "num_of_products         4\n",
       "estimated_salary     9999\n",
       "exited                  2\n",
       "dtype: int64"
      ]
     },
     "execution_count": 20,
     "metadata": {},
     "output_type": "execute_result"
    }
   ],
   "source": [
    "num_att.apply( lambda x: x.unique().shape[0])"
   ]
  },
  {
   "cell_type": "code",
   "execution_count": 21,
   "id": "spoken-hudson",
   "metadata": {
    "ExecuteTime": {
     "end_time": "2021-04-23T11:36:13.272030Z",
     "start_time": "2021-04-23T11:36:11.353483Z"
    },
    "scrolled": false
   },
   "outputs": [
    {
     "name": "stderr",
     "output_type": "stream",
     "text": [
      "/home/marxcerqueira/.pyenv/versions/3.9.1/envs/Client-Churn-Prediction/lib/python3.9/site-packages/pandas/plotting/_matplotlib/tools.py:400: MatplotlibDeprecationWarning: \n",
      "The is_first_col function was deprecated in Matplotlib 3.4 and will be removed two minor releases later. Use ax.get_subplotspec().is_first_col() instead.\n",
      "  if ax.is_first_col():\n"
     ]
    },
    {
     "data": {
      "image/png": "[encoded data removed]",
      "text/plain": [
       "<Figure size 1800x864 with 9 Axes>"
      ]
     },
     "metadata": {},
     "output_type": "display_data"
    }
   ],
   "source": [
    "num_att.hist(bins = 80);"
   ]
  },
  {
   "cell_type": "code",
   "execution_count": null,
   "id": "confused-tanzania",
   "metadata": {},
   "outputs": [],
   "source": []
  },
  {
   "cell_type": "markdown",
   "id": "genuine-finnish",
   "metadata": {},
   "source": [
    " \n",
    "- Credit score ranges from 350 up to 850. Mean = 650.75. Median = 652.\n",
    "\n",
    "- Age ranges from 18 up to 92. Mean = 38.95. Median = 37. 75% of the observations are up to the age 44.\n",
    "\n",
    "- Tenure (number of years that the customer was active) ranges from 0 to 10. Mean = 5.02. Median = 5. \n",
    "\n",
    "- According the histogram, the number of customers with tenure equal to zero and 10 is lower than the other tenure values.\n",
    "\n",
    "- Balance ranges from zero up to 238,387. Mean = 76,381. Median = 97,055. 25% of the observations have value equal to zero.\n",
    "\n",
    "- Number of products ranges from 1 to 4. Mean = 1.53. Median = 1. 75% of the observations have value equal to 2. The histogram shows that the majority of number of products is 1 and 2. There is no number of products equal to zero, that is, all customers have bought at least one product.\n",
    "\n",
    "- has_cr_card mean = 0.7087, that is, 70.87% of the observations have has_cr_card equal to 1.\n",
    "\n",
    "- is_active_member mean = 0.5149, that is, 51.49% of the customers has done a bank activity in the past 12 months.\n",
    "\n",
    "- Estimated salary ranges from 11.58 up to 199,992. Mean = 99,730. Median = 99,446. The histogram shows that the distribution is similar to an uniform distribution.\n",
    "\n",
    "- less client in churn, about 20%"
   ]
  },
  {
   "cell_type": "markdown",
   "id": "injured-translator",
   "metadata": {},
   "source": [
    "### Categorical Attributes"
   ]
  },
  {
   "cell_type": "code",
   "execution_count": 22,
   "id": "abandoned-justice",
   "metadata": {
    "ExecuteTime": {
     "end_time": "2021-04-23T11:36:13.278812Z",
     "start_time": "2021-04-23T11:36:13.273036Z"
    },
    "scrolled": true
   },
   "outputs": [
    {
     "data": {
      "text/plain": [
       "surname             2932\n",
       "geography              3\n",
       "gender                 2\n",
       "has_cr_card            2\n",
       "is_active_member       2\n",
       "dtype: int64"
      ]
     },
     "execution_count": 22,
     "metadata": {},
     "output_type": "execute_result"
    }
   ],
   "source": [
    "# check unique values of categorical features\n",
    "cat_att.apply( lambda x: x.unique().shape[0])"
   ]
  },
  {
   "cell_type": "code",
   "execution_count": 23,
   "id": "civilian-triangle",
   "metadata": {
    "ExecuteTime": {
     "end_time": "2021-04-23T11:36:13.291326Z",
     "start_time": "2021-04-23T11:36:13.281099Z"
    }
   },
   "outputs": [
    {
     "data": {
      "text/plain": [
       "France     50.14\n",
       "Germany    25.09\n",
       "Spain      24.77\n",
       "Name: geography, dtype: float64"
      ]
     },
     "execution_count": 23,
     "metadata": {},
     "output_type": "execute_result"
    }
   ],
   "source": [
    "geo_percentage = df0['geography'].value_counts(normalize = True ) * 100\n",
    "geo_percentage"
   ]
  },
  {
   "cell_type": "code",
   "execution_count": 24,
   "id": "radical-testing",
   "metadata": {
    "ExecuteTime": {
     "end_time": "2021-04-23T11:36:13.299162Z",
     "start_time": "2021-04-23T11:36:13.293610Z"
    }
   },
   "outputs": [
    {
     "data": {
      "text/plain": [
       "Male      54.57\n",
       "Female    45.43\n",
       "Name: gender, dtype: float64"
      ]
     },
     "execution_count": 24,
     "metadata": {},
     "output_type": "execute_result"
    }
   ],
   "source": [
    "gender_percentage = df0['gender'].value_counts(normalize = True)*100\n",
    "gender_percentage"
   ]
  },
  {
   "cell_type": "code",
   "execution_count": 25,
   "id": "ideal-coordinator",
   "metadata": {
    "ExecuteTime": {
     "end_time": "2021-04-23T11:36:13.306886Z",
     "start_time": "2021-04-23T11:36:13.300801Z"
    },
    "scrolled": true
   },
   "outputs": [
    {
     "data": {
      "text/plain": [
       "yes    70.55\n",
       "no     29.45\n",
       "Name: has_cr_card, dtype: float64"
      ]
     },
     "execution_count": 25,
     "metadata": {},
     "output_type": "execute_result"
    }
   ],
   "source": [
    "cred_card_percentage = df0['has_cr_card'].value_counts(normalize = True ) * 100\n",
    "cred_card_percentage"
   ]
  },
  {
   "cell_type": "code",
   "execution_count": 26,
   "id": "addressed-boating",
   "metadata": {
    "ExecuteTime": {
     "end_time": "2021-04-23T11:36:13.313782Z",
     "start_time": "2021-04-23T11:36:13.308240Z"
    }
   },
   "outputs": [
    {
     "data": {
      "text/plain": [
       "yes    51.51\n",
       "no     48.49\n",
       "Name: is_active_member, dtype: float64"
      ]
     },
     "execution_count": 26,
     "metadata": {},
     "output_type": "execute_result"
    }
   ],
   "source": [
    "active_member_percentage = df0['is_active_member'].value_counts(normalize = True) * 100\n",
    "active_member_percentage"
   ]
  },
  {
   "cell_type": "code",
   "execution_count": 27,
   "id": "framed-syndication",
   "metadata": {
    "ExecuteTime": {
     "end_time": "2021-04-23T11:36:13.872695Z",
     "start_time": "2021-04-23T11:36:13.314828Z"
    },
    "scrolled": false
   },
   "outputs": [
    {
     "ename": "NameError",
     "evalue": "name 'exited_percentage' is not defined",
     "output_type": "error",
     "traceback": [
      "\u001b[0;31m---------------------------------------------------------------------------\u001b[0m",
      "\u001b[0;31mNameError\u001b[0m                                 Traceback (most recent call last)",
      "\u001b[0;32m<ipython-input-27-23f5357ff7c5>\u001b[0m in \u001b[0;36m<module>\u001b[0;34m\u001b[0m\n\u001b[1;32m     16\u001b[0m \u001b[0;34m\u001b[0m\u001b[0m\n\u001b[1;32m     17\u001b[0m \u001b[0msubplot\u001b[0m\u001b[0;34m(\u001b[0m\u001b[0;36m2\u001b[0m\u001b[0;34m,\u001b[0m \u001b[0;36m3\u001b[0m\u001b[0;34m,\u001b[0m \u001b[0;36m5\u001b[0m\u001b[0;34m)\u001b[0m\u001b[0;34m\u001b[0m\u001b[0;34m\u001b[0m\u001b[0m\n\u001b[0;32m---> 18\u001b[0;31m \u001b[0msns\u001b[0m\u001b[0;34m.\u001b[0m\u001b[0mbarplot\u001b[0m\u001b[0;34m(\u001b[0m\u001b[0mdata\u001b[0m \u001b[0;34m=\u001b[0m \u001b[0mdf0\u001b[0m\u001b[0;34m,\u001b[0m \u001b[0mx\u001b[0m \u001b[0;34m=\u001b[0m \u001b[0mexited_percentage\u001b[0m\u001b[0;34m.\u001b[0m\u001b[0mindex\u001b[0m\u001b[0;34m,\u001b[0m \u001b[0my\u001b[0m \u001b[0;34m=\u001b[0m \u001b[0mexited_percentage\u001b[0m\u001b[0;34m)\u001b[0m\u001b[0;34m\u001b[0m\u001b[0;34m\u001b[0m\u001b[0m\n\u001b[0m\u001b[1;32m     19\u001b[0m \u001b[0mplt\u001b[0m\u001b[0;34m.\u001b[0m\u001b[0mylabel\u001b[0m\u001b[0;34m(\u001b[0m\u001b[0;34m'%'\u001b[0m\u001b[0;34m)\u001b[0m\u001b[0;34m\u001b[0m\u001b[0;34m\u001b[0m\u001b[0m\n\u001b[1;32m     20\u001b[0m \u001b[0mplt\u001b[0m\u001b[0;34m.\u001b[0m\u001b[0mtitle\u001b[0m\u001b[0;34m(\u001b[0m\u001b[0;34m'Churn Percentage'\u001b[0m\u001b[0;34m)\u001b[0m\u001b[0;34m;\u001b[0m\u001b[0;34m\u001b[0m\u001b[0;34m\u001b[0m\u001b[0m\n",
      "\u001b[0;31mNameError\u001b[0m: name 'exited_percentage' is not defined"
     ]
    },
    {
     "data": {
      "image/png": "[encoded data removed]",
      "text/plain": [
       "<Figure size 1800x864 with 5 Axes>"
      ]
     },
     "metadata": {},
     "output_type": "display_data"
    }
   ],
   "source": [
    "subplot(2, 3, 1)\n",
    "sns.barplot(x = geo_percentage.index, y = geo_percentage)\n",
    "plt.ylabel('Geography (%)');\n",
    "\n",
    "subplot(2, 3, 2)\n",
    "sns.barplot(x = gender_percentage.index, y = gender_percentage)\n",
    "plt.ylabel('Gender (%)');\n",
    "\n",
    "subplot(2, 3, 3)\n",
    "sns.barplot(x = cred_card_percentage.index, y = cred_card_percentage)\n",
    "plt.ylabel('Has Credit Card (%)');\n",
    "\n",
    "subplot(2, 3, 4)\n",
    "sns.barplot(x = active_member_percentage.index, y = active_member_percentage)\n",
    "plt.ylabel('Is a Active Member (%)')\n",
    "\n",
    "# subplot(2, 3, 5)\n",
    "# sns.barplot(data = df0, x = exited_percentage.index, y = exited_percentage)\n",
    "# plt.ylabel('%')\n",
    "# plt.title('Churn Percentage');"
   ]
  },
  {
   "cell_type": "code",
   "execution_count": null,
   "id": "blocked-regression",
   "metadata": {},
   "outputs": [],
   "source": []
  },
  {
   "cell_type": "markdown",
   "id": "frequent-river",
   "metadata": {},
   "source": [
    "### Zero values distribution"
   ]
  },
  {
   "cell_type": "markdown",
   "id": "charming-polish",
   "metadata": {},
   "source": [
    " Sometimes the data isn't missing (NaNs), but it can be in a form of an oddly high number of zero values \n",
    " \n",
    " **Conclusion**: The 'Balance' columns have a great number of zeros, but it doesn't mean they are missing values (NaNs). Nevertheless, the Data Science team should get in contact with the business team to check if this number is correct"
   ]
  },
  {
   "cell_type": "code",
   "execution_count": 28,
   "id": "growing-perth",
   "metadata": {
    "ExecuteTime": {
     "end_time": "2021-04-23T11:36:41.403553Z",
     "start_time": "2021-04-23T11:36:41.365294Z"
    }
   },
   "outputs": [],
   "source": [
    "# create DataFrame with zero and non zero values\n",
    "num_zero = num_att.copy()\n",
    "num_col = num_zero.columns\n",
    "\n",
    "for col in num_col :\n",
    "    num_zero[col] = num_zero[col].apply(lambda x: 'zero' if x==0 else 'not zero')"
   ]
  },
  {
   "cell_type": "code",
   "execution_count": 29,
   "id": "inappropriate-stroke",
   "metadata": {
    "ExecuteTime": {
     "end_time": "2021-04-23T11:36:44.955360Z",
     "start_time": "2021-04-23T11:36:44.933261Z"
    }
   },
   "outputs": [
    {
     "data": {
      "text/plain": [
       "row_number          1\n",
       "customer_id         1\n",
       "credit_score        1\n",
       "age                 1\n",
       "tenure              2\n",
       "balance             2\n",
       "num_of_products     1\n",
       "estimated_salary    1\n",
       "exited              2\n",
       "dtype: int64"
      ]
     },
     "execution_count": 29,
     "metadata": {},
     "output_type": "execute_result"
    }
   ],
   "source": [
    "# check which columns have zero values \n",
    "num_zero.apply( lambda x: x.unique().shape[0])"
   ]
  },
  {
   "cell_type": "code",
   "execution_count": 30,
   "id": "described-knock",
   "metadata": {
    "ExecuteTime": {
     "end_time": "2021-04-23T11:36:45.874222Z",
     "start_time": "2021-04-23T11:36:45.627587Z"
    },
    "scrolled": false
   },
   "outputs": [
    {
     "data": {
      "image/png": "[encoded data removed]",
      "text/plain": [
       "<Figure size 1800x864 with 3 Axes>"
      ]
     },
     "metadata": {},
     "output_type": "display_data"
    }
   ],
   "source": [
    "#Plot zero values proportion \n",
    "plt.subplot(1,3,1)\n",
    "sns.countplot(x = 'balance', data = num_zero) \n",
    "\n",
    "plt.subplot(1,3,2)\n",
    "sns.countplot(x = 'tenure', data = num_zero) \n",
    "\n",
    "plt.subplot(1,3,3)\n",
    "sns.countplot(x = 'exited', data = num_zero);"
   ]
  },
  {
   "cell_type": "code",
   "execution_count": null,
   "id": "tough-channels",
   "metadata": {},
   "outputs": [],
   "source": []
  },
  {
   "cell_type": "markdown",
   "id": "coastal-pakistan",
   "metadata": {},
   "source": [
    "# FEATURE ENGINEERING"
   ]
  },
  {
   "cell_type": "code",
   "execution_count": 31,
   "id": "public-export",
   "metadata": {
    "ExecuteTime": {
     "end_time": "2021-04-23T11:36:47.368066Z",
     "start_time": "2021-04-23T11:36:47.363204Z"
    }
   },
   "outputs": [],
   "source": [
    "# dataset copy\n",
    "df1 = df0.copy()"
   ]
  },
  {
   "cell_type": "markdown",
   "id": "objective-blogger",
   "metadata": {},
   "source": [
    "## Hypothesis Mindmap"
   ]
  },
  {
   "cell_type": "code",
   "execution_count": 32,
   "id": "imposed-singapore",
   "metadata": {
    "ExecuteTime": {
     "end_time": "2021-04-23T11:36:48.422622Z",
     "start_time": "2021-04-23T11:36:48.406205Z"
    },
    "scrolled": false
   },
   "outputs": [
    {
     "data": {
      "image/png": "[encoded data removed]",
      "text/plain": [
       "<IPython.core.display.Image object>"
      ]
     },
     "execution_count": 32,
     "metadata": {},
     "output_type": "execute_result"
    }
   ],
   "source": [
    "Image('/home/marxcerqueira/repos/Data-Science-Projects/Kaggle-Client-Churn-Prediction/reports/figures/Churn.png')"
   ]
  },
  {
   "cell_type": "markdown",
   "id": "skilled-yield",
   "metadata": {},
   "source": [
    "    . The goal of the hypothesis mind-map is to answer questions that are not clear in the dataset. To sum up it's a road map of which analysis do I have to do to validate hypothesis of the business and to which features do I have to create for a better understanding of the data during the Exploratory Data Analysis\n",
    "\n",
    "Motivação da feature engineering:\n",
    "    - ter variáveis disponíveis para estudo durante a Análise Exploratória de Dados e o mapa mental ajuda nessa atividade.\n",
    "    - Um roteiro para mostrar quais análises preciso fazer para validar as hipóteses e quais variáveis precisarei ter para validar as hipóteses\n",
    "    "
   ]
  },
  {
   "cell_type": "code",
   "execution_count": 33,
   "id": "heard-minute",
   "metadata": {
    "ExecuteTime": {
     "end_time": "2021-04-23T11:36:50.489300Z",
     "start_time": "2021-04-23T11:36:50.464463Z"
    }
   },
   "outputs": [
    {
     "data": {
      "text/html": [
       "<div>\n",
       "<style scoped>\n",
       "    .dataframe tbody tr th:only-of-type {\n",
       "        vertical-align: middle;\n",
       "    }\n",
       "\n",
       "    .dataframe tbody tr th {\n",
       "        vertical-align: top;\n",
       "    }\n",
       "\n",
       "    .dataframe thead th {\n",
       "        text-align: right;\n",
       "    }\n",
       "</style>\n",
       "<table border=\"1\" class=\"dataframe\">\n",
       "  <thead>\n",
       "    <tr style=\"text-align: right;\">\n",
       "      <th></th>\n",
       "      <th>row_number</th>\n",
       "      <th>customer_id</th>\n",
       "      <th>surname</th>\n",
       "      <th>credit_score</th>\n",
       "      <th>geography</th>\n",
       "      <th>gender</th>\n",
       "      <th>age</th>\n",
       "      <th>tenure</th>\n",
       "      <th>balance</th>\n",
       "      <th>num_of_products</th>\n",
       "      <th>has_cr_card</th>\n",
       "      <th>is_active_member</th>\n",
       "      <th>estimated_salary</th>\n",
       "      <th>exited</th>\n",
       "    </tr>\n",
       "  </thead>\n",
       "  <tbody>\n",
       "    <tr>\n",
       "      <th>0</th>\n",
       "      <td>1</td>\n",
       "      <td>15634602</td>\n",
       "      <td>Hargrave</td>\n",
       "      <td>619</td>\n",
       "      <td>France</td>\n",
       "      <td>Female</td>\n",
       "      <td>42</td>\n",
       "      <td>2</td>\n",
       "      <td>0.00</td>\n",
       "      <td>1</td>\n",
       "      <td>yes</td>\n",
       "      <td>yes</td>\n",
       "      <td>101348.88</td>\n",
       "      <td>1</td>\n",
       "    </tr>\n",
       "    <tr>\n",
       "      <th>1</th>\n",
       "      <td>2</td>\n",
       "      <td>15647311</td>\n",
       "      <td>Hill</td>\n",
       "      <td>608</td>\n",
       "      <td>Spain</td>\n",
       "      <td>Female</td>\n",
       "      <td>41</td>\n",
       "      <td>1</td>\n",
       "      <td>83807.86</td>\n",
       "      <td>1</td>\n",
       "      <td>no</td>\n",
       "      <td>yes</td>\n",
       "      <td>112542.58</td>\n",
       "      <td>0</td>\n",
       "    </tr>\n",
       "    <tr>\n",
       "      <th>2</th>\n",
       "      <td>3</td>\n",
       "      <td>15619304</td>\n",
       "      <td>Onio</td>\n",
       "      <td>502</td>\n",
       "      <td>France</td>\n",
       "      <td>Female</td>\n",
       "      <td>42</td>\n",
       "      <td>8</td>\n",
       "      <td>159660.80</td>\n",
       "      <td>3</td>\n",
       "      <td>yes</td>\n",
       "      <td>no</td>\n",
       "      <td>113931.57</td>\n",
       "      <td>1</td>\n",
       "    </tr>\n",
       "    <tr>\n",
       "      <th>3</th>\n",
       "      <td>4</td>\n",
       "      <td>15701354</td>\n",
       "      <td>Boni</td>\n",
       "      <td>699</td>\n",
       "      <td>France</td>\n",
       "      <td>Female</td>\n",
       "      <td>39</td>\n",
       "      <td>1</td>\n",
       "      <td>0.00</td>\n",
       "      <td>2</td>\n",
       "      <td>no</td>\n",
       "      <td>no</td>\n",
       "      <td>93826.63</td>\n",
       "      <td>0</td>\n",
       "    </tr>\n",
       "    <tr>\n",
       "      <th>4</th>\n",
       "      <td>5</td>\n",
       "      <td>15737888</td>\n",
       "      <td>Mitchell</td>\n",
       "      <td>850</td>\n",
       "      <td>Spain</td>\n",
       "      <td>Female</td>\n",
       "      <td>43</td>\n",
       "      <td>2</td>\n",
       "      <td>125510.82</td>\n",
       "      <td>1</td>\n",
       "      <td>yes</td>\n",
       "      <td>yes</td>\n",
       "      <td>79084.10</td>\n",
       "      <td>0</td>\n",
       "    </tr>\n",
       "  </tbody>\n",
       "</table>\n",
       "</div>"
      ],
      "text/plain": [
       "   row_number  customer_id   surname  credit_score geography  gender  age  tenure    balance  num_of_products has_cr_card is_active_member  estimated_salary  exited\n",
       "0           1     15634602  Hargrave           619    France  Female   42       2       0.00                1         yes              yes         101348.88       1\n",
       "1           2     15647311      Hill           608     Spain  Female   41       1   83807.86                1          no              yes         112542.58       0\n",
       "2           3     15619304      Onio           502    France  Female   42       8  159660.80                3         yes               no         113931.57       1\n",
       "3           4     15701354      Boni           699    France  Female   39       1       0.00                2          no               no          93826.63       0\n",
       "4           5     15737888  Mitchell           850     Spain  Female   43       2  125510.82                1         yes              yes          79084.10       0"
      ]
     },
     "execution_count": 33,
     "metadata": {},
     "output_type": "execute_result"
    }
   ],
   "source": [
    "df1.head()"
   ]
  },
  {
   "cell_type": "markdown",
   "id": "colonial-standing",
   "metadata": {},
   "source": [
    "## Creating Hypothesis"
   ]
  },
  {
   "cell_type": "markdown",
   "id": "worthy-reach",
   "metadata": {},
   "source": [
    "### Finance Hypothesis"
   ]
  },
  {
   "cell_type": "markdown",
   "id": "beginning-gauge",
   "metadata": {},
   "source": [
    "- H1. Customers with higher salaries tend to be in churn\n",
    "\n",
    "- H2. Customers with lower balances tend to be in churn"
   ]
  },
  {
   "cell_type": "markdown",
   "id": "painful-balance",
   "metadata": {},
   "source": [
    "### Geography Hypothesis"
   ]
  },
  {
   "cell_type": "markdown",
   "id": "documented-involvement",
   "metadata": {},
   "source": [
    "- H3. Customers who live in France tend to be in churn"
   ]
  },
  {
   "cell_type": "markdown",
   "id": "loaded-settlement",
   "metadata": {},
   "source": [
    "### Customer Hypothesis"
   ]
  },
  {
   "cell_type": "markdown",
   "id": "american-welsh",
   "metadata": {},
   "source": [
    "- H4. Active members should not be in churn\n",
    "- H5. Involuntary churn rate is grater than voluntary churn rate"
   ]
  },
  {
   "cell_type": "markdown",
   "id": "large-station",
   "metadata": {},
   "source": [
    "### Activities Hypothesis"
   ]
  },
  {
   "cell_type": "markdown",
   "id": "oriented-series",
   "metadata": {},
   "source": [
    "- H6. Customers with credit card have more probability to churn\n",
    "- H7. Customers with high credit scores have less probability to churn (*generally credit scores from 580 to 669 are considered fair; 670 to 739 are considered good; 740 to 799 are considered very good; and 800 and up are considered excellent.*)\n",
    "- H8. Customers with less products tend to churn more"
   ]
  },
  {
   "cell_type": "markdown",
   "id": "spiritual-lawsuit",
   "metadata": {},
   "source": [
    "### Gender Hypothesis"
   ]
  },
  {
   "cell_type": "markdown",
   "id": "partial-whole",
   "metadata": {},
   "source": [
    "- H9. Womans tend to churn more often than mens"
   ]
  },
  {
   "cell_type": "markdown",
   "id": "genuine-double",
   "metadata": {},
   "source": [
    "### Time Hypothesis\n"
   ]
  },
  {
   "cell_type": "markdown",
   "id": "enhanced-ceramic",
   "metadata": {},
   "source": [
    "- H10. Younger costumers tend to churn more often\n",
    "- H11. Customer with higher tenure tend to have a lower churn rate"
   ]
  },
  {
   "cell_type": "markdown",
   "id": "heated-capability",
   "metadata": {},
   "source": [
    "## Final Hypothesis List"
   ]
  },
  {
   "cell_type": "markdown",
   "id": "bright-peoples",
   "metadata": {},
   "source": [
    "- H1. Customers with higher salaries tend to be in churn\n",
    "\n",
    "- H2. Customers with lower balances tend to be in churn\n",
    "\n",
    "- H3. Customers who live in France tend to be in churn\n",
    "- H4. Active members should not be in churn\n",
    "- H5. Involuntary churn rate is grater than voluntary churn rate\n",
    "- H6. Customers with credit card have more probability to churn\n",
    "- H7. Customers with high credit scores have less probability to churn (*generally credit scores from 580 to 669 are considered fair; 670 to 739 are considered good; 740 to 799 are considered very good; and 800 and up are considered excellent.*)\n",
    "- H8. Customers with less products tend to churn more\n",
    "- H9. Womans tend to churn more often than mens\n",
    "- H10. Younger costumers tend to churn more often\n",
    "- H11. Customer with higher tenure tend to have a lower churn rate"
   ]
  },
  {
   "cell_type": "markdown",
   "id": "hidden-albert",
   "metadata": {},
   "source": [
    "## Feature Engineering"
   ]
  },
  {
   "cell_type": "markdown",
   "id": "exposed-organizer",
   "metadata": {
    "ExecuteTime": {
     "end_time": "2021-04-16T22:24:27.030849Z",
     "start_time": "2021-04-16T22:24:27.026710Z"
    }
   },
   "source": [
    "**Feature Description**:\n",
    "\n",
    "- **RowNumber**: The number of the columns.\n",
    "- **CustomerID**: Unique client identifier.\n",
    "- **Surname**: Client's surname.\n",
    "- **CreditScore**: Client's credit card score for the financial market A pontuação de Crédito do cliente para o mercado de consumo.\n",
    "- **Geography**: The country where the client lives.\n",
    "- **Gender**: Client's gender.\n",
    "- **Age**: Client's age.\n",
    "- **Tenure**: The number of years the client remained activate in the bank.\n",
    "- **Balance**: The monetary amount the client has in their current account.\n",
    "- **NumOfProducts**: The number of products purchased by the client.\n",
    "- **HasCrCard**: Point if the client has a credit card.\n",
    "- **IsActiveMember**: Tell if the client is an active member of the bank (within the last 12 months).\n",
    "- **EstimateSalary**: Client's annual salary estimate.\n",
    "- **Exited**: Indicates if the client is a churn (tagert variable)."
   ]
  },
  {
   "cell_type": "code",
   "execution_count": 34,
   "id": "serious-archives",
   "metadata": {
    "ExecuteTime": {
     "end_time": "2021-04-23T11:36:57.779956Z",
     "start_time": "2021-04-23T11:36:57.753652Z"
    },
    "scrolled": true
   },
   "outputs": [
    {
     "data": {
      "text/html": [
       "<div>\n",
       "<style scoped>\n",
       "    .dataframe tbody tr th:only-of-type {\n",
       "        vertical-align: middle;\n",
       "    }\n",
       "\n",
       "    .dataframe tbody tr th {\n",
       "        vertical-align: top;\n",
       "    }\n",
       "\n",
       "    .dataframe thead th {\n",
       "        text-align: right;\n",
       "    }\n",
       "</style>\n",
       "<table border=\"1\" class=\"dataframe\">\n",
       "  <thead>\n",
       "    <tr style=\"text-align: right;\">\n",
       "      <th></th>\n",
       "      <th>row_number</th>\n",
       "      <th>customer_id</th>\n",
       "      <th>surname</th>\n",
       "      <th>credit_score</th>\n",
       "      <th>geography</th>\n",
       "      <th>gender</th>\n",
       "      <th>age</th>\n",
       "      <th>tenure</th>\n",
       "      <th>balance</th>\n",
       "      <th>num_of_products</th>\n",
       "      <th>has_cr_card</th>\n",
       "      <th>is_active_member</th>\n",
       "      <th>estimated_salary</th>\n",
       "      <th>exited</th>\n",
       "    </tr>\n",
       "  </thead>\n",
       "  <tbody>\n",
       "    <tr>\n",
       "      <th>0</th>\n",
       "      <td>1</td>\n",
       "      <td>15634602</td>\n",
       "      <td>Hargrave</td>\n",
       "      <td>619</td>\n",
       "      <td>France</td>\n",
       "      <td>Female</td>\n",
       "      <td>42</td>\n",
       "      <td>2</td>\n",
       "      <td>0.00</td>\n",
       "      <td>1</td>\n",
       "      <td>yes</td>\n",
       "      <td>yes</td>\n",
       "      <td>101348.88</td>\n",
       "      <td>1</td>\n",
       "    </tr>\n",
       "    <tr>\n",
       "      <th>1</th>\n",
       "      <td>2</td>\n",
       "      <td>15647311</td>\n",
       "      <td>Hill</td>\n",
       "      <td>608</td>\n",
       "      <td>Spain</td>\n",
       "      <td>Female</td>\n",
       "      <td>41</td>\n",
       "      <td>1</td>\n",
       "      <td>83807.86</td>\n",
       "      <td>1</td>\n",
       "      <td>no</td>\n",
       "      <td>yes</td>\n",
       "      <td>112542.58</td>\n",
       "      <td>0</td>\n",
       "    </tr>\n",
       "    <tr>\n",
       "      <th>2</th>\n",
       "      <td>3</td>\n",
       "      <td>15619304</td>\n",
       "      <td>Onio</td>\n",
       "      <td>502</td>\n",
       "      <td>France</td>\n",
       "      <td>Female</td>\n",
       "      <td>42</td>\n",
       "      <td>8</td>\n",
       "      <td>159660.80</td>\n",
       "      <td>3</td>\n",
       "      <td>yes</td>\n",
       "      <td>no</td>\n",
       "      <td>113931.57</td>\n",
       "      <td>1</td>\n",
       "    </tr>\n",
       "    <tr>\n",
       "      <th>3</th>\n",
       "      <td>4</td>\n",
       "      <td>15701354</td>\n",
       "      <td>Boni</td>\n",
       "      <td>699</td>\n",
       "      <td>France</td>\n",
       "      <td>Female</td>\n",
       "      <td>39</td>\n",
       "      <td>1</td>\n",
       "      <td>0.00</td>\n",
       "      <td>2</td>\n",
       "      <td>no</td>\n",
       "      <td>no</td>\n",
       "      <td>93826.63</td>\n",
       "      <td>0</td>\n",
       "    </tr>\n",
       "    <tr>\n",
       "      <th>4</th>\n",
       "      <td>5</td>\n",
       "      <td>15737888</td>\n",
       "      <td>Mitchell</td>\n",
       "      <td>850</td>\n",
       "      <td>Spain</td>\n",
       "      <td>Female</td>\n",
       "      <td>43</td>\n",
       "      <td>2</td>\n",
       "      <td>125510.82</td>\n",
       "      <td>1</td>\n",
       "      <td>yes</td>\n",
       "      <td>yes</td>\n",
       "      <td>79084.10</td>\n",
       "      <td>0</td>\n",
       "    </tr>\n",
       "  </tbody>\n",
       "</table>\n",
       "</div>"
      ],
      "text/plain": [
       "   row_number  customer_id   surname  credit_score geography  gender  age  tenure    balance  num_of_products has_cr_card is_active_member  estimated_salary  exited\n",
       "0           1     15634602  Hargrave           619    France  Female   42       2       0.00                1         yes              yes         101348.88       1\n",
       "1           2     15647311      Hill           608     Spain  Female   41       1   83807.86                1          no              yes         112542.58       0\n",
       "2           3     15619304      Onio           502    France  Female   42       8  159660.80                3         yes               no         113931.57       1\n",
       "3           4     15701354      Boni           699    France  Female   39       1       0.00                2          no               no          93826.63       0\n",
       "4           5     15737888  Mitchell           850     Spain  Female   43       2  125510.82                1         yes              yes          79084.10       0"
      ]
     },
     "execution_count": 34,
     "metadata": {},
     "output_type": "execute_result"
    }
   ],
   "source": [
    "df1.head()"
   ]
  },
  {
   "cell_type": "code",
   "execution_count": 35,
   "id": "affiliated-panic",
   "metadata": {
    "ExecuteTime": {
     "end_time": "2021-04-23T11:36:58.616055Z",
     "start_time": "2021-04-23T11:36:58.594618Z"
    }
   },
   "outputs": [],
   "source": [
    "# create features\n",
    "\n",
    "df1['tenure_year'] = df1['tenure'] + 1\n",
    "\n",
    "df1['age_by_tenure'] = df1['age'] / df1['tenure_year']\n",
    "\n",
    "df1['salary_by_credit'] = df1['estimated_salary'] / df1['credit_score']\n",
    "\n",
    "df1['salary_by_age'] = df1['estimated_salary'] / df1['age']\n",
    "\n",
    "df1['salary_by_tenure'] = df1['estimated_salary'] / df1['tenure_year']\n",
    "\n",
    "df1['balance_by_age'] = df1['balance'] / df1['age']\n",
    "\n",
    "df1['balance_by_prod'] = df1['balance'] / df1['num_of_products']\n",
    "\n",
    "df1['all_money'] = df1['estimated_salary'] + df1['balance']\n",
    "\n",
    "df1['money_by_credit'] = df1['all_money'] / df1['credit_score']"
   ]
  },
  {
   "cell_type": "code",
   "execution_count": null,
   "id": "indonesian-backing",
   "metadata": {
    "ExecuteTime": {
     "end_time": "2021-04-23T11:36:13.879886Z",
     "start_time": "2021-04-23T11:36:09.784Z"
    }
   },
   "outputs": [],
   "source": [
    "# # reorder columns\n",
    "\n",
    "# df1 = df1[['row_number',\n",
    "#  'customer_id',\n",
    "#  'surname',\n",
    "#  'credit_score',\n",
    "#  'geography',\n",
    "#  'gender',\n",
    "#  'age',\n",
    "#  'tenure',\n",
    "#  'balance',\n",
    "#  'num_of_products',\n",
    "#  'has_cr_card',\n",
    "#  'is_active_member',\n",
    "#  'estimated_salary',\n",
    "#  'age_by_tenure',\n",
    "#  'salary_by_age',\n",
    "#  'balance_by_age',\n",
    "#  'balance_by_prod',\n",
    "#  'salary_by_credit',\n",
    "#  'all_money',\n",
    "#  'money_by_credit','exited']]"
   ]
  },
  {
   "cell_type": "code",
   "execution_count": 36,
   "id": "superior-serve",
   "metadata": {
    "ExecuteTime": {
     "end_time": "2021-04-23T11:37:00.490345Z",
     "start_time": "2021-04-23T11:37:00.482910Z"
    }
   },
   "outputs": [
    {
     "data": {
      "text/plain": [
       "['row_number',\n",
       " 'customer_id',\n",
       " 'surname',\n",
       " 'credit_score',\n",
       " 'geography',\n",
       " 'gender',\n",
       " 'age',\n",
       " 'tenure',\n",
       " 'balance',\n",
       " 'num_of_products',\n",
       " 'has_cr_card',\n",
       " 'is_active_member',\n",
       " 'estimated_salary',\n",
       " 'exited',\n",
       " 'tenure_year',\n",
       " 'age_by_tenure',\n",
       " 'salary_by_credit',\n",
       " 'salary_by_age',\n",
       " 'salary_by_tenure',\n",
       " 'balance_by_age',\n",
       " 'balance_by_prod',\n",
       " 'all_money',\n",
       " 'money_by_credit']"
      ]
     },
     "execution_count": 36,
     "metadata": {},
     "output_type": "execute_result"
    }
   ],
   "source": [
    "list(df1)"
   ]
  },
  {
   "cell_type": "markdown",
   "id": "experienced-lighting",
   "metadata": {},
   "source": [
    "# VARIABLE FILTERING"
   ]
  },
  {
   "cell_type": "code",
   "execution_count": 37,
   "id": "endangered-panama",
   "metadata": {
    "ExecuteTime": {
     "end_time": "2021-04-23T11:37:02.138889Z",
     "start_time": "2021-04-23T11:37:02.133059Z"
    }
   },
   "outputs": [],
   "source": [
    "df2 = df1.copy()"
   ]
  },
  {
   "cell_type": "code",
   "execution_count": 38,
   "id": "proud-albert",
   "metadata": {
    "ExecuteTime": {
     "end_time": "2021-04-23T11:37:02.763596Z",
     "start_time": "2021-04-23T11:37:02.732843Z"
    }
   },
   "outputs": [
    {
     "data": {
      "text/html": [
       "<div>\n",
       "<style scoped>\n",
       "    .dataframe tbody tr th:only-of-type {\n",
       "        vertical-align: middle;\n",
       "    }\n",
       "\n",
       "    .dataframe tbody tr th {\n",
       "        vertical-align: top;\n",
       "    }\n",
       "\n",
       "    .dataframe thead th {\n",
       "        text-align: right;\n",
       "    }\n",
       "</style>\n",
       "<table border=\"1\" class=\"dataframe\">\n",
       "  <thead>\n",
       "    <tr style=\"text-align: right;\">\n",
       "      <th></th>\n",
       "      <th>row_number</th>\n",
       "      <th>customer_id</th>\n",
       "      <th>surname</th>\n",
       "      <th>credit_score</th>\n",
       "      <th>geography</th>\n",
       "      <th>gender</th>\n",
       "      <th>age</th>\n",
       "      <th>tenure</th>\n",
       "      <th>balance</th>\n",
       "      <th>num_of_products</th>\n",
       "      <th>has_cr_card</th>\n",
       "      <th>is_active_member</th>\n",
       "      <th>estimated_salary</th>\n",
       "      <th>exited</th>\n",
       "      <th>tenure_year</th>\n",
       "      <th>age_by_tenure</th>\n",
       "      <th>salary_by_credit</th>\n",
       "      <th>salary_by_age</th>\n",
       "      <th>salary_by_tenure</th>\n",
       "      <th>balance_by_age</th>\n",
       "      <th>balance_by_prod</th>\n",
       "      <th>all_money</th>\n",
       "      <th>money_by_credit</th>\n",
       "    </tr>\n",
       "  </thead>\n",
       "  <tbody>\n",
       "    <tr>\n",
       "      <th>0</th>\n",
       "      <td>1</td>\n",
       "      <td>15634602</td>\n",
       "      <td>Hargrave</td>\n",
       "      <td>619</td>\n",
       "      <td>France</td>\n",
       "      <td>Female</td>\n",
       "      <td>42</td>\n",
       "      <td>2</td>\n",
       "      <td>0.00</td>\n",
       "      <td>1</td>\n",
       "      <td>yes</td>\n",
       "      <td>yes</td>\n",
       "      <td>101348.88</td>\n",
       "      <td>1</td>\n",
       "      <td>3</td>\n",
       "      <td>14.000000</td>\n",
       "      <td>163.730016</td>\n",
       "      <td>2413.068571</td>\n",
       "      <td>33782.960000</td>\n",
       "      <td>0.000000</td>\n",
       "      <td>0.000000</td>\n",
       "      <td>101348.88</td>\n",
       "      <td>163.730016</td>\n",
       "    </tr>\n",
       "    <tr>\n",
       "      <th>1</th>\n",
       "      <td>2</td>\n",
       "      <td>15647311</td>\n",
       "      <td>Hill</td>\n",
       "      <td>608</td>\n",
       "      <td>Spain</td>\n",
       "      <td>Female</td>\n",
       "      <td>41</td>\n",
       "      <td>1</td>\n",
       "      <td>83807.86</td>\n",
       "      <td>1</td>\n",
       "      <td>no</td>\n",
       "      <td>yes</td>\n",
       "      <td>112542.58</td>\n",
       "      <td>0</td>\n",
       "      <td>2</td>\n",
       "      <td>20.500000</td>\n",
       "      <td>185.102928</td>\n",
       "      <td>2744.940976</td>\n",
       "      <td>56271.290000</td>\n",
       "      <td>2044.094146</td>\n",
       "      <td>83807.860000</td>\n",
       "      <td>196350.44</td>\n",
       "      <td>322.944803</td>\n",
       "    </tr>\n",
       "    <tr>\n",
       "      <th>2</th>\n",
       "      <td>3</td>\n",
       "      <td>15619304</td>\n",
       "      <td>Onio</td>\n",
       "      <td>502</td>\n",
       "      <td>France</td>\n",
       "      <td>Female</td>\n",
       "      <td>42</td>\n",
       "      <td>8</td>\n",
       "      <td>159660.80</td>\n",
       "      <td>3</td>\n",
       "      <td>yes</td>\n",
       "      <td>no</td>\n",
       "      <td>113931.57</td>\n",
       "      <td>1</td>\n",
       "      <td>9</td>\n",
       "      <td>4.666667</td>\n",
       "      <td>226.955319</td>\n",
       "      <td>2712.656429</td>\n",
       "      <td>12659.063333</td>\n",
       "      <td>3801.447619</td>\n",
       "      <td>53220.266667</td>\n",
       "      <td>273592.37</td>\n",
       "      <td>545.004721</td>\n",
       "    </tr>\n",
       "    <tr>\n",
       "      <th>3</th>\n",
       "      <td>4</td>\n",
       "      <td>15701354</td>\n",
       "      <td>Boni</td>\n",
       "      <td>699</td>\n",
       "      <td>France</td>\n",
       "      <td>Female</td>\n",
       "      <td>39</td>\n",
       "      <td>1</td>\n",
       "      <td>0.00</td>\n",
       "      <td>2</td>\n",
       "      <td>no</td>\n",
       "      <td>no</td>\n",
       "      <td>93826.63</td>\n",
       "      <td>0</td>\n",
       "      <td>2</td>\n",
       "      <td>19.500000</td>\n",
       "      <td>134.229800</td>\n",
       "      <td>2405.811026</td>\n",
       "      <td>46913.315000</td>\n",
       "      <td>0.000000</td>\n",
       "      <td>0.000000</td>\n",
       "      <td>93826.63</td>\n",
       "      <td>134.229800</td>\n",
       "    </tr>\n",
       "    <tr>\n",
       "      <th>4</th>\n",
       "      <td>5</td>\n",
       "      <td>15737888</td>\n",
       "      <td>Mitchell</td>\n",
       "      <td>850</td>\n",
       "      <td>Spain</td>\n",
       "      <td>Female</td>\n",
       "      <td>43</td>\n",
       "      <td>2</td>\n",
       "      <td>125510.82</td>\n",
       "      <td>1</td>\n",
       "      <td>yes</td>\n",
       "      <td>yes</td>\n",
       "      <td>79084.10</td>\n",
       "      <td>0</td>\n",
       "      <td>3</td>\n",
       "      <td>14.333333</td>\n",
       "      <td>93.040118</td>\n",
       "      <td>1839.165116</td>\n",
       "      <td>26361.366667</td>\n",
       "      <td>2918.856279</td>\n",
       "      <td>125510.820000</td>\n",
       "      <td>204594.92</td>\n",
       "      <td>240.699906</td>\n",
       "    </tr>\n",
       "  </tbody>\n",
       "</table>\n",
       "</div>"
      ],
      "text/plain": [
       "   row_number  customer_id   surname  credit_score geography  gender  age  tenure    balance  num_of_products has_cr_card is_active_member  estimated_salary  exited  tenure_year  age_by_tenure  salary_by_credit  salary_by_age  salary_by_tenure  balance_by_age  balance_by_prod  all_money  money_by_credit\n",
       "0           1     15634602  Hargrave           619    France  Female   42       2       0.00                1         yes              yes         101348.88       1            3      14.000000        163.730016    2413.068571      33782.960000        0.000000         0.000000  101348.88       163.730016\n",
       "1           2     15647311      Hill           608     Spain  Female   41       1   83807.86                1          no              yes         112542.58       0            2      20.500000        185.102928    2744.940976      56271.290000     2044.094146     83807.860000  196350.44       322.944803\n",
       "2           3     15619304      Onio           502    France  Female   42       8  159660.80                3         yes               no         113931.57       1            9       4.666667        226.955319    2712.656429      12659.063333     3801.447619     53220.266667  273592.37       545.004721\n",
       "3           4     15701354      Boni           699    France  Female   39       1       0.00                2          no               no          93826.63       0            2      19.500000        134.229800    2405.811026      46913.315000        0.000000         0.000000   93826.63       134.229800\n",
       "4           5     15737888  Mitchell           850     Spain  Female   43       2  125510.82                1         yes              yes          79084.10       0            3      14.333333         93.040118    1839.165116      26361.366667     2918.856279    125510.820000  204594.92       240.699906"
      ]
     },
     "execution_count": 38,
     "metadata": {},
     "output_type": "execute_result"
    }
   ],
   "source": [
    "df2.head()"
   ]
  },
  {
   "cell_type": "markdown",
   "id": "royal-fitting",
   "metadata": {},
   "source": [
    "## Line Filtering"
   ]
  },
  {
   "cell_type": "code",
   "execution_count": null,
   "id": "pregnant-cradle",
   "metadata": {},
   "outputs": [],
   "source": []
  },
  {
   "cell_type": "markdown",
   "id": "bulgarian-queue",
   "metadata": {},
   "source": [
    "## Columns Selection"
   ]
  },
  {
   "cell_type": "code",
   "execution_count": 39,
   "id": "destroyed-liquid",
   "metadata": {
    "ExecuteTime": {
     "end_time": "2021-04-23T11:37:06.032965Z",
     "start_time": "2021-04-23T11:37:06.023355Z"
    }
   },
   "outputs": [],
   "source": [
    "# feature row_number is not necessary\n",
    "df2 = df2.drop('row_number', axis = 1)"
   ]
  },
  {
   "cell_type": "code",
   "execution_count": 40,
   "id": "reserved-delaware",
   "metadata": {
    "ExecuteTime": {
     "end_time": "2021-04-23T11:37:06.637523Z",
     "start_time": "2021-04-23T11:37:06.603204Z"
    }
   },
   "outputs": [
    {
     "data": {
      "text/html": [
       "<div>\n",
       "<style scoped>\n",
       "    .dataframe tbody tr th:only-of-type {\n",
       "        vertical-align: middle;\n",
       "    }\n",
       "\n",
       "    .dataframe tbody tr th {\n",
       "        vertical-align: top;\n",
       "    }\n",
       "\n",
       "    .dataframe thead th {\n",
       "        text-align: right;\n",
       "    }\n",
       "</style>\n",
       "<table border=\"1\" class=\"dataframe\">\n",
       "  <thead>\n",
       "    <tr style=\"text-align: right;\">\n",
       "      <th></th>\n",
       "      <th>customer_id</th>\n",
       "      <th>surname</th>\n",
       "      <th>credit_score</th>\n",
       "      <th>geography</th>\n",
       "      <th>gender</th>\n",
       "      <th>age</th>\n",
       "      <th>tenure</th>\n",
       "      <th>balance</th>\n",
       "      <th>num_of_products</th>\n",
       "      <th>has_cr_card</th>\n",
       "      <th>is_active_member</th>\n",
       "      <th>estimated_salary</th>\n",
       "      <th>exited</th>\n",
       "      <th>tenure_year</th>\n",
       "      <th>age_by_tenure</th>\n",
       "      <th>salary_by_credit</th>\n",
       "      <th>salary_by_age</th>\n",
       "      <th>salary_by_tenure</th>\n",
       "      <th>balance_by_age</th>\n",
       "      <th>balance_by_prod</th>\n",
       "      <th>all_money</th>\n",
       "      <th>money_by_credit</th>\n",
       "    </tr>\n",
       "  </thead>\n",
       "  <tbody>\n",
       "    <tr>\n",
       "      <th>0</th>\n",
       "      <td>15634602</td>\n",
       "      <td>Hargrave</td>\n",
       "      <td>619</td>\n",
       "      <td>France</td>\n",
       "      <td>Female</td>\n",
       "      <td>42</td>\n",
       "      <td>2</td>\n",
       "      <td>0.00</td>\n",
       "      <td>1</td>\n",
       "      <td>yes</td>\n",
       "      <td>yes</td>\n",
       "      <td>101348.88</td>\n",
       "      <td>1</td>\n",
       "      <td>3</td>\n",
       "      <td>14.000000</td>\n",
       "      <td>163.730016</td>\n",
       "      <td>2413.068571</td>\n",
       "      <td>33782.960000</td>\n",
       "      <td>0.000000</td>\n",
       "      <td>0.000000</td>\n",
       "      <td>101348.88</td>\n",
       "      <td>163.730016</td>\n",
       "    </tr>\n",
       "    <tr>\n",
       "      <th>1</th>\n",
       "      <td>15647311</td>\n",
       "      <td>Hill</td>\n",
       "      <td>608</td>\n",
       "      <td>Spain</td>\n",
       "      <td>Female</td>\n",
       "      <td>41</td>\n",
       "      <td>1</td>\n",
       "      <td>83807.86</td>\n",
       "      <td>1</td>\n",
       "      <td>no</td>\n",
       "      <td>yes</td>\n",
       "      <td>112542.58</td>\n",
       "      <td>0</td>\n",
       "      <td>2</td>\n",
       "      <td>20.500000</td>\n",
       "      <td>185.102928</td>\n",
       "      <td>2744.940976</td>\n",
       "      <td>56271.290000</td>\n",
       "      <td>2044.094146</td>\n",
       "      <td>83807.860000</td>\n",
       "      <td>196350.44</td>\n",
       "      <td>322.944803</td>\n",
       "    </tr>\n",
       "    <tr>\n",
       "      <th>2</th>\n",
       "      <td>15619304</td>\n",
       "      <td>Onio</td>\n",
       "      <td>502</td>\n",
       "      <td>France</td>\n",
       "      <td>Female</td>\n",
       "      <td>42</td>\n",
       "      <td>8</td>\n",
       "      <td>159660.80</td>\n",
       "      <td>3</td>\n",
       "      <td>yes</td>\n",
       "      <td>no</td>\n",
       "      <td>113931.57</td>\n",
       "      <td>1</td>\n",
       "      <td>9</td>\n",
       "      <td>4.666667</td>\n",
       "      <td>226.955319</td>\n",
       "      <td>2712.656429</td>\n",
       "      <td>12659.063333</td>\n",
       "      <td>3801.447619</td>\n",
       "      <td>53220.266667</td>\n",
       "      <td>273592.37</td>\n",
       "      <td>545.004721</td>\n",
       "    </tr>\n",
       "    <tr>\n",
       "      <th>3</th>\n",
       "      <td>15701354</td>\n",
       "      <td>Boni</td>\n",
       "      <td>699</td>\n",
       "      <td>France</td>\n",
       "      <td>Female</td>\n",
       "      <td>39</td>\n",
       "      <td>1</td>\n",
       "      <td>0.00</td>\n",
       "      <td>2</td>\n",
       "      <td>no</td>\n",
       "      <td>no</td>\n",
       "      <td>93826.63</td>\n",
       "      <td>0</td>\n",
       "      <td>2</td>\n",
       "      <td>19.500000</td>\n",
       "      <td>134.229800</td>\n",
       "      <td>2405.811026</td>\n",
       "      <td>46913.315000</td>\n",
       "      <td>0.000000</td>\n",
       "      <td>0.000000</td>\n",
       "      <td>93826.63</td>\n",
       "      <td>134.229800</td>\n",
       "    </tr>\n",
       "    <tr>\n",
       "      <th>4</th>\n",
       "      <td>15737888</td>\n",
       "      <td>Mitchell</td>\n",
       "      <td>850</td>\n",
       "      <td>Spain</td>\n",
       "      <td>Female</td>\n",
       "      <td>43</td>\n",
       "      <td>2</td>\n",
       "      <td>125510.82</td>\n",
       "      <td>1</td>\n",
       "      <td>yes</td>\n",
       "      <td>yes</td>\n",
       "      <td>79084.10</td>\n",
       "      <td>0</td>\n",
       "      <td>3</td>\n",
       "      <td>14.333333</td>\n",
       "      <td>93.040118</td>\n",
       "      <td>1839.165116</td>\n",
       "      <td>26361.366667</td>\n",
       "      <td>2918.856279</td>\n",
       "      <td>125510.820000</td>\n",
       "      <td>204594.92</td>\n",
       "      <td>240.699906</td>\n",
       "    </tr>\n",
       "  </tbody>\n",
       "</table>\n",
       "</div>"
      ],
      "text/plain": [
       "   customer_id   surname  credit_score geography  gender  age  tenure    balance  num_of_products has_cr_card is_active_member  estimated_salary  exited  tenure_year  age_by_tenure  salary_by_credit  salary_by_age  salary_by_tenure  balance_by_age  balance_by_prod  all_money  money_by_credit\n",
       "0     15634602  Hargrave           619    France  Female   42       2       0.00                1         yes              yes         101348.88       1            3      14.000000        163.730016    2413.068571      33782.960000        0.000000         0.000000  101348.88       163.730016\n",
       "1     15647311      Hill           608     Spain  Female   41       1   83807.86                1          no              yes         112542.58       0            2      20.500000        185.102928    2744.940976      56271.290000     2044.094146     83807.860000  196350.44       322.944803\n",
       "2     15619304      Onio           502    France  Female   42       8  159660.80                3         yes               no         113931.57       1            9       4.666667        226.955319    2712.656429      12659.063333     3801.447619     53220.266667  273592.37       545.004721\n",
       "3     15701354      Boni           699    France  Female   39       1       0.00                2          no               no          93826.63       0            2      19.500000        134.229800    2405.811026      46913.315000        0.000000         0.000000   93826.63       134.229800\n",
       "4     15737888  Mitchell           850     Spain  Female   43       2  125510.82                1         yes              yes          79084.10       0            3      14.333333         93.040118    1839.165116      26361.366667     2918.856279    125510.820000  204594.92       240.699906"
      ]
     },
     "execution_count": 40,
     "metadata": {},
     "output_type": "execute_result"
    }
   ],
   "source": [
    "df2.head()"
   ]
  },
  {
   "cell_type": "markdown",
   "id": "collaborative-baker",
   "metadata": {},
   "source": [
    "# EXPLORATORY DATA ANALYSIS (EDA)"
   ]
  },
  {
   "cell_type": "code",
   "execution_count": 115,
   "id": "liquid-secretariat",
   "metadata": {
    "ExecuteTime": {
     "end_time": "2021-04-23T13:41:59.240717Z",
     "start_time": "2021-04-23T13:41:59.238483Z"
    }
   },
   "outputs": [],
   "source": [
    "df3 = df2.copy()"
   ]
  },
  {
   "cell_type": "markdown",
   "id": "prostate-deputy",
   "metadata": {},
   "source": [
    "## Univariate Analysis"
   ]
  },
  {
   "cell_type": "markdown",
   "id": "accessible-glass",
   "metadata": {},
   "source": [
    "### Response Variable"
   ]
  },
  {
   "cell_type": "code",
   "execution_count": 116,
   "id": "nervous-discrimination",
   "metadata": {
    "ExecuteTime": {
     "end_time": "2021-04-23T13:42:00.281029Z",
     "start_time": "2021-04-23T13:42:00.267239Z"
    }
   },
   "outputs": [
    {
     "data": {
      "text/plain": [
       "0    79.63\n",
       "1    20.37\n",
       "Name: exited, dtype: float64"
      ]
     },
     "execution_count": 116,
     "metadata": {},
     "output_type": "execute_result"
    }
   ],
   "source": [
    "exited_percentage = df3['exited'].value_counts(normalize = True)*100\n",
    "exited_percentage"
   ]
  },
  {
   "cell_type": "code",
   "execution_count": 43,
   "id": "brown-original",
   "metadata": {
    "ExecuteTime": {
     "end_time": "2021-04-23T11:37:25.739044Z",
     "start_time": "2021-04-23T11:37:25.618727Z"
    }
   },
   "outputs": [
    {
     "data": {
      "image/png": "[encoded data removed]",
      "text/plain": [
       "<Figure size 1800x864 with 1 Axes>"
      ]
     },
     "metadata": {},
     "output_type": "display_data"
    }
   ],
   "source": [
    "sns.barplot(data = df3, x = exited_percentage.index, y = exited_percentage)\n",
    "plt.ylabel('%')\n",
    "plt.title('Churn Percentage');"
   ]
  },
  {
   "cell_type": "markdown",
   "id": "collect-pizza",
   "metadata": {},
   "source": [
    "- 20% of the clients in this dataset are in churn"
   ]
  },
  {
   "cell_type": "markdown",
   "id": "preceding-contractor",
   "metadata": {},
   "source": [
    "### Numerical Variable"
   ]
  },
  {
   "cell_type": "code",
   "execution_count": 117,
   "id": "athletic-phoenix",
   "metadata": {
    "ExecuteTime": {
     "end_time": "2021-04-23T13:42:06.064605Z",
     "start_time": "2021-04-23T13:42:06.061510Z"
    }
   },
   "outputs": [],
   "source": [
    "# separate numerical and categorical attributes\n",
    "num_att = df3.select_dtypes(include = 'number')"
   ]
  },
  {
   "cell_type": "code",
   "execution_count": 45,
   "id": "attended-folks",
   "metadata": {
    "ExecuteTime": {
     "end_time": "2021-04-23T11:37:37.762045Z",
     "start_time": "2021-04-23T11:37:37.754933Z"
    },
    "scrolled": false
   },
   "outputs": [
    {
     "data": {
      "text/plain": [
       "['customer_id',\n",
       " 'credit_score',\n",
       " 'age',\n",
       " 'tenure',\n",
       " 'balance',\n",
       " 'num_of_products',\n",
       " 'estimated_salary',\n",
       " 'exited',\n",
       " 'tenure_year',\n",
       " 'age_by_tenure',\n",
       " 'salary_by_credit',\n",
       " 'salary_by_age',\n",
       " 'salary_by_tenure',\n",
       " 'balance_by_age',\n",
       " 'balance_by_prod',\n",
       " 'all_money',\n",
       " 'money_by_credit']"
      ]
     },
     "execution_count": 45,
     "metadata": {},
     "output_type": "execute_result"
    }
   ],
   "source": [
    "list(num_att)"
   ]
  },
  {
   "cell_type": "code",
   "execution_count": 46,
   "id": "discrete-lounge",
   "metadata": {
    "ExecuteTime": {
     "end_time": "2021-04-23T11:37:42.538741Z",
     "start_time": "2021-04-23T11:37:39.624287Z"
    },
    "scrolled": false
   },
   "outputs": [
    {
     "name": "stderr",
     "output_type": "stream",
     "text": [
      "/home/marxcerqueira/.pyenv/versions/3.9.1/envs/Client-Churn-Prediction/lib/python3.9/site-packages/pandas/plotting/_matplotlib/tools.py:400: MatplotlibDeprecationWarning: \n",
      "The is_first_col function was deprecated in Matplotlib 3.4 and will be removed two minor releases later. Use ax.get_subplotspec().is_first_col() instead.\n",
      "  if ax.is_first_col():\n"
     ]
    },
    {
     "data": {
      "image/png": "[encoded data removed]",
      "text/plain": [
       "<Figure size 1800x864 with 20 Axes>"
      ]
     },
     "metadata": {},
     "output_type": "display_data"
    }
   ],
   "source": [
    "num_att.hist(bins = 80);"
   ]
  },
  {
   "cell_type": "markdown",
   "id": "printable-google",
   "metadata": {},
   "source": [
    "#### Credit Score"
   ]
  },
  {
   "cell_type": "code",
   "execution_count": 118,
   "id": "selected-soviet",
   "metadata": {
    "ExecuteTime": {
     "end_time": "2021-04-23T13:42:09.741256Z",
     "start_time": "2021-04-23T13:42:09.730969Z"
    }
   },
   "outputs": [],
   "source": [
    "# credit score\n",
    "# credit scores from 580 to 669 are considered fair; 670 to 739 are considered good;\n",
    "# 740 to 799 are considered very good; and 800 and up are considered excellent.\n",
    "aux_cred = df3[['credit_score', 'exited']].copy()\n",
    "aux_cred['credit_score_cat'] = df3['credit_score'].apply(lambda x: 'bad' if x < 580 else\n",
    "                                                              'fair' if (x >= 580 ) & (x < 669) else\n",
    "                                                              'good' if (x >= 699) & (x < 739) else\n",
    "                                                              'very good' if (x >= 739) & (x < 799)\n",
    "                                                               else 'excellent')\n",
    "\n",
    "aux_cred = aux_cred[['credit_score', 'credit_score_cat', 'exited']]"
   ]
  },
  {
   "cell_type": "code",
   "execution_count": 48,
   "id": "described-southwest",
   "metadata": {
    "ExecuteTime": {
     "end_time": "2021-04-23T11:37:55.860183Z",
     "start_time": "2021-04-23T11:37:55.726181Z"
    },
    "scrolled": false
   },
   "outputs": [
    {
     "data": {
      "image/png": "[encoded data removed]",
      "text/plain": [
       "<Figure size 1800x864 with 1 Axes>"
      ]
     },
     "metadata": {},
     "output_type": "display_data"
    }
   ],
   "source": [
    "# credit score\n",
    "sns.boxplot( x = 'credit_score', data = df3)\n",
    "plt.title('Credit Card Score BoxPlot');"
   ]
  },
  {
   "cell_type": "code",
   "execution_count": 49,
   "id": "healthy-classic",
   "metadata": {
    "ExecuteTime": {
     "end_time": "2021-04-23T11:37:58.768366Z",
     "start_time": "2021-04-23T11:37:58.755030Z"
    }
   },
   "outputs": [
    {
     "data": {
      "text/html": [
       "<div>\n",
       "<style scoped>\n",
       "    .dataframe tbody tr th:only-of-type {\n",
       "        vertical-align: middle;\n",
       "    }\n",
       "\n",
       "    .dataframe tbody tr th {\n",
       "        vertical-align: top;\n",
       "    }\n",
       "\n",
       "    .dataframe thead th {\n",
       "        text-align: right;\n",
       "    }\n",
       "</style>\n",
       "<table border=\"1\" class=\"dataframe\">\n",
       "  <thead>\n",
       "    <tr style=\"text-align: right;\">\n",
       "      <th></th>\n",
       "      <th>credit_score</th>\n",
       "      <th>credit_score_cat</th>\n",
       "      <th>exited</th>\n",
       "    </tr>\n",
       "  </thead>\n",
       "  <tbody>\n",
       "    <tr>\n",
       "      <th>0</th>\n",
       "      <td>619</td>\n",
       "      <td>fair</td>\n",
       "      <td>1</td>\n",
       "    </tr>\n",
       "    <tr>\n",
       "      <th>1</th>\n",
       "      <td>608</td>\n",
       "      <td>fair</td>\n",
       "      <td>0</td>\n",
       "    </tr>\n",
       "    <tr>\n",
       "      <th>2</th>\n",
       "      <td>502</td>\n",
       "      <td>bad</td>\n",
       "      <td>1</td>\n",
       "    </tr>\n",
       "    <tr>\n",
       "      <th>3</th>\n",
       "      <td>699</td>\n",
       "      <td>good</td>\n",
       "      <td>0</td>\n",
       "    </tr>\n",
       "    <tr>\n",
       "      <th>4</th>\n",
       "      <td>850</td>\n",
       "      <td>excellent</td>\n",
       "      <td>0</td>\n",
       "    </tr>\n",
       "  </tbody>\n",
       "</table>\n",
       "</div>"
      ],
      "text/plain": [
       "   credit_score credit_score_cat  exited\n",
       "0           619             fair       1\n",
       "1           608             fair       0\n",
       "2           502              bad       1\n",
       "3           699             good       0\n",
       "4           850        excellent       0"
      ]
     },
     "execution_count": 49,
     "metadata": {},
     "output_type": "execute_result"
    }
   ],
   "source": [
    "aux_cred.head()"
   ]
  },
  {
   "cell_type": "code",
   "execution_count": 50,
   "id": "julian-memorial",
   "metadata": {
    "ExecuteTime": {
     "end_time": "2021-04-23T11:38:02.383572Z",
     "start_time": "2021-04-23T11:38:02.364931Z"
    },
    "scrolled": false
   },
   "outputs": [
    {
     "data": {
      "text/html": [
       "<div>\n",
       "<style scoped>\n",
       "    .dataframe tbody tr th:only-of-type {\n",
       "        vertical-align: middle;\n",
       "    }\n",
       "\n",
       "    .dataframe tbody tr th {\n",
       "        vertical-align: top;\n",
       "    }\n",
       "\n",
       "    .dataframe thead th {\n",
       "        text-align: right;\n",
       "    }\n",
       "</style>\n",
       "<table border=\"1\" class=\"dataframe\">\n",
       "  <thead>\n",
       "    <tr style=\"text-align: right;\">\n",
       "      <th></th>\n",
       "      <th>credit_score</th>\n",
       "      <th>credit_score_cat</th>\n",
       "      <th>exited</th>\n",
       "    </tr>\n",
       "  </thead>\n",
       "  <tbody>\n",
       "    <tr>\n",
       "      <th>7</th>\n",
       "      <td>376</td>\n",
       "      <td>bad</td>\n",
       "      <td>1</td>\n",
       "    </tr>\n",
       "    <tr>\n",
       "      <th>942</th>\n",
       "      <td>376</td>\n",
       "      <td>bad</td>\n",
       "      <td>1</td>\n",
       "    </tr>\n",
       "    <tr>\n",
       "      <th>1193</th>\n",
       "      <td>363</td>\n",
       "      <td>bad</td>\n",
       "      <td>1</td>\n",
       "    </tr>\n",
       "    <tr>\n",
       "      <th>1201</th>\n",
       "      <td>399</td>\n",
       "      <td>bad</td>\n",
       "      <td>1</td>\n",
       "    </tr>\n",
       "    <tr>\n",
       "      <th>1405</th>\n",
       "      <td>359</td>\n",
       "      <td>bad</td>\n",
       "      <td>1</td>\n",
       "    </tr>\n",
       "    <tr>\n",
       "      <th>1631</th>\n",
       "      <td>350</td>\n",
       "      <td>bad</td>\n",
       "      <td>1</td>\n",
       "    </tr>\n",
       "    <tr>\n",
       "      <th>1838</th>\n",
       "      <td>350</td>\n",
       "      <td>bad</td>\n",
       "      <td>1</td>\n",
       "    </tr>\n",
       "    <tr>\n",
       "      <th>1962</th>\n",
       "      <td>358</td>\n",
       "      <td>bad</td>\n",
       "      <td>1</td>\n",
       "    </tr>\n",
       "    <tr>\n",
       "      <th>2473</th>\n",
       "      <td>351</td>\n",
       "      <td>bad</td>\n",
       "      <td>1</td>\n",
       "    </tr>\n",
       "    <tr>\n",
       "      <th>2579</th>\n",
       "      <td>365</td>\n",
       "      <td>bad</td>\n",
       "      <td>1</td>\n",
       "    </tr>\n",
       "    <tr>\n",
       "      <th>5285</th>\n",
       "      <td>386</td>\n",
       "      <td>bad</td>\n",
       "      <td>1</td>\n",
       "    </tr>\n",
       "    <tr>\n",
       "      <th>5494</th>\n",
       "      <td>383</td>\n",
       "      <td>bad</td>\n",
       "      <td>1</td>\n",
       "    </tr>\n",
       "    <tr>\n",
       "      <th>6253</th>\n",
       "      <td>395</td>\n",
       "      <td>bad</td>\n",
       "      <td>1</td>\n",
       "    </tr>\n",
       "    <tr>\n",
       "      <th>8154</th>\n",
       "      <td>367</td>\n",
       "      <td>bad</td>\n",
       "      <td>1</td>\n",
       "    </tr>\n",
       "    <tr>\n",
       "      <th>8723</th>\n",
       "      <td>350</td>\n",
       "      <td>bad</td>\n",
       "      <td>1</td>\n",
       "    </tr>\n",
       "    <tr>\n",
       "      <th>8762</th>\n",
       "      <td>350</td>\n",
       "      <td>bad</td>\n",
       "      <td>1</td>\n",
       "    </tr>\n",
       "    <tr>\n",
       "      <th>9210</th>\n",
       "      <td>382</td>\n",
       "      <td>bad</td>\n",
       "      <td>1</td>\n",
       "    </tr>\n",
       "    <tr>\n",
       "      <th>9356</th>\n",
       "      <td>373</td>\n",
       "      <td>bad</td>\n",
       "      <td>1</td>\n",
       "    </tr>\n",
       "    <tr>\n",
       "      <th>9624</th>\n",
       "      <td>350</td>\n",
       "      <td>bad</td>\n",
       "      <td>1</td>\n",
       "    </tr>\n",
       "  </tbody>\n",
       "</table>\n",
       "</div>"
      ],
      "text/plain": [
       "      credit_score credit_score_cat  exited\n",
       "7              376              bad       1\n",
       "942            376              bad       1\n",
       "1193           363              bad       1\n",
       "1201           399              bad       1\n",
       "1405           359              bad       1\n",
       "1631           350              bad       1\n",
       "1838           350              bad       1\n",
       "1962           358              bad       1\n",
       "2473           351              bad       1\n",
       "2579           365              bad       1\n",
       "5285           386              bad       1\n",
       "5494           383              bad       1\n",
       "6253           395              bad       1\n",
       "8154           367              bad       1\n",
       "8723           350              bad       1\n",
       "8762           350              bad       1\n",
       "9210           382              bad       1\n",
       "9356           373              bad       1\n",
       "9624           350              bad       1"
      ]
     },
     "execution_count": 50,
     "metadata": {},
     "output_type": "execute_result"
    }
   ],
   "source": [
    "aux_cred[aux_cred['credit_score'] < 400]"
   ]
  },
  {
   "cell_type": "code",
   "execution_count": 51,
   "id": "robust-tanzania",
   "metadata": {
    "ExecuteTime": {
     "end_time": "2021-04-23T11:38:05.238986Z",
     "start_time": "2021-04-23T11:38:05.224461Z"
    }
   },
   "outputs": [
    {
     "data": {
      "text/plain": [
       "credit_score        19\n",
       "credit_score_cat    19\n",
       "exited              19\n",
       "dtype: int64"
      ]
     },
     "execution_count": 51,
     "metadata": {},
     "output_type": "execute_result"
    }
   ],
   "source": [
    "aux_cred[aux_cred['credit_score'] < 400].count()"
   ]
  },
  {
   "cell_type": "markdown",
   "id": "given-billion",
   "metadata": {},
   "source": [
    "- Credit card attribute has some outliers below 400 (a very bad credit card score)\n",
    "- All these costumers have exited "
   ]
  },
  {
   "cell_type": "markdown",
   "id": "technological-dispute",
   "metadata": {},
   "source": [
    "#### Age"
   ]
  },
  {
   "cell_type": "code",
   "execution_count": 52,
   "id": "forced-bridges",
   "metadata": {
    "ExecuteTime": {
     "end_time": "2021-04-23T11:38:08.087130Z",
     "start_time": "2021-04-23T11:38:07.944987Z"
    }
   },
   "outputs": [
    {
     "data": {
      "image/png": "[encoded data removed]",
      "text/plain": [
       "<Figure size 1800x864 with 1 Axes>"
      ]
     },
     "metadata": {},
     "output_type": "display_data"
    }
   ],
   "source": [
    "sns.boxplot( x = 'age', data = df3);"
   ]
  },
  {
   "cell_type": "code",
   "execution_count": null,
   "id": "practical-admission",
   "metadata": {},
   "outputs": [],
   "source": []
  },
  {
   "cell_type": "markdown",
   "id": "european-sally",
   "metadata": {},
   "source": [
    "### Categorical Variable"
   ]
  },
  {
   "cell_type": "code",
   "execution_count": 119,
   "id": "graphic-interface",
   "metadata": {
    "ExecuteTime": {
     "end_time": "2021-04-23T13:42:31.139837Z",
     "start_time": "2021-04-23T13:42:31.132661Z"
    },
    "scrolled": false
   },
   "outputs": [
    {
     "data": {
      "text/html": [
       "<div>\n",
       "<style scoped>\n",
       "    .dataframe tbody tr th:only-of-type {\n",
       "        vertical-align: middle;\n",
       "    }\n",
       "\n",
       "    .dataframe tbody tr th {\n",
       "        vertical-align: top;\n",
       "    }\n",
       "\n",
       "    .dataframe thead th {\n",
       "        text-align: right;\n",
       "    }\n",
       "</style>\n",
       "<table border=\"1\" class=\"dataframe\">\n",
       "  <thead>\n",
       "    <tr style=\"text-align: right;\">\n",
       "      <th></th>\n",
       "      <th>surname</th>\n",
       "      <th>geography</th>\n",
       "      <th>gender</th>\n",
       "      <th>has_cr_card</th>\n",
       "      <th>is_active_member</th>\n",
       "    </tr>\n",
       "  </thead>\n",
       "  <tbody>\n",
       "    <tr>\n",
       "      <th>0</th>\n",
       "      <td>Hargrave</td>\n",
       "      <td>France</td>\n",
       "      <td>Female</td>\n",
       "      <td>yes</td>\n",
       "      <td>yes</td>\n",
       "    </tr>\n",
       "    <tr>\n",
       "      <th>1</th>\n",
       "      <td>Hill</td>\n",
       "      <td>Spain</td>\n",
       "      <td>Female</td>\n",
       "      <td>no</td>\n",
       "      <td>yes</td>\n",
       "    </tr>\n",
       "    <tr>\n",
       "      <th>2</th>\n",
       "      <td>Onio</td>\n",
       "      <td>France</td>\n",
       "      <td>Female</td>\n",
       "      <td>yes</td>\n",
       "      <td>no</td>\n",
       "    </tr>\n",
       "    <tr>\n",
       "      <th>3</th>\n",
       "      <td>Boni</td>\n",
       "      <td>France</td>\n",
       "      <td>Female</td>\n",
       "      <td>no</td>\n",
       "      <td>no</td>\n",
       "    </tr>\n",
       "    <tr>\n",
       "      <th>4</th>\n",
       "      <td>Mitchell</td>\n",
       "      <td>Spain</td>\n",
       "      <td>Female</td>\n",
       "      <td>yes</td>\n",
       "      <td>yes</td>\n",
       "    </tr>\n",
       "  </tbody>\n",
       "</table>\n",
       "</div>"
      ],
      "text/plain": [
       "    surname geography  gender has_cr_card is_active_member\n",
       "0  Hargrave    France  Female         yes              yes\n",
       "1      Hill     Spain  Female          no              yes\n",
       "2      Onio    France  Female         yes               no\n",
       "3      Boni    France  Female          no               no\n",
       "4  Mitchell     Spain  Female         yes              yes"
      ]
     },
     "execution_count": 119,
     "metadata": {},
     "output_type": "execute_result"
    }
   ],
   "source": [
    "cat_att = df3.select_dtypes(include = 'object')\n",
    "cat_att.head()"
   ]
  },
  {
   "cell_type": "code",
   "execution_count": 54,
   "id": "decreased-channel",
   "metadata": {
    "ExecuteTime": {
     "end_time": "2021-04-23T11:38:11.733308Z",
     "start_time": "2021-04-23T11:38:11.344281Z"
    }
   },
   "outputs": [
    {
     "data": {
      "image/png": "[encoded data removed]",
      "text/plain": [
       "<Figure size 1800x864 with 5 Axes>"
      ]
     },
     "metadata": {},
     "output_type": "display_data"
    }
   ],
   "source": [
    "subplot(2, 3, 1)\n",
    "sns.barplot(x = geo_percentage.index, y = geo_percentage)\n",
    "plt.ylabel('Geography (%)');\n",
    "\n",
    "subplot(2, 3, 2)\n",
    "sns.barplot(x = gender_percentage.index, y = gender_percentage)\n",
    "plt.ylabel('Gender (%)');\n",
    "\n",
    "subplot(2, 3, 3)\n",
    "sns.barplot(x = cred_card_percentage.index, y = cred_card_percentage)\n",
    "plt.ylabel('Has Credit Card (%)');\n",
    "\n",
    "subplot(2, 3, 4)\n",
    "sns.barplot(x = active_member_percentage.index, y = active_member_percentage)\n",
    "plt.ylabel('Is a Active Member (%)')\n",
    "\n",
    "subplot(2, 3, 5)\n",
    "sns.barplot(data = df3, x = exited_percentage.index, y = exited_percentage)\n",
    "plt.ylabel('%')\n",
    "plt.title('Churn Percentage');"
   ]
  },
  {
   "cell_type": "markdown",
   "id": "metallic-granny",
   "metadata": {},
   "source": [
    "## Bivariate Analysis"
   ]
  },
  {
   "cell_type": "code",
   "execution_count": 55,
   "id": "derived-lunch",
   "metadata": {
    "ExecuteTime": {
     "end_time": "2021-04-23T11:46:41.850813Z",
     "start_time": "2021-04-23T11:46:41.826475Z"
    }
   },
   "outputs": [
    {
     "data": {
      "text/html": [
       "<div>\n",
       "<style scoped>\n",
       "    .dataframe tbody tr th:only-of-type {\n",
       "        vertical-align: middle;\n",
       "    }\n",
       "\n",
       "    .dataframe tbody tr th {\n",
       "        vertical-align: top;\n",
       "    }\n",
       "\n",
       "    .dataframe thead th {\n",
       "        text-align: right;\n",
       "    }\n",
       "</style>\n",
       "<table border=\"1\" class=\"dataframe\">\n",
       "  <thead>\n",
       "    <tr style=\"text-align: right;\">\n",
       "      <th></th>\n",
       "      <th>customer_id</th>\n",
       "      <th>surname</th>\n",
       "      <th>credit_score</th>\n",
       "      <th>geography</th>\n",
       "      <th>gender</th>\n",
       "      <th>age</th>\n",
       "      <th>tenure</th>\n",
       "      <th>balance</th>\n",
       "      <th>num_of_products</th>\n",
       "      <th>has_cr_card</th>\n",
       "      <th>is_active_member</th>\n",
       "      <th>estimated_salary</th>\n",
       "      <th>exited</th>\n",
       "      <th>tenure_year</th>\n",
       "      <th>age_by_tenure</th>\n",
       "      <th>salary_by_credit</th>\n",
       "      <th>salary_by_age</th>\n",
       "      <th>salary_by_tenure</th>\n",
       "      <th>balance_by_age</th>\n",
       "      <th>balance_by_prod</th>\n",
       "      <th>all_money</th>\n",
       "      <th>money_by_credit</th>\n",
       "    </tr>\n",
       "  </thead>\n",
       "  <tbody>\n",
       "    <tr>\n",
       "      <th>0</th>\n",
       "      <td>15634602</td>\n",
       "      <td>Hargrave</td>\n",
       "      <td>619</td>\n",
       "      <td>France</td>\n",
       "      <td>Female</td>\n",
       "      <td>42</td>\n",
       "      <td>2</td>\n",
       "      <td>0.00</td>\n",
       "      <td>1</td>\n",
       "      <td>yes</td>\n",
       "      <td>yes</td>\n",
       "      <td>101348.88</td>\n",
       "      <td>1</td>\n",
       "      <td>3</td>\n",
       "      <td>14.000000</td>\n",
       "      <td>163.730016</td>\n",
       "      <td>2413.068571</td>\n",
       "      <td>33782.960000</td>\n",
       "      <td>0.000000</td>\n",
       "      <td>0.000000</td>\n",
       "      <td>101348.88</td>\n",
       "      <td>163.730016</td>\n",
       "    </tr>\n",
       "    <tr>\n",
       "      <th>1</th>\n",
       "      <td>15647311</td>\n",
       "      <td>Hill</td>\n",
       "      <td>608</td>\n",
       "      <td>Spain</td>\n",
       "      <td>Female</td>\n",
       "      <td>41</td>\n",
       "      <td>1</td>\n",
       "      <td>83807.86</td>\n",
       "      <td>1</td>\n",
       "      <td>no</td>\n",
       "      <td>yes</td>\n",
       "      <td>112542.58</td>\n",
       "      <td>0</td>\n",
       "      <td>2</td>\n",
       "      <td>20.500000</td>\n",
       "      <td>185.102928</td>\n",
       "      <td>2744.940976</td>\n",
       "      <td>56271.290000</td>\n",
       "      <td>2044.094146</td>\n",
       "      <td>83807.860000</td>\n",
       "      <td>196350.44</td>\n",
       "      <td>322.944803</td>\n",
       "    </tr>\n",
       "    <tr>\n",
       "      <th>2</th>\n",
       "      <td>15619304</td>\n",
       "      <td>Onio</td>\n",
       "      <td>502</td>\n",
       "      <td>France</td>\n",
       "      <td>Female</td>\n",
       "      <td>42</td>\n",
       "      <td>8</td>\n",
       "      <td>159660.80</td>\n",
       "      <td>3</td>\n",
       "      <td>yes</td>\n",
       "      <td>no</td>\n",
       "      <td>113931.57</td>\n",
       "      <td>1</td>\n",
       "      <td>9</td>\n",
       "      <td>4.666667</td>\n",
       "      <td>226.955319</td>\n",
       "      <td>2712.656429</td>\n",
       "      <td>12659.063333</td>\n",
       "      <td>3801.447619</td>\n",
       "      <td>53220.266667</td>\n",
       "      <td>273592.37</td>\n",
       "      <td>545.004721</td>\n",
       "    </tr>\n",
       "    <tr>\n",
       "      <th>3</th>\n",
       "      <td>15701354</td>\n",
       "      <td>Boni</td>\n",
       "      <td>699</td>\n",
       "      <td>France</td>\n",
       "      <td>Female</td>\n",
       "      <td>39</td>\n",
       "      <td>1</td>\n",
       "      <td>0.00</td>\n",
       "      <td>2</td>\n",
       "      <td>no</td>\n",
       "      <td>no</td>\n",
       "      <td>93826.63</td>\n",
       "      <td>0</td>\n",
       "      <td>2</td>\n",
       "      <td>19.500000</td>\n",
       "      <td>134.229800</td>\n",
       "      <td>2405.811026</td>\n",
       "      <td>46913.315000</td>\n",
       "      <td>0.000000</td>\n",
       "      <td>0.000000</td>\n",
       "      <td>93826.63</td>\n",
       "      <td>134.229800</td>\n",
       "    </tr>\n",
       "    <tr>\n",
       "      <th>4</th>\n",
       "      <td>15737888</td>\n",
       "      <td>Mitchell</td>\n",
       "      <td>850</td>\n",
       "      <td>Spain</td>\n",
       "      <td>Female</td>\n",
       "      <td>43</td>\n",
       "      <td>2</td>\n",
       "      <td>125510.82</td>\n",
       "      <td>1</td>\n",
       "      <td>yes</td>\n",
       "      <td>yes</td>\n",
       "      <td>79084.10</td>\n",
       "      <td>0</td>\n",
       "      <td>3</td>\n",
       "      <td>14.333333</td>\n",
       "      <td>93.040118</td>\n",
       "      <td>1839.165116</td>\n",
       "      <td>26361.366667</td>\n",
       "      <td>2918.856279</td>\n",
       "      <td>125510.820000</td>\n",
       "      <td>204594.92</td>\n",
       "      <td>240.699906</td>\n",
       "    </tr>\n",
       "  </tbody>\n",
       "</table>\n",
       "</div>"
      ],
      "text/plain": [
       "   customer_id   surname  credit_score geography  gender  age  tenure    balance  num_of_products has_cr_card is_active_member  estimated_salary  exited  tenure_year  age_by_tenure  salary_by_credit  salary_by_age  salary_by_tenure  balance_by_age  balance_by_prod  all_money  money_by_credit\n",
       "0     15634602  Hargrave           619    France  Female   42       2       0.00                1         yes              yes         101348.88       1            3      14.000000        163.730016    2413.068571      33782.960000        0.000000         0.000000  101348.88       163.730016\n",
       "1     15647311      Hill           608     Spain  Female   41       1   83807.86                1          no              yes         112542.58       0            2      20.500000        185.102928    2744.940976      56271.290000     2044.094146     83807.860000  196350.44       322.944803\n",
       "2     15619304      Onio           502    France  Female   42       8  159660.80                3         yes               no         113931.57       1            9       4.666667        226.955319    2712.656429      12659.063333     3801.447619     53220.266667  273592.37       545.004721\n",
       "3     15701354      Boni           699    France  Female   39       1       0.00                2          no               no          93826.63       0            2      19.500000        134.229800    2405.811026      46913.315000        0.000000         0.000000   93826.63       134.229800\n",
       "4     15737888  Mitchell           850     Spain  Female   43       2  125510.82                1         yes              yes          79084.10       0            3      14.333333         93.040118    1839.165116      26361.366667     2918.856279    125510.820000  204594.92       240.699906"
      ]
     },
     "execution_count": 55,
     "metadata": {},
     "output_type": "execute_result"
    }
   ],
   "source": [
    "df3.head()"
   ]
  },
  {
   "cell_type": "markdown",
   "id": "serial-liberty",
   "metadata": {},
   "source": [
    "### H1. Customers with higher salaries tend to be in churn"
   ]
  },
  {
   "cell_type": "code",
   "execution_count": 120,
   "id": "verified-beverage",
   "metadata": {
    "ExecuteTime": {
     "end_time": "2021-04-23T13:42:35.897202Z",
     "start_time": "2021-04-23T13:42:35.629478Z"
    },
    "scrolled": false
   },
   "outputs": [
    {
     "name": "stderr",
     "output_type": "stream",
     "text": [
      "/home/marxcerqueira/.pyenv/versions/3.9.1/envs/Client-Churn-Prediction/lib/python3.9/site-packages/seaborn/distributions.py:2557: FutureWarning: `distplot` is a deprecated function and will be removed in a future version. Please adapt your code to use either `displot` (a figure-level function with similar flexibility) or `histplot` (an axes-level function for histograms).\n",
      "  warnings.warn(msg, FutureWarning)\n",
      "/home/marxcerqueira/.pyenv/versions/3.9.1/envs/Client-Churn-Prediction/lib/python3.9/site-packages/seaborn/distributions.py:2557: FutureWarning: `distplot` is a deprecated function and will be removed in a future version. Please adapt your code to use either `displot` (a figure-level function with similar flexibility) or `histplot` (an axes-level function for histograms).\n",
      "  warnings.warn(msg, FutureWarning)\n"
     ]
    },
    {
     "data": {
      "image/png": "[encoded data removed]",
      "text/plain": [
       "<Figure size 1800x864 with 1 Axes>"
      ]
     },
     "metadata": {},
     "output_type": "display_data"
    }
   ],
   "source": [
    "# auxiliary dataframe for exited = 0 and = 1\n",
    "aux_exited0 = df3[df3['exited'] == 0]\n",
    "aux_exited1 = df3[df3['exited'] == 1]\n",
    "\n",
    "# plot estimated salary density distribution for exited = 0 and 1\n",
    "sns.distplot(aux_exited1['estimated_salary'], color = 'orange', kde = True, label = 'Churn')\n",
    "sns.distplot(aux_exited0['estimated_salary'], color = 'blue', kde = True, label = 'Not Churn')\n",
    "plt.title('Estimated Salary Density Distribution of Churn and Not Churn Customers');\n",
    "plt.legend();"
   ]
  },
  {
   "cell_type": "code",
   "execution_count": 82,
   "id": "rational-insert",
   "metadata": {
    "ExecuteTime": {
     "end_time": "2021-04-23T12:25:55.622073Z",
     "start_time": "2021-04-23T12:25:55.616119Z"
    }
   },
   "outputs": [
    {
     "data": {
      "text/html": [
       "<div>\n",
       "<style scoped>\n",
       "    .dataframe tbody tr th:only-of-type {\n",
       "        vertical-align: middle;\n",
       "    }\n",
       "\n",
       "    .dataframe tbody tr th {\n",
       "        vertical-align: top;\n",
       "    }\n",
       "\n",
       "    .dataframe thead th {\n",
       "        text-align: right;\n",
       "    }\n",
       "</style>\n",
       "<table border=\"1\" class=\"dataframe\">\n",
       "  <thead>\n",
       "    <tr style=\"text-align: right;\">\n",
       "      <th></th>\n",
       "      <th>exited</th>\n",
       "      <th>estimated_salary</th>\n",
       "    </tr>\n",
       "  </thead>\n",
       "  <tbody>\n",
       "    <tr>\n",
       "      <th>0</th>\n",
       "      <td>0</td>\n",
       "      <td>7.942168e+08</td>\n",
       "    </tr>\n",
       "    <tr>\n",
       "      <th>1</th>\n",
       "      <td>1</td>\n",
       "      <td>2.066856e+08</td>\n",
       "    </tr>\n",
       "  </tbody>\n",
       "</table>\n",
       "</div>"
      ],
      "text/plain": [
       "   exited  estimated_salary\n",
       "0       0      7.942168e+08\n",
       "1       1      2.066856e+08"
      ]
     },
     "execution_count": 82,
     "metadata": {},
     "output_type": "execute_result"
    }
   ],
   "source": [
    "a = df0.groupby('exited')['estimated_salary'].sum().reset_index()\n",
    "a"
   ]
  },
  {
   "cell_type": "code",
   "execution_count": 121,
   "id": "enormous-monroe",
   "metadata": {
    "ExecuteTime": {
     "end_time": "2021-04-23T13:42:54.941859Z",
     "start_time": "2021-04-23T13:42:54.911836Z"
    },
    "scrolled": true
   },
   "outputs": [
    {
     "data": {
      "text/html": [
       "<div>\n",
       "<style scoped>\n",
       "    .dataframe tbody tr th:only-of-type {\n",
       "        vertical-align: middle;\n",
       "    }\n",
       "\n",
       "    .dataframe tbody tr th {\n",
       "        vertical-align: top;\n",
       "    }\n",
       "\n",
       "    .dataframe thead th {\n",
       "        text-align: right;\n",
       "    }\n",
       "</style>\n",
       "<table border=\"1\" class=\"dataframe\">\n",
       "  <thead>\n",
       "    <tr style=\"text-align: right;\">\n",
       "      <th></th>\n",
       "      <th>Not Churn</th>\n",
       "      <th>Churn</th>\n",
       "    </tr>\n",
       "  </thead>\n",
       "  <tbody>\n",
       "    <tr>\n",
       "      <th>count</th>\n",
       "      <td>7963.000000</td>\n",
       "      <td>2037.000000</td>\n",
       "    </tr>\n",
       "    <tr>\n",
       "      <th>mean</th>\n",
       "      <td>99738.391772</td>\n",
       "      <td>101465.677531</td>\n",
       "    </tr>\n",
       "    <tr>\n",
       "      <th>median</th>\n",
       "      <td>99645.040000</td>\n",
       "      <td>102460.840000</td>\n",
       "    </tr>\n",
       "    <tr>\n",
       "      <th>std</th>\n",
       "      <td>57405.586966</td>\n",
       "      <td>57912.418071</td>\n",
       "    </tr>\n",
       "    <tr>\n",
       "      <th>min</th>\n",
       "      <td>90.070000</td>\n",
       "      <td>11.580000</td>\n",
       "    </tr>\n",
       "    <tr>\n",
       "      <th>max</th>\n",
       "      <td>199992.480000</td>\n",
       "      <td>199808.100000</td>\n",
       "    </tr>\n",
       "  </tbody>\n",
       "</table>\n",
       "</div>"
      ],
      "text/plain": [
       "            Not Churn          Churn\n",
       "count     7963.000000    2037.000000\n",
       "mean     99738.391772  101465.677531\n",
       "median   99645.040000  102460.840000\n",
       "std      57405.586966   57912.418071\n",
       "min         90.070000      11.580000\n",
       "max     199992.480000  199808.100000"
      ]
     },
     "execution_count": 121,
     "metadata": {},
     "output_type": "execute_result"
    }
   ],
   "source": [
    "# Estimated Salary Describe - Not Churn and Churn\n",
    "a = df3.groupby('exited')['estimated_salary'].agg(['count', 'mean', 'median', 'std', 'min', 'max'])\n",
    "a = a.T\n",
    "a.columns = ['Not Churn', 'Churn']\n",
    "a"
   ]
  },
  {
   "cell_type": "code",
   "execution_count": 151,
   "id": "opening-produce",
   "metadata": {
    "ExecuteTime": {
     "end_time": "2021-04-23T14:47:02.937984Z",
     "start_time": "2021-04-23T14:47:02.593333Z"
    },
    "scrolled": false
   },
   "outputs": [
    {
     "name": "stderr",
     "output_type": "stream",
     "text": [
      "<ipython-input-151-da110929af01>:3: SettingWithCopyWarning: \n",
      "A value is trying to be set on a copy of a slice from a DataFrame.\n",
      "Try using .loc[row_indexer,col_indexer] = value instead\n",
      "\n",
      "See the caveats in the documentation: https://pandas.pydata.org/pandas-docs/stable/user_guide/indexing.html#returning-a-view-versus-a-copy\n",
      "  aux_exited0['salary_category'] = pd.cut(aux_exited0['estimated_salary'], bins = bins)\n",
      "<ipython-input-151-da110929af01>:4: SettingWithCopyWarning: \n",
      "A value is trying to be set on a copy of a slice from a DataFrame.\n",
      "Try using .loc[row_indexer,col_indexer] = value instead\n",
      "\n",
      "See the caveats in the documentation: https://pandas.pydata.org/pandas-docs/stable/user_guide/indexing.html#returning-a-view-versus-a-copy\n",
      "  aux_exited1['salary_category'] = pd.cut(aux_exited1['estimated_salary'], bins = bins)\n"
     ]
    },
    {
     "data": {
      "image/png": "[encoded data removed]",
      "text/plain": [
       "<Figure size 1800x864 with 2 Axes>"
      ]
     },
     "metadata": {},
     "output_type": "display_data"
    }
   ],
   "source": [
    "# Create Estimate Salary Categories\n",
    "bins = list(np.arange(0,210000, 20000))\n",
    "aux_exited0['salary_category'] = pd.cut(aux_exited0['estimated_salary'], bins = bins)\n",
    "aux_exited1['salary_category'] = pd.cut(aux_exited1['estimated_salary'], bins = bins)\n",
    "\n",
    "subplot(1, 2, 1)\n",
    "sns.countplot(x = 'salary_category', data = aux_exited0).set_title('Not Churn')\n",
    "plt.xticks(rotation = 70)\n",
    "\n",
    "subplot(1, 2, 2)\n",
    "sns.countplot(x = 'salary_category', data = aux_exited1).set_title('Churn')\n",
    "plt.xticks(rotation = 70);"
   ]
  },
  {
   "cell_type": "code",
   "execution_count": 155,
   "id": "increased-period",
   "metadata": {
    "ExecuteTime": {
     "end_time": "2021-04-23T14:50:29.570085Z",
     "start_time": "2021-04-23T14:50:29.551322Z"
    }
   },
   "outputs": [
    {
     "name": "stderr",
     "output_type": "stream",
     "text": [
      "<ipython-input-155-84a28a771cdf>:8: SettingWithCopyWarning: \n",
      "A value is trying to be set on a copy of a slice from a DataFrame.\n",
      "Try using .loc[row_indexer,col_indexer] = value instead\n",
      "\n",
      "See the caveats in the documentation: https://pandas.pydata.org/pandas-docs/stable/user_guide/indexing.html#returning-a-view-versus-a-copy\n",
      "  aux1['salary_category'] = pd.cut(aux1['estimated_salary'], bins = bins)\n"
     ]
    },
    {
     "data": {
      "text/html": [
       "<div>\n",
       "<style scoped>\n",
       "    .dataframe tbody tr th:only-of-type {\n",
       "        vertical-align: middle;\n",
       "    }\n",
       "\n",
       "    .dataframe tbody tr th {\n",
       "        vertical-align: top;\n",
       "    }\n",
       "\n",
       "    .dataframe thead th {\n",
       "        text-align: right;\n",
       "    }\n",
       "</style>\n",
       "<table border=\"1\" class=\"dataframe\">\n",
       "  <thead>\n",
       "    <tr style=\"text-align: right;\">\n",
       "      <th></th>\n",
       "      <th>salary_category</th>\n",
       "      <th>exited</th>\n",
       "      <th>number_of_clients</th>\n",
       "      <th>relative_percentage</th>\n",
       "    </tr>\n",
       "  </thead>\n",
       "  <tbody>\n",
       "    <tr>\n",
       "      <th>0</th>\n",
       "      <td>(0, 20000]</td>\n",
       "      <td>0</td>\n",
       "      <td>788</td>\n",
       "      <td>9.895768</td>\n",
       "    </tr>\n",
       "    <tr>\n",
       "      <th>1</th>\n",
       "      <td>(0, 20000]</td>\n",
       "      <td>1</td>\n",
       "      <td>198</td>\n",
       "      <td>9.720177</td>\n",
       "    </tr>\n",
       "    <tr>\n",
       "      <th>2</th>\n",
       "      <td>(20000, 40000]</td>\n",
       "      <td>0</td>\n",
       "      <td>773</td>\n",
       "      <td>9.707397</td>\n",
       "    </tr>\n",
       "    <tr>\n",
       "      <th>3</th>\n",
       "      <td>(20000, 40000]</td>\n",
       "      <td>1</td>\n",
       "      <td>196</td>\n",
       "      <td>9.621993</td>\n",
       "    </tr>\n",
       "    <tr>\n",
       "      <th>4</th>\n",
       "      <td>(40000, 60000]</td>\n",
       "      <td>0</td>\n",
       "      <td>815</td>\n",
       "      <td>10.234836</td>\n",
       "    </tr>\n",
       "    <tr>\n",
       "      <th>5</th>\n",
       "      <td>(40000, 60000]</td>\n",
       "      <td>1</td>\n",
       "      <td>191</td>\n",
       "      <td>9.376534</td>\n",
       "    </tr>\n",
       "    <tr>\n",
       "      <th>6</th>\n",
       "      <td>(60000, 80000]</td>\n",
       "      <td>0</td>\n",
       "      <td>815</td>\n",
       "      <td>10.234836</td>\n",
       "    </tr>\n",
       "    <tr>\n",
       "      <th>7</th>\n",
       "      <td>(60000, 80000]</td>\n",
       "      <td>1</td>\n",
       "      <td>212</td>\n",
       "      <td>10.407462</td>\n",
       "    </tr>\n",
       "    <tr>\n",
       "      <th>8</th>\n",
       "      <td>(80000, 100000]</td>\n",
       "      <td>0</td>\n",
       "      <td>806</td>\n",
       "      <td>10.121813</td>\n",
       "    </tr>\n",
       "    <tr>\n",
       "      <th>9</th>\n",
       "      <td>(80000, 100000]</td>\n",
       "      <td>1</td>\n",
       "      <td>196</td>\n",
       "      <td>9.621993</td>\n",
       "    </tr>\n",
       "    <tr>\n",
       "      <th>10</th>\n",
       "      <td>(100000, 120000]</td>\n",
       "      <td>0</td>\n",
       "      <td>816</td>\n",
       "      <td>10.247394</td>\n",
       "    </tr>\n",
       "    <tr>\n",
       "      <th>11</th>\n",
       "      <td>(100000, 120000]</td>\n",
       "      <td>1</td>\n",
       "      <td>211</td>\n",
       "      <td>10.358370</td>\n",
       "    </tr>\n",
       "    <tr>\n",
       "      <th>12</th>\n",
       "      <td>(120000, 140000]</td>\n",
       "      <td>0</td>\n",
       "      <td>811</td>\n",
       "      <td>10.184604</td>\n",
       "    </tr>\n",
       "    <tr>\n",
       "      <th>13</th>\n",
       "      <td>(120000, 140000]</td>\n",
       "      <td>1</td>\n",
       "      <td>196</td>\n",
       "      <td>9.621993</td>\n",
       "    </tr>\n",
       "    <tr>\n",
       "      <th>14</th>\n",
       "      <td>(140000, 160000]</td>\n",
       "      <td>0</td>\n",
       "      <td>776</td>\n",
       "      <td>9.745071</td>\n",
       "    </tr>\n",
       "    <tr>\n",
       "      <th>15</th>\n",
       "      <td>(140000, 160000]</td>\n",
       "      <td>1</td>\n",
       "      <td>206</td>\n",
       "      <td>10.112911</td>\n",
       "    </tr>\n",
       "    <tr>\n",
       "      <th>16</th>\n",
       "      <td>(160000, 180000]</td>\n",
       "      <td>0</td>\n",
       "      <td>784</td>\n",
       "      <td>9.845536</td>\n",
       "    </tr>\n",
       "    <tr>\n",
       "      <th>17</th>\n",
       "      <td>(160000, 180000]</td>\n",
       "      <td>1</td>\n",
       "      <td>225</td>\n",
       "      <td>11.045655</td>\n",
       "    </tr>\n",
       "    <tr>\n",
       "      <th>18</th>\n",
       "      <td>(180000, 200000]</td>\n",
       "      <td>0</td>\n",
       "      <td>779</td>\n",
       "      <td>9.782745</td>\n",
       "    </tr>\n",
       "    <tr>\n",
       "      <th>19</th>\n",
       "      <td>(180000, 200000]</td>\n",
       "      <td>1</td>\n",
       "      <td>206</td>\n",
       "      <td>10.112911</td>\n",
       "    </tr>\n",
       "  </tbody>\n",
       "</table>\n",
       "</div>"
      ],
      "text/plain": [
       "     salary_category  exited  number_of_clients  relative_percentage\n",
       "0         (0, 20000]       0                788             9.895768\n",
       "1         (0, 20000]       1                198             9.720177\n",
       "2     (20000, 40000]       0                773             9.707397\n",
       "3     (20000, 40000]       1                196             9.621993\n",
       "4     (40000, 60000]       0                815            10.234836\n",
       "5     (40000, 60000]       1                191             9.376534\n",
       "6     (60000, 80000]       0                815            10.234836\n",
       "7     (60000, 80000]       1                212            10.407462\n",
       "8    (80000, 100000]       0                806            10.121813\n",
       "9    (80000, 100000]       1                196             9.621993\n",
       "10  (100000, 120000]       0                816            10.247394\n",
       "11  (100000, 120000]       1                211            10.358370\n",
       "12  (120000, 140000]       0                811            10.184604\n",
       "13  (120000, 140000]       1                196             9.621993\n",
       "14  (140000, 160000]       0                776             9.745071\n",
       "15  (140000, 160000]       1                206            10.112911\n",
       "16  (160000, 180000]       0                784             9.845536\n",
       "17  (160000, 180000]       1                225            11.045655\n",
       "18  (180000, 200000]       0                779             9.782745\n",
       "19  (180000, 200000]       1                206            10.112911"
      ]
     },
     "execution_count": 155,
     "metadata": {},
     "output_type": "execute_result"
    }
   ],
   "source": [
    "# Create Relative Salaray Percentage Count plot, since the salary count of \n",
    "#churn and not churn clients are too different\n",
    "\n",
    "bins = list(np.arange(0,210000, 20000))\n",
    "\n",
    "# create new dataframe\n",
    "aux1 = df3[['estimated_salary', 'exited']]\n",
    "aux1['salary_category'] = pd.cut(aux1['estimated_salary'], bins = bins)\n",
    "\n",
    "# new dataframe with salary_category, exited, and number of clients \n",
    "aux10 = aux1[['salary_category', 'estimated_salary', 'exited']].groupby(['salary_category', 'exited']).count().reset_index()\n",
    "\n",
    "# rename dataframe columns\n",
    "aux10.columns = ['salary_category', 'exited', 'number_of_clients']\n",
    "\n",
    "# sum of clients in churn\n",
    "clients_churn = aux10[aux10['exited'] == 1]['number_of_clients'].sum()\n",
    "\n",
    "# sum of clients not in churn\n",
    "clients_not_churn = aux10[aux10['exited'] == 0]['number_of_clients'].sum()\n",
    "\n",
    "total_clients = aux10['number_of_clients'].sum()\n",
    "\n",
    "# calculate the relative percentage ratio of clients not or in churn\n",
    "aux10['relative_percentage'] = aux10.apply(lambda x: (x['number_of_clients']/clients_churn)*100 if x['exited'] == 1 else (x['number_of_clients']/clients_not_churn)*100, axis = 1 )\n",
    "\n",
    "aux10.head(30)\n"
   ]
  },
  {
   "cell_type": "code",
   "execution_count": 143,
   "id": "altered-favorite",
   "metadata": {
    "ExecuteTime": {
     "end_time": "2021-04-23T14:26:21.014135Z",
     "start_time": "2021-04-23T14:26:21.007119Z"
    }
   },
   "outputs": [
    {
     "data": {
      "text/plain": [
       "2037"
      ]
     },
     "execution_count": 143,
     "metadata": {},
     "output_type": "execute_result"
    }
   ],
   "source": [
    "clients_churn"
   ]
  },
  {
   "cell_type": "code",
   "execution_count": 148,
   "id": "intellectual-malta",
   "metadata": {
    "ExecuteTime": {
     "end_time": "2021-04-23T14:44:55.039251Z",
     "start_time": "2021-04-23T14:44:55.036628Z"
    }
   },
   "outputs": [
    {
     "data": {
      "text/plain": [
       "10000"
      ]
     },
     "execution_count": 148,
     "metadata": {},
     "output_type": "execute_result"
    }
   ],
   "source": [
    "total_clients = aux10['number_of_clients'].sum()\n",
    "total_clients"
   ]
  },
  {
   "cell_type": "code",
   "execution_count": 144,
   "id": "outdoor-worry",
   "metadata": {
    "ExecuteTime": {
     "end_time": "2021-04-23T14:26:31.719423Z",
     "start_time": "2021-04-23T14:26:31.715430Z"
    }
   },
   "outputs": [
    {
     "data": {
      "text/plain": [
       "7963"
      ]
     },
     "execution_count": 144,
     "metadata": {},
     "output_type": "execute_result"
    }
   ],
   "source": [
    "clients_not_churn"
   ]
  },
  {
   "cell_type": "code",
   "execution_count": 156,
   "id": "european-employer",
   "metadata": {
    "ExecuteTime": {
     "end_time": "2021-04-23T14:51:09.141810Z",
     "start_time": "2021-04-23T14:51:08.908364Z"
    },
    "scrolled": false
   },
   "outputs": [
    {
     "data": {
      "image/png": "[encoded data removed]",
      "text/plain": [
       "<Figure size 1800x864 with 1 Axes>"
      ]
     },
     "metadata": {},
     "output_type": "display_data"
    }
   ],
   "source": [
    "sns.barplot(x = 'salary_category', y = 'relative_percentage' ,data = aux10, hue = 'exited').set_title('Salary Category Percentage Over Churn')\n",
    "plt.xticks(rotation = 70);"
   ]
  },
  {
   "cell_type": "code",
   "execution_count": 153,
   "id": "improved-basket",
   "metadata": {
    "ExecuteTime": {
     "end_time": "2021-04-23T14:47:27.213149Z",
     "start_time": "2021-04-23T14:47:26.991576Z"
    }
   },
   "outputs": [
    {
     "data": {
      "image/png": "[encoded data removed]",
      "text/plain": [
       "<Figure size 1800x864 with 1 Axes>"
      ]
     },
     "metadata": {},
     "output_type": "display_data"
    }
   ],
   "source": [
    "sns.barplot(x = 'salary_category', y = 'relative_percentage' ,data = aux10, hue = 'exited').set_title('Salary Category Percentage Over Churn')\n",
    "plt.xticks(rotation = 70);"
   ]
  },
  {
   "cell_type": "code",
   "execution_count": 84,
   "id": "iraqi-worker",
   "metadata": {
    "ExecuteTime": {
     "end_time": "2021-04-23T12:31:44.952941Z",
     "start_time": "2021-04-23T12:29:55.827999Z"
    }
   },
   "outputs": [
    {
     "data": {
      "text/plain": [
       "<AxesSubplot:xlabel='estimated_salary', ylabel='count'>"
      ]
     },
     "execution_count": 84,
     "metadata": {},
     "output_type": "execute_result"
    },
    {
     "name": "stdout",
     "output_type": "stream",
     "text": [
      "Error in callback <function flush_figures at 0x7ff0f1844d30> (for post_execute):\n"
     ]
    },
    {
     "ename": "KeyboardInterrupt",
     "evalue": "",
     "output_type": "error",
     "traceback": [
      "\u001b[0;31m---------------------------------------------------------------------------\u001b[0m",
      "\u001b[0;31mKeyboardInterrupt\u001b[0m                         Traceback (most recent call last)",
      "\u001b[0;32m~/.pyenv/versions/3.9.1/envs/Client-Churn-Prediction/lib/python3.9/site-packages/ipykernel/pylab/backend_inline.py\u001b[0m in \u001b[0;36mflush_figures\u001b[0;34m()\u001b[0m\n\u001b[1;32m    118\u001b[0m         \u001b[0;31m# ignore the tracking, just draw and close all figures\u001b[0m\u001b[0;34m\u001b[0m\u001b[0;34m\u001b[0m\u001b[0;34m\u001b[0m\u001b[0m\n\u001b[1;32m    119\u001b[0m         \u001b[0;32mtry\u001b[0m\u001b[0;34m:\u001b[0m\u001b[0;34m\u001b[0m\u001b[0;34m\u001b[0m\u001b[0m\n\u001b[0;32m--> 120\u001b[0;31m             \u001b[0;32mreturn\u001b[0m \u001b[0mshow\u001b[0m\u001b[0;34m(\u001b[0m\u001b[0;32mTrue\u001b[0m\u001b[0;34m)\u001b[0m\u001b[0;34m\u001b[0m\u001b[0;34m\u001b[0m\u001b[0m\n\u001b[0m\u001b[1;32m    121\u001b[0m         \u001b[0;32mexcept\u001b[0m \u001b[0mException\u001b[0m \u001b[0;32mas\u001b[0m \u001b[0me\u001b[0m\u001b[0;34m:\u001b[0m\u001b[0;34m\u001b[0m\u001b[0;34m\u001b[0m\u001b[0m\n\u001b[1;32m    122\u001b[0m             \u001b[0;31m# safely show traceback if in IPython, else raise\u001b[0m\u001b[0;34m\u001b[0m\u001b[0;34m\u001b[0m\u001b[0;34m\u001b[0m\u001b[0m\n",
      "\u001b[0;32m~/.pyenv/versions/3.9.1/envs/Client-Churn-Prediction/lib/python3.9/site-packages/ipykernel/pylab/backend_inline.py\u001b[0m in \u001b[0;36mshow\u001b[0;34m(close, block)\u001b[0m\n\u001b[1;32m     38\u001b[0m     \u001b[0;32mtry\u001b[0m\u001b[0;34m:\u001b[0m\u001b[0;34m\u001b[0m\u001b[0;34m\u001b[0m\u001b[0m\n\u001b[1;32m     39\u001b[0m         \u001b[0;32mfor\u001b[0m \u001b[0mfigure_manager\u001b[0m \u001b[0;32min\u001b[0m \u001b[0mGcf\u001b[0m\u001b[0;34m.\u001b[0m\u001b[0mget_all_fig_managers\u001b[0m\u001b[0;34m(\u001b[0m\u001b[0;34m)\u001b[0m\u001b[0;34m:\u001b[0m\u001b[0;34m\u001b[0m\u001b[0;34m\u001b[0m\u001b[0m\n\u001b[0;32m---> 40\u001b[0;31m             display(\n\u001b[0m\u001b[1;32m     41\u001b[0m                 \u001b[0mfigure_manager\u001b[0m\u001b[0;34m.\u001b[0m\u001b[0mcanvas\u001b[0m\u001b[0;34m.\u001b[0m\u001b[0mfigure\u001b[0m\u001b[0;34m,\u001b[0m\u001b[0;34m\u001b[0m\u001b[0;34m\u001b[0m\u001b[0m\n\u001b[1;32m     42\u001b[0m                 \u001b[0mmetadata\u001b[0m\u001b[0;34m=\u001b[0m\u001b[0m_fetch_figure_metadata\u001b[0m\u001b[0;34m(\u001b[0m\u001b[0mfigure_manager\u001b[0m\u001b[0;34m.\u001b[0m\u001b[0mcanvas\u001b[0m\u001b[0;34m.\u001b[0m\u001b[0mfigure\u001b[0m\u001b[0;34m)\u001b[0m\u001b[0;34m\u001b[0m\u001b[0;34m\u001b[0m\u001b[0m\n",
      "\u001b[0;32m~/.pyenv/versions/3.9.1/envs/Client-Churn-Prediction/lib/python3.9/site-packages/IPython/core/display.py\u001b[0m in \u001b[0;36mdisplay\u001b[0;34m(include, exclude, metadata, transient, display_id, *objs, **kwargs)\u001b[0m\n\u001b[1;32m    311\u001b[0m             \u001b[0mpublish_display_data\u001b[0m\u001b[0;34m(\u001b[0m\u001b[0mdata\u001b[0m\u001b[0;34m=\u001b[0m\u001b[0mobj\u001b[0m\u001b[0;34m,\u001b[0m \u001b[0mmetadata\u001b[0m\u001b[0;34m=\u001b[0m\u001b[0mmetadata\u001b[0m\u001b[0;34m,\u001b[0m \u001b[0;34m**\u001b[0m\u001b[0mkwargs\u001b[0m\u001b[0;34m)\u001b[0m\u001b[0;34m\u001b[0m\u001b[0;34m\u001b[0m\u001b[0m\n\u001b[1;32m    312\u001b[0m         \u001b[0;32melse\u001b[0m\u001b[0;34m:\u001b[0m\u001b[0;34m\u001b[0m\u001b[0;34m\u001b[0m\u001b[0m\n\u001b[0;32m--> 313\u001b[0;31m             \u001b[0mformat_dict\u001b[0m\u001b[0;34m,\u001b[0m \u001b[0mmd_dict\u001b[0m \u001b[0;34m=\u001b[0m \u001b[0mformat\u001b[0m\u001b[0;34m(\u001b[0m\u001b[0mobj\u001b[0m\u001b[0;34m,\u001b[0m \u001b[0minclude\u001b[0m\u001b[0;34m=\u001b[0m\u001b[0minclude\u001b[0m\u001b[0;34m,\u001b[0m \u001b[0mexclude\u001b[0m\u001b[0;34m=\u001b[0m\u001b[0mexclude\u001b[0m\u001b[0;34m)\u001b[0m\u001b[0;34m\u001b[0m\u001b[0;34m\u001b[0m\u001b[0m\n\u001b[0m\u001b[1;32m    314\u001b[0m             \u001b[0;32mif\u001b[0m \u001b[0;32mnot\u001b[0m \u001b[0mformat_dict\u001b[0m\u001b[0;34m:\u001b[0m\u001b[0;34m\u001b[0m\u001b[0;34m\u001b[0m\u001b[0m\n\u001b[1;32m    315\u001b[0m                 \u001b[0;31m# nothing to display (e.g. _ipython_display_ took over)\u001b[0m\u001b[0;34m\u001b[0m\u001b[0;34m\u001b[0m\u001b[0;34m\u001b[0m\u001b[0m\n",
      "\u001b[0;32m~/.pyenv/versions/3.9.1/envs/Client-Churn-Prediction/lib/python3.9/site-packages/IPython/core/formatters.py\u001b[0m in \u001b[0;36mformat\u001b[0;34m(self, obj, include, exclude)\u001b[0m\n\u001b[1;32m    178\u001b[0m             \u001b[0mmd\u001b[0m \u001b[0;34m=\u001b[0m \u001b[0;32mNone\u001b[0m\u001b[0;34m\u001b[0m\u001b[0;34m\u001b[0m\u001b[0m\n\u001b[1;32m    179\u001b[0m             \u001b[0;32mtry\u001b[0m\u001b[0;34m:\u001b[0m\u001b[0;34m\u001b[0m\u001b[0;34m\u001b[0m\u001b[0m\n\u001b[0;32m--> 180\u001b[0;31m                 \u001b[0mdata\u001b[0m \u001b[0;34m=\u001b[0m \u001b[0mformatter\u001b[0m\u001b[0;34m(\u001b[0m\u001b[0mobj\u001b[0m\u001b[0;34m)\u001b[0m\u001b[0;34m\u001b[0m\u001b[0;34m\u001b[0m\u001b[0m\n\u001b[0m\u001b[1;32m    181\u001b[0m             \u001b[0;32mexcept\u001b[0m\u001b[0;34m:\u001b[0m\u001b[0;34m\u001b[0m\u001b[0;34m\u001b[0m\u001b[0m\n\u001b[1;32m    182\u001b[0m                 \u001b[0;31m# FIXME: log the exception\u001b[0m\u001b[0;34m\u001b[0m\u001b[0;34m\u001b[0m\u001b[0;34m\u001b[0m\u001b[0m\n",
      "\u001b[0;32m<decorator-gen-2>\u001b[0m in \u001b[0;36m__call__\u001b[0;34m(self, obj)\u001b[0m\n",
      "\u001b[0;32m~/.pyenv/versions/3.9.1/envs/Client-Churn-Prediction/lib/python3.9/site-packages/IPython/core/formatters.py\u001b[0m in \u001b[0;36mcatch_format_error\u001b[0;34m(method, self, *args, **kwargs)\u001b[0m\n\u001b[1;32m    222\u001b[0m     \u001b[0;34m\"\"\"show traceback on failed format call\"\"\"\u001b[0m\u001b[0;34m\u001b[0m\u001b[0;34m\u001b[0m\u001b[0m\n\u001b[1;32m    223\u001b[0m     \u001b[0;32mtry\u001b[0m\u001b[0;34m:\u001b[0m\u001b[0;34m\u001b[0m\u001b[0;34m\u001b[0m\u001b[0m\n\u001b[0;32m--> 224\u001b[0;31m         \u001b[0mr\u001b[0m \u001b[0;34m=\u001b[0m \u001b[0mmethod\u001b[0m\u001b[0;34m(\u001b[0m\u001b[0mself\u001b[0m\u001b[0;34m,\u001b[0m \u001b[0;34m*\u001b[0m\u001b[0margs\u001b[0m\u001b[0;34m,\u001b[0m \u001b[0;34m**\u001b[0m\u001b[0mkwargs\u001b[0m\u001b[0;34m)\u001b[0m\u001b[0;34m\u001b[0m\u001b[0;34m\u001b[0m\u001b[0m\n\u001b[0m\u001b[1;32m    225\u001b[0m     \u001b[0;32mexcept\u001b[0m \u001b[0mNotImplementedError\u001b[0m\u001b[0;34m:\u001b[0m\u001b[0;34m\u001b[0m\u001b[0;34m\u001b[0m\u001b[0m\n\u001b[1;32m    226\u001b[0m         \u001b[0;31m# don't warn on NotImplementedErrors\u001b[0m\u001b[0;34m\u001b[0m\u001b[0;34m\u001b[0m\u001b[0;34m\u001b[0m\u001b[0m\n",
      "\u001b[0;32m~/.pyenv/versions/3.9.1/envs/Client-Churn-Prediction/lib/python3.9/site-packages/IPython/core/formatters.py\u001b[0m in \u001b[0;36m__call__\u001b[0;34m(self, obj)\u001b[0m\n\u001b[1;32m    339\u001b[0m                 \u001b[0;32mpass\u001b[0m\u001b[0;34m\u001b[0m\u001b[0;34m\u001b[0m\u001b[0m\n\u001b[1;32m    340\u001b[0m             \u001b[0;32melse\u001b[0m\u001b[0;34m:\u001b[0m\u001b[0;34m\u001b[0m\u001b[0;34m\u001b[0m\u001b[0m\n\u001b[0;32m--> 341\u001b[0;31m                 \u001b[0;32mreturn\u001b[0m \u001b[0mprinter\u001b[0m\u001b[0;34m(\u001b[0m\u001b[0mobj\u001b[0m\u001b[0;34m)\u001b[0m\u001b[0;34m\u001b[0m\u001b[0;34m\u001b[0m\u001b[0m\n\u001b[0m\u001b[1;32m    342\u001b[0m             \u001b[0;31m# Finally look for special method names\u001b[0m\u001b[0;34m\u001b[0m\u001b[0;34m\u001b[0m\u001b[0;34m\u001b[0m\u001b[0m\n\u001b[1;32m    343\u001b[0m             \u001b[0mmethod\u001b[0m \u001b[0;34m=\u001b[0m \u001b[0mget_real_method\u001b[0m\u001b[0;34m(\u001b[0m\u001b[0mobj\u001b[0m\u001b[0;34m,\u001b[0m \u001b[0mself\u001b[0m\u001b[0;34m.\u001b[0m\u001b[0mprint_method\u001b[0m\u001b[0;34m)\u001b[0m\u001b[0;34m\u001b[0m\u001b[0;34m\u001b[0m\u001b[0m\n",
      "\u001b[0;32m~/.pyenv/versions/3.9.1/envs/Client-Churn-Prediction/lib/python3.9/site-packages/IPython/core/pylabtools.py\u001b[0m in \u001b[0;36m<lambda>\u001b[0;34m(fig)\u001b[0m\n\u001b[1;32m    246\u001b[0m \u001b[0;34m\u001b[0m\u001b[0m\n\u001b[1;32m    247\u001b[0m     \u001b[0;32mif\u001b[0m \u001b[0;34m'png'\u001b[0m \u001b[0;32min\u001b[0m \u001b[0mformats\u001b[0m\u001b[0;34m:\u001b[0m\u001b[0;34m\u001b[0m\u001b[0;34m\u001b[0m\u001b[0m\n\u001b[0;32m--> 248\u001b[0;31m         \u001b[0mpng_formatter\u001b[0m\u001b[0;34m.\u001b[0m\u001b[0mfor_type\u001b[0m\u001b[0;34m(\u001b[0m\u001b[0mFigure\u001b[0m\u001b[0;34m,\u001b[0m \u001b[0;32mlambda\u001b[0m \u001b[0mfig\u001b[0m\u001b[0;34m:\u001b[0m \u001b[0mprint_figure\u001b[0m\u001b[0;34m(\u001b[0m\u001b[0mfig\u001b[0m\u001b[0;34m,\u001b[0m \u001b[0;34m'png'\u001b[0m\u001b[0;34m,\u001b[0m \u001b[0;34m**\u001b[0m\u001b[0mkwargs\u001b[0m\u001b[0;34m)\u001b[0m\u001b[0;34m)\u001b[0m\u001b[0;34m\u001b[0m\u001b[0;34m\u001b[0m\u001b[0m\n\u001b[0m\u001b[1;32m    249\u001b[0m     \u001b[0;32mif\u001b[0m \u001b[0;34m'retina'\u001b[0m \u001b[0;32min\u001b[0m \u001b[0mformats\u001b[0m \u001b[0;32mor\u001b[0m \u001b[0;34m'png2x'\u001b[0m \u001b[0;32min\u001b[0m \u001b[0mformats\u001b[0m\u001b[0;34m:\u001b[0m\u001b[0;34m\u001b[0m\u001b[0;34m\u001b[0m\u001b[0m\n\u001b[1;32m    250\u001b[0m         \u001b[0mpng_formatter\u001b[0m\u001b[0;34m.\u001b[0m\u001b[0mfor_type\u001b[0m\u001b[0;34m(\u001b[0m\u001b[0mFigure\u001b[0m\u001b[0;34m,\u001b[0m \u001b[0;32mlambda\u001b[0m \u001b[0mfig\u001b[0m\u001b[0;34m:\u001b[0m \u001b[0mretina_figure\u001b[0m\u001b[0;34m(\u001b[0m\u001b[0mfig\u001b[0m\u001b[0;34m,\u001b[0m \u001b[0;34m**\u001b[0m\u001b[0mkwargs\u001b[0m\u001b[0;34m)\u001b[0m\u001b[0;34m)\u001b[0m\u001b[0;34m\u001b[0m\u001b[0;34m\u001b[0m\u001b[0m\n",
      "\u001b[0;32m~/.pyenv/versions/3.9.1/envs/Client-Churn-Prediction/lib/python3.9/site-packages/IPython/core/pylabtools.py\u001b[0m in \u001b[0;36mprint_figure\u001b[0;34m(fig, fmt, bbox_inches, **kwargs)\u001b[0m\n\u001b[1;32m    130\u001b[0m         \u001b[0mFigureCanvasBase\u001b[0m\u001b[0;34m(\u001b[0m\u001b[0mfig\u001b[0m\u001b[0;34m)\u001b[0m\u001b[0;34m\u001b[0m\u001b[0;34m\u001b[0m\u001b[0m\n\u001b[1;32m    131\u001b[0m \u001b[0;34m\u001b[0m\u001b[0m\n\u001b[0;32m--> 132\u001b[0;31m     \u001b[0mfig\u001b[0m\u001b[0;34m.\u001b[0m\u001b[0mcanvas\u001b[0m\u001b[0;34m.\u001b[0m\u001b[0mprint_figure\u001b[0m\u001b[0;34m(\u001b[0m\u001b[0mbytes_io\u001b[0m\u001b[0;34m,\u001b[0m \u001b[0;34m**\u001b[0m\u001b[0mkw\u001b[0m\u001b[0;34m)\u001b[0m\u001b[0;34m\u001b[0m\u001b[0;34m\u001b[0m\u001b[0m\n\u001b[0m\u001b[1;32m    133\u001b[0m     \u001b[0mdata\u001b[0m \u001b[0;34m=\u001b[0m \u001b[0mbytes_io\u001b[0m\u001b[0;34m.\u001b[0m\u001b[0mgetvalue\u001b[0m\u001b[0;34m(\u001b[0m\u001b[0;34m)\u001b[0m\u001b[0;34m\u001b[0m\u001b[0;34m\u001b[0m\u001b[0m\n\u001b[1;32m    134\u001b[0m     \u001b[0;32mif\u001b[0m \u001b[0mfmt\u001b[0m \u001b[0;34m==\u001b[0m \u001b[0;34m'svg'\u001b[0m\u001b[0;34m:\u001b[0m\u001b[0;34m\u001b[0m\u001b[0;34m\u001b[0m\u001b[0m\n",
      "\u001b[0;32m~/.pyenv/versions/3.9.1/envs/Client-Churn-Prediction/lib/python3.9/site-packages/matplotlib/backend_bases.py\u001b[0m in \u001b[0;36mprint_figure\u001b[0;34m(self, filename, dpi, facecolor, edgecolor, orientation, format, bbox_inches, pad_inches, bbox_extra_artists, backend, **kwargs)\u001b[0m\n\u001b[1;32m   2253\u001b[0m                 \u001b[0;31m# force the figure dpi to 72), so we need to set it again here.\u001b[0m\u001b[0;34m\u001b[0m\u001b[0;34m\u001b[0m\u001b[0;34m\u001b[0m\u001b[0m\n\u001b[1;32m   2254\u001b[0m                 \u001b[0;32mwith\u001b[0m \u001b[0mcbook\u001b[0m\u001b[0;34m.\u001b[0m\u001b[0m_setattr_cm\u001b[0m\u001b[0;34m(\u001b[0m\u001b[0mself\u001b[0m\u001b[0;34m.\u001b[0m\u001b[0mfigure\u001b[0m\u001b[0;34m,\u001b[0m \u001b[0mdpi\u001b[0m\u001b[0;34m=\u001b[0m\u001b[0mdpi\u001b[0m\u001b[0;34m)\u001b[0m\u001b[0;34m:\u001b[0m\u001b[0;34m\u001b[0m\u001b[0;34m\u001b[0m\u001b[0m\n\u001b[0;32m-> 2255\u001b[0;31m                     result = print_method(\n\u001b[0m\u001b[1;32m   2256\u001b[0m                         \u001b[0mfilename\u001b[0m\u001b[0;34m,\u001b[0m\u001b[0;34m\u001b[0m\u001b[0;34m\u001b[0m\u001b[0m\n\u001b[1;32m   2257\u001b[0m                         \u001b[0mfacecolor\u001b[0m\u001b[0;34m=\u001b[0m\u001b[0mfacecolor\u001b[0m\u001b[0;34m,\u001b[0m\u001b[0;34m\u001b[0m\u001b[0;34m\u001b[0m\u001b[0m\n",
      "\u001b[0;32m~/.pyenv/versions/3.9.1/envs/Client-Churn-Prediction/lib/python3.9/site-packages/matplotlib/backend_bases.py\u001b[0m in \u001b[0;36mwrapper\u001b[0;34m(*args, **kwargs)\u001b[0m\n\u001b[1;32m   1667\u001b[0m             \u001b[0mkwargs\u001b[0m\u001b[0;34m.\u001b[0m\u001b[0mpop\u001b[0m\u001b[0;34m(\u001b[0m\u001b[0marg\u001b[0m\u001b[0;34m)\u001b[0m\u001b[0;34m\u001b[0m\u001b[0;34m\u001b[0m\u001b[0m\n\u001b[1;32m   1668\u001b[0m \u001b[0;34m\u001b[0m\u001b[0m\n\u001b[0;32m-> 1669\u001b[0;31m         \u001b[0;32mreturn\u001b[0m \u001b[0mfunc\u001b[0m\u001b[0;34m(\u001b[0m\u001b[0;34m*\u001b[0m\u001b[0margs\u001b[0m\u001b[0;34m,\u001b[0m \u001b[0;34m**\u001b[0m\u001b[0mkwargs\u001b[0m\u001b[0;34m)\u001b[0m\u001b[0;34m\u001b[0m\u001b[0;34m\u001b[0m\u001b[0m\n\u001b[0m\u001b[1;32m   1670\u001b[0m \u001b[0;34m\u001b[0m\u001b[0m\n\u001b[1;32m   1671\u001b[0m     \u001b[0;32mreturn\u001b[0m \u001b[0mwrapper\u001b[0m\u001b[0;34m\u001b[0m\u001b[0;34m\u001b[0m\u001b[0m\n",
      "\u001b[0;32m~/.pyenv/versions/3.9.1/envs/Client-Churn-Prediction/lib/python3.9/site-packages/matplotlib/backends/backend_agg.py\u001b[0m in \u001b[0;36mprint_png\u001b[0;34m(self, filename_or_obj, metadata, pil_kwargs, *args)\u001b[0m\n\u001b[1;32m    506\u001b[0m             \u001b[0;34m*\u001b[0m\u001b[0mmetadata\u001b[0m\u001b[0;34m*\u001b[0m\u001b[0;34m,\u001b[0m \u001b[0mincluding\u001b[0m \u001b[0mthe\u001b[0m \u001b[0mdefault\u001b[0m \u001b[0;34m'Software'\u001b[0m \u001b[0mkey\u001b[0m\u001b[0;34m.\u001b[0m\u001b[0;34m\u001b[0m\u001b[0;34m\u001b[0m\u001b[0m\n\u001b[1;32m    507\u001b[0m         \"\"\"\n\u001b[0;32m--> 508\u001b[0;31m         \u001b[0mFigureCanvasAgg\u001b[0m\u001b[0;34m.\u001b[0m\u001b[0mdraw\u001b[0m\u001b[0;34m(\u001b[0m\u001b[0mself\u001b[0m\u001b[0;34m)\u001b[0m\u001b[0;34m\u001b[0m\u001b[0;34m\u001b[0m\u001b[0m\n\u001b[0m\u001b[1;32m    509\u001b[0m         mpl.image.imsave(\n\u001b[1;32m    510\u001b[0m             \u001b[0mfilename_or_obj\u001b[0m\u001b[0;34m,\u001b[0m \u001b[0mself\u001b[0m\u001b[0;34m.\u001b[0m\u001b[0mbuffer_rgba\u001b[0m\u001b[0;34m(\u001b[0m\u001b[0;34m)\u001b[0m\u001b[0;34m,\u001b[0m \u001b[0mformat\u001b[0m\u001b[0;34m=\u001b[0m\u001b[0;34m\"png\"\u001b[0m\u001b[0;34m,\u001b[0m \u001b[0morigin\u001b[0m\u001b[0;34m=\u001b[0m\u001b[0;34m\"upper\"\u001b[0m\u001b[0;34m,\u001b[0m\u001b[0;34m\u001b[0m\u001b[0;34m\u001b[0m\u001b[0m\n",
      "\u001b[0;32m~/.pyenv/versions/3.9.1/envs/Client-Churn-Prediction/lib/python3.9/site-packages/matplotlib/backends/backend_agg.py\u001b[0m in \u001b[0;36mdraw\u001b[0;34m(self)\u001b[0m\n\u001b[1;32m    404\u001b[0m              (self.toolbar._wait_cursor_for_draw_cm() if self.toolbar\n\u001b[1;32m    405\u001b[0m               else nullcontext()):\n\u001b[0;32m--> 406\u001b[0;31m             \u001b[0mself\u001b[0m\u001b[0;34m.\u001b[0m\u001b[0mfigure\u001b[0m\u001b[0;34m.\u001b[0m\u001b[0mdraw\u001b[0m\u001b[0;34m(\u001b[0m\u001b[0mself\u001b[0m\u001b[0;34m.\u001b[0m\u001b[0mrenderer\u001b[0m\u001b[0;34m)\u001b[0m\u001b[0;34m\u001b[0m\u001b[0;34m\u001b[0m\u001b[0m\n\u001b[0m\u001b[1;32m    407\u001b[0m             \u001b[0;31m# A GUI class may be need to update a window using this draw, so\u001b[0m\u001b[0;34m\u001b[0m\u001b[0;34m\u001b[0m\u001b[0;34m\u001b[0m\u001b[0m\n\u001b[1;32m    408\u001b[0m             \u001b[0;31m# don't forget to call the superclass.\u001b[0m\u001b[0;34m\u001b[0m\u001b[0;34m\u001b[0m\u001b[0;34m\u001b[0m\u001b[0m\n",
      "\u001b[0;32m~/.pyenv/versions/3.9.1/envs/Client-Churn-Prediction/lib/python3.9/site-packages/matplotlib/artist.py\u001b[0m in \u001b[0;36mdraw_wrapper\u001b[0;34m(artist, renderer, *args, **kwargs)\u001b[0m\n\u001b[1;32m     72\u001b[0m     \u001b[0;34m@\u001b[0m\u001b[0mwraps\u001b[0m\u001b[0;34m(\u001b[0m\u001b[0mdraw\u001b[0m\u001b[0;34m)\u001b[0m\u001b[0;34m\u001b[0m\u001b[0;34m\u001b[0m\u001b[0m\n\u001b[1;32m     73\u001b[0m     \u001b[0;32mdef\u001b[0m \u001b[0mdraw_wrapper\u001b[0m\u001b[0;34m(\u001b[0m\u001b[0martist\u001b[0m\u001b[0;34m,\u001b[0m \u001b[0mrenderer\u001b[0m\u001b[0;34m,\u001b[0m \u001b[0;34m*\u001b[0m\u001b[0margs\u001b[0m\u001b[0;34m,\u001b[0m \u001b[0;34m**\u001b[0m\u001b[0mkwargs\u001b[0m\u001b[0;34m)\u001b[0m\u001b[0;34m:\u001b[0m\u001b[0;34m\u001b[0m\u001b[0;34m\u001b[0m\u001b[0m\n\u001b[0;32m---> 74\u001b[0;31m         \u001b[0mresult\u001b[0m \u001b[0;34m=\u001b[0m \u001b[0mdraw\u001b[0m\u001b[0;34m(\u001b[0m\u001b[0martist\u001b[0m\u001b[0;34m,\u001b[0m \u001b[0mrenderer\u001b[0m\u001b[0;34m,\u001b[0m \u001b[0;34m*\u001b[0m\u001b[0margs\u001b[0m\u001b[0;34m,\u001b[0m \u001b[0;34m**\u001b[0m\u001b[0mkwargs\u001b[0m\u001b[0;34m)\u001b[0m\u001b[0;34m\u001b[0m\u001b[0;34m\u001b[0m\u001b[0m\n\u001b[0m\u001b[1;32m     75\u001b[0m         \u001b[0;32mif\u001b[0m \u001b[0mrenderer\u001b[0m\u001b[0;34m.\u001b[0m\u001b[0m_rasterizing\u001b[0m\u001b[0;34m:\u001b[0m\u001b[0;34m\u001b[0m\u001b[0;34m\u001b[0m\u001b[0m\n\u001b[1;32m     76\u001b[0m             \u001b[0mrenderer\u001b[0m\u001b[0;34m.\u001b[0m\u001b[0mstop_rasterizing\u001b[0m\u001b[0;34m(\u001b[0m\u001b[0;34m)\u001b[0m\u001b[0;34m\u001b[0m\u001b[0;34m\u001b[0m\u001b[0m\n",
      "\u001b[0;32m~/.pyenv/versions/3.9.1/envs/Client-Churn-Prediction/lib/python3.9/site-packages/matplotlib/artist.py\u001b[0m in \u001b[0;36mdraw_wrapper\u001b[0;34m(artist, renderer, *args, **kwargs)\u001b[0m\n\u001b[1;32m     49\u001b[0m                 \u001b[0mrenderer\u001b[0m\u001b[0;34m.\u001b[0m\u001b[0mstart_filter\u001b[0m\u001b[0;34m(\u001b[0m\u001b[0;34m)\u001b[0m\u001b[0;34m\u001b[0m\u001b[0;34m\u001b[0m\u001b[0m\n\u001b[1;32m     50\u001b[0m \u001b[0;34m\u001b[0m\u001b[0m\n\u001b[0;32m---> 51\u001b[0;31m             \u001b[0;32mreturn\u001b[0m \u001b[0mdraw\u001b[0m\u001b[0;34m(\u001b[0m\u001b[0martist\u001b[0m\u001b[0;34m,\u001b[0m \u001b[0mrenderer\u001b[0m\u001b[0;34m,\u001b[0m \u001b[0;34m*\u001b[0m\u001b[0margs\u001b[0m\u001b[0;34m,\u001b[0m \u001b[0;34m**\u001b[0m\u001b[0mkwargs\u001b[0m\u001b[0;34m)\u001b[0m\u001b[0;34m\u001b[0m\u001b[0;34m\u001b[0m\u001b[0m\n\u001b[0m\u001b[1;32m     52\u001b[0m         \u001b[0;32mfinally\u001b[0m\u001b[0;34m:\u001b[0m\u001b[0;34m\u001b[0m\u001b[0;34m\u001b[0m\u001b[0m\n\u001b[1;32m     53\u001b[0m             \u001b[0;32mif\u001b[0m \u001b[0martist\u001b[0m\u001b[0;34m.\u001b[0m\u001b[0mget_agg_filter\u001b[0m\u001b[0;34m(\u001b[0m\u001b[0;34m)\u001b[0m \u001b[0;32mis\u001b[0m \u001b[0;32mnot\u001b[0m \u001b[0;32mNone\u001b[0m\u001b[0;34m:\u001b[0m\u001b[0;34m\u001b[0m\u001b[0;34m\u001b[0m\u001b[0m\n",
      "\u001b[0;32m~/.pyenv/versions/3.9.1/envs/Client-Churn-Prediction/lib/python3.9/site-packages/matplotlib/figure.py\u001b[0m in \u001b[0;36mdraw\u001b[0;34m(self, renderer)\u001b[0m\n\u001b[1;32m   2735\u001b[0m \u001b[0;34m\u001b[0m\u001b[0m\n\u001b[1;32m   2736\u001b[0m             \u001b[0mself\u001b[0m\u001b[0;34m.\u001b[0m\u001b[0mpatch\u001b[0m\u001b[0;34m.\u001b[0m\u001b[0mdraw\u001b[0m\u001b[0;34m(\u001b[0m\u001b[0mrenderer\u001b[0m\u001b[0;34m)\u001b[0m\u001b[0;34m\u001b[0m\u001b[0;34m\u001b[0m\u001b[0m\n\u001b[0;32m-> 2737\u001b[0;31m             mimage._draw_list_compositing_images(\n\u001b[0m\u001b[1;32m   2738\u001b[0m                 renderer, self, artists, self.suppressComposite)\n\u001b[1;32m   2739\u001b[0m \u001b[0;34m\u001b[0m\u001b[0m\n",
      "\u001b[0;32m~/.pyenv/versions/3.9.1/envs/Client-Churn-Prediction/lib/python3.9/site-packages/matplotlib/image.py\u001b[0m in \u001b[0;36m_draw_list_compositing_images\u001b[0;34m(renderer, parent, artists, suppress_composite)\u001b[0m\n\u001b[1;32m    130\u001b[0m     \u001b[0;32mif\u001b[0m \u001b[0mnot_composite\u001b[0m \u001b[0;32mor\u001b[0m \u001b[0;32mnot\u001b[0m \u001b[0mhas_images\u001b[0m\u001b[0;34m:\u001b[0m\u001b[0;34m\u001b[0m\u001b[0;34m\u001b[0m\u001b[0m\n\u001b[1;32m    131\u001b[0m         \u001b[0;32mfor\u001b[0m \u001b[0ma\u001b[0m \u001b[0;32min\u001b[0m \u001b[0martists\u001b[0m\u001b[0;34m:\u001b[0m\u001b[0;34m\u001b[0m\u001b[0;34m\u001b[0m\u001b[0m\n\u001b[0;32m--> 132\u001b[0;31m             \u001b[0ma\u001b[0m\u001b[0;34m.\u001b[0m\u001b[0mdraw\u001b[0m\u001b[0;34m(\u001b[0m\u001b[0mrenderer\u001b[0m\u001b[0;34m)\u001b[0m\u001b[0;34m\u001b[0m\u001b[0;34m\u001b[0m\u001b[0m\n\u001b[0m\u001b[1;32m    133\u001b[0m     \u001b[0;32melse\u001b[0m\u001b[0;34m:\u001b[0m\u001b[0;34m\u001b[0m\u001b[0;34m\u001b[0m\u001b[0m\n\u001b[1;32m    134\u001b[0m         \u001b[0;31m# Composite any adjacent images together\u001b[0m\u001b[0;34m\u001b[0m\u001b[0;34m\u001b[0m\u001b[0;34m\u001b[0m\u001b[0m\n",
      "\u001b[0;32m~/.pyenv/versions/3.9.1/envs/Client-Churn-Prediction/lib/python3.9/site-packages/matplotlib/artist.py\u001b[0m in \u001b[0;36mdraw_wrapper\u001b[0;34m(artist, renderer, *args, **kwargs)\u001b[0m\n\u001b[1;32m     49\u001b[0m                 \u001b[0mrenderer\u001b[0m\u001b[0;34m.\u001b[0m\u001b[0mstart_filter\u001b[0m\u001b[0;34m(\u001b[0m\u001b[0;34m)\u001b[0m\u001b[0;34m\u001b[0m\u001b[0;34m\u001b[0m\u001b[0m\n\u001b[1;32m     50\u001b[0m \u001b[0;34m\u001b[0m\u001b[0m\n\u001b[0;32m---> 51\u001b[0;31m             \u001b[0;32mreturn\u001b[0m \u001b[0mdraw\u001b[0m\u001b[0;34m(\u001b[0m\u001b[0martist\u001b[0m\u001b[0;34m,\u001b[0m \u001b[0mrenderer\u001b[0m\u001b[0;34m,\u001b[0m \u001b[0;34m*\u001b[0m\u001b[0margs\u001b[0m\u001b[0;34m,\u001b[0m \u001b[0;34m**\u001b[0m\u001b[0mkwargs\u001b[0m\u001b[0;34m)\u001b[0m\u001b[0;34m\u001b[0m\u001b[0;34m\u001b[0m\u001b[0m\n\u001b[0m\u001b[1;32m     52\u001b[0m         \u001b[0;32mfinally\u001b[0m\u001b[0;34m:\u001b[0m\u001b[0;34m\u001b[0m\u001b[0;34m\u001b[0m\u001b[0m\n\u001b[1;32m     53\u001b[0m             \u001b[0;32mif\u001b[0m \u001b[0martist\u001b[0m\u001b[0;34m.\u001b[0m\u001b[0mget_agg_filter\u001b[0m\u001b[0;34m(\u001b[0m\u001b[0;34m)\u001b[0m \u001b[0;32mis\u001b[0m \u001b[0;32mnot\u001b[0m \u001b[0;32mNone\u001b[0m\u001b[0;34m:\u001b[0m\u001b[0;34m\u001b[0m\u001b[0;34m\u001b[0m\u001b[0m\n",
      "\u001b[0;32m~/.pyenv/versions/3.9.1/envs/Client-Churn-Prediction/lib/python3.9/site-packages/matplotlib/_api/deprecation.py\u001b[0m in \u001b[0;36mwrapper\u001b[0;34m(*inner_args, **inner_kwargs)\u001b[0m\n\u001b[1;32m    429\u001b[0m                          \u001b[0;32melse\u001b[0m \u001b[0mdeprecation_addendum\u001b[0m\u001b[0;34m,\u001b[0m\u001b[0;34m\u001b[0m\u001b[0;34m\u001b[0m\u001b[0m\n\u001b[1;32m    430\u001b[0m                 **kwargs)\n\u001b[0;32m--> 431\u001b[0;31m         \u001b[0;32mreturn\u001b[0m \u001b[0mfunc\u001b[0m\u001b[0;34m(\u001b[0m\u001b[0;34m*\u001b[0m\u001b[0minner_args\u001b[0m\u001b[0;34m,\u001b[0m \u001b[0;34m**\u001b[0m\u001b[0minner_kwargs\u001b[0m\u001b[0;34m)\u001b[0m\u001b[0;34m\u001b[0m\u001b[0;34m\u001b[0m\u001b[0m\n\u001b[0m\u001b[1;32m    432\u001b[0m \u001b[0;34m\u001b[0m\u001b[0m\n\u001b[1;32m    433\u001b[0m     \u001b[0;32mreturn\u001b[0m \u001b[0mwrapper\u001b[0m\u001b[0;34m\u001b[0m\u001b[0;34m\u001b[0m\u001b[0m\n",
      "\u001b[0;32m~/.pyenv/versions/3.9.1/envs/Client-Churn-Prediction/lib/python3.9/site-packages/matplotlib/axes/_base.py\u001b[0m in \u001b[0;36mdraw\u001b[0;34m(self, renderer, inframe)\u001b[0m\n\u001b[1;32m   2883\u001b[0m                 \u001b[0martists\u001b[0m\u001b[0;34m.\u001b[0m\u001b[0mremove\u001b[0m\u001b[0;34m(\u001b[0m\u001b[0mspine\u001b[0m\u001b[0;34m)\u001b[0m\u001b[0;34m\u001b[0m\u001b[0;34m\u001b[0m\u001b[0m\n\u001b[1;32m   2884\u001b[0m \u001b[0;34m\u001b[0m\u001b[0m\n\u001b[0;32m-> 2885\u001b[0;31m         \u001b[0mself\u001b[0m\u001b[0;34m.\u001b[0m\u001b[0m_update_title_position\u001b[0m\u001b[0;34m(\u001b[0m\u001b[0mrenderer\u001b[0m\u001b[0;34m)\u001b[0m\u001b[0;34m\u001b[0m\u001b[0;34m\u001b[0m\u001b[0m\n\u001b[0m\u001b[1;32m   2886\u001b[0m \u001b[0;34m\u001b[0m\u001b[0m\n\u001b[1;32m   2887\u001b[0m         \u001b[0;32mif\u001b[0m \u001b[0;32mnot\u001b[0m \u001b[0mself\u001b[0m\u001b[0;34m.\u001b[0m\u001b[0maxison\u001b[0m \u001b[0;32mor\u001b[0m \u001b[0minframe\u001b[0m\u001b[0;34m:\u001b[0m\u001b[0;34m\u001b[0m\u001b[0;34m\u001b[0m\u001b[0m\n",
      "\u001b[0;32m~/.pyenv/versions/3.9.1/envs/Client-Churn-Prediction/lib/python3.9/site-packages/matplotlib/axes/_base.py\u001b[0m in \u001b[0;36m_update_title_position\u001b[0;34m(self, renderer)\u001b[0m\n\u001b[1;32m   2814\u001b[0m                 if (ax.xaxis.get_ticks_position() in ['top', 'unknown']\n\u001b[1;32m   2815\u001b[0m                         or ax.xaxis.get_label_position() == 'top'):\n\u001b[0;32m-> 2816\u001b[0;31m                     \u001b[0mbb\u001b[0m \u001b[0;34m=\u001b[0m \u001b[0max\u001b[0m\u001b[0;34m.\u001b[0m\u001b[0mxaxis\u001b[0m\u001b[0;34m.\u001b[0m\u001b[0mget_tightbbox\u001b[0m\u001b[0;34m(\u001b[0m\u001b[0mrenderer\u001b[0m\u001b[0;34m)\u001b[0m\u001b[0;34m\u001b[0m\u001b[0;34m\u001b[0m\u001b[0m\n\u001b[0m\u001b[1;32m   2817\u001b[0m                 \u001b[0;32melse\u001b[0m\u001b[0;34m:\u001b[0m\u001b[0;34m\u001b[0m\u001b[0;34m\u001b[0m\u001b[0m\n\u001b[1;32m   2818\u001b[0m                     \u001b[0mbb\u001b[0m \u001b[0;34m=\u001b[0m \u001b[0max\u001b[0m\u001b[0;34m.\u001b[0m\u001b[0mget_window_extent\u001b[0m\u001b[0;34m(\u001b[0m\u001b[0mrenderer\u001b[0m\u001b[0;34m)\u001b[0m\u001b[0;34m\u001b[0m\u001b[0;34m\u001b[0m\u001b[0m\n",
      "\u001b[0;32m~/.pyenv/versions/3.9.1/envs/Client-Churn-Prediction/lib/python3.9/site-packages/matplotlib/axis.py\u001b[0m in \u001b[0;36mget_tightbbox\u001b[0;34m(self, renderer, for_layout_only)\u001b[0m\n\u001b[1;32m   1078\u001b[0m \u001b[0;34m\u001b[0m\u001b[0m\n\u001b[1;32m   1079\u001b[0m         \u001b[0;31m# go back to just this axis's tick labels\u001b[0m\u001b[0;34m\u001b[0m\u001b[0;34m\u001b[0m\u001b[0;34m\u001b[0m\u001b[0m\n\u001b[0;32m-> 1080\u001b[0;31m         ticklabelBoxes, ticklabelBoxes2 = self._get_tick_bboxes(\n\u001b[0m\u001b[1;32m   1081\u001b[0m                     ticks_to_draw, renderer)\n\u001b[1;32m   1082\u001b[0m \u001b[0;34m\u001b[0m\u001b[0m\n",
      "\u001b[0;32m~/.pyenv/versions/3.9.1/envs/Client-Churn-Prediction/lib/python3.9/site-packages/matplotlib/axis.py\u001b[0m in \u001b[0;36m_get_tick_bboxes\u001b[0;34m(self, ticks, renderer)\u001b[0m\n\u001b[1;32m   1055\u001b[0m     \u001b[0;32mdef\u001b[0m \u001b[0m_get_tick_bboxes\u001b[0m\u001b[0;34m(\u001b[0m\u001b[0mself\u001b[0m\u001b[0;34m,\u001b[0m \u001b[0mticks\u001b[0m\u001b[0;34m,\u001b[0m \u001b[0mrenderer\u001b[0m\u001b[0;34m)\u001b[0m\u001b[0;34m:\u001b[0m\u001b[0;34m\u001b[0m\u001b[0;34m\u001b[0m\u001b[0m\n\u001b[1;32m   1056\u001b[0m         \u001b[0;34m\"\"\"Return lists of bboxes for ticks' label1's and label2's.\"\"\"\u001b[0m\u001b[0;34m\u001b[0m\u001b[0;34m\u001b[0m\u001b[0m\n\u001b[0;32m-> 1057\u001b[0;31m         return ([tick.label1.get_window_extent(renderer)\n\u001b[0m\u001b[1;32m   1058\u001b[0m                  for tick in ticks if tick.label1.get_visible()],\n\u001b[1;32m   1059\u001b[0m                 [tick.label2.get_window_extent(renderer)\n",
      "\u001b[0;32m~/.pyenv/versions/3.9.1/envs/Client-Churn-Prediction/lib/python3.9/site-packages/matplotlib/axis.py\u001b[0m in \u001b[0;36m<listcomp>\u001b[0;34m(.0)\u001b[0m\n\u001b[1;32m   1055\u001b[0m     \u001b[0;32mdef\u001b[0m \u001b[0m_get_tick_bboxes\u001b[0m\u001b[0;34m(\u001b[0m\u001b[0mself\u001b[0m\u001b[0;34m,\u001b[0m \u001b[0mticks\u001b[0m\u001b[0;34m,\u001b[0m \u001b[0mrenderer\u001b[0m\u001b[0;34m)\u001b[0m\u001b[0;34m:\u001b[0m\u001b[0;34m\u001b[0m\u001b[0;34m\u001b[0m\u001b[0m\n\u001b[1;32m   1056\u001b[0m         \u001b[0;34m\"\"\"Return lists of bboxes for ticks' label1's and label2's.\"\"\"\u001b[0m\u001b[0;34m\u001b[0m\u001b[0;34m\u001b[0m\u001b[0m\n\u001b[0;32m-> 1057\u001b[0;31m         return ([tick.label1.get_window_extent(renderer)\n\u001b[0m\u001b[1;32m   1058\u001b[0m                  for tick in ticks if tick.label1.get_visible()],\n\u001b[1;32m   1059\u001b[0m                 [tick.label2.get_window_extent(renderer)\n",
      "\u001b[0;32m~/.pyenv/versions/3.9.1/envs/Client-Churn-Prediction/lib/python3.9/site-packages/matplotlib/text.py\u001b[0m in \u001b[0;36mget_window_extent\u001b[0;34m(self, renderer, dpi)\u001b[0m\n\u001b[1;32m    901\u001b[0m \u001b[0;34m\u001b[0m\u001b[0m\n\u001b[1;32m    902\u001b[0m         \u001b[0;32mwith\u001b[0m \u001b[0mcbook\u001b[0m\u001b[0;34m.\u001b[0m\u001b[0m_setattr_cm\u001b[0m\u001b[0;34m(\u001b[0m\u001b[0mself\u001b[0m\u001b[0;34m.\u001b[0m\u001b[0mfigure\u001b[0m\u001b[0;34m,\u001b[0m \u001b[0mdpi\u001b[0m\u001b[0;34m=\u001b[0m\u001b[0mdpi\u001b[0m\u001b[0;34m)\u001b[0m\u001b[0;34m:\u001b[0m\u001b[0;34m\u001b[0m\u001b[0;34m\u001b[0m\u001b[0m\n\u001b[0;32m--> 903\u001b[0;31m             \u001b[0mbbox\u001b[0m\u001b[0;34m,\u001b[0m \u001b[0minfo\u001b[0m\u001b[0;34m,\u001b[0m \u001b[0mdescent\u001b[0m \u001b[0;34m=\u001b[0m \u001b[0mself\u001b[0m\u001b[0;34m.\u001b[0m\u001b[0m_get_layout\u001b[0m\u001b[0;34m(\u001b[0m\u001b[0mself\u001b[0m\u001b[0;34m.\u001b[0m\u001b[0m_renderer\u001b[0m\u001b[0;34m)\u001b[0m\u001b[0;34m\u001b[0m\u001b[0;34m\u001b[0m\u001b[0m\n\u001b[0m\u001b[1;32m    904\u001b[0m             \u001b[0mx\u001b[0m\u001b[0;34m,\u001b[0m \u001b[0my\u001b[0m \u001b[0;34m=\u001b[0m \u001b[0mself\u001b[0m\u001b[0;34m.\u001b[0m\u001b[0mget_unitless_position\u001b[0m\u001b[0;34m(\u001b[0m\u001b[0;34m)\u001b[0m\u001b[0;34m\u001b[0m\u001b[0;34m\u001b[0m\u001b[0m\n\u001b[1;32m    905\u001b[0m             \u001b[0mx\u001b[0m\u001b[0;34m,\u001b[0m \u001b[0my\u001b[0m \u001b[0;34m=\u001b[0m \u001b[0mself\u001b[0m\u001b[0;34m.\u001b[0m\u001b[0mget_transform\u001b[0m\u001b[0;34m(\u001b[0m\u001b[0;34m)\u001b[0m\u001b[0;34m.\u001b[0m\u001b[0mtransform\u001b[0m\u001b[0;34m(\u001b[0m\u001b[0;34m(\u001b[0m\u001b[0mx\u001b[0m\u001b[0;34m,\u001b[0m \u001b[0my\u001b[0m\u001b[0;34m)\u001b[0m\u001b[0;34m)\u001b[0m\u001b[0;34m\u001b[0m\u001b[0;34m\u001b[0m\u001b[0m\n",
      "\u001b[0;32m~/.pyenv/versions/3.9.1/envs/Client-Churn-Prediction/lib/python3.9/site-packages/matplotlib/text.py\u001b[0m in \u001b[0;36m_get_layout\u001b[0;34m(self, renderer)\u001b[0m\n\u001b[1;32m    312\u001b[0m             \u001b[0mclean_line\u001b[0m\u001b[0;34m,\u001b[0m \u001b[0mismath\u001b[0m \u001b[0;34m=\u001b[0m \u001b[0mself\u001b[0m\u001b[0;34m.\u001b[0m\u001b[0m_preprocess_math\u001b[0m\u001b[0;34m(\u001b[0m\u001b[0mline\u001b[0m\u001b[0;34m)\u001b[0m\u001b[0;34m\u001b[0m\u001b[0;34m\u001b[0m\u001b[0m\n\u001b[1;32m    313\u001b[0m             \u001b[0;32mif\u001b[0m \u001b[0mclean_line\u001b[0m\u001b[0;34m:\u001b[0m\u001b[0;34m\u001b[0m\u001b[0;34m\u001b[0m\u001b[0m\n\u001b[0;32m--> 314\u001b[0;31m                 w, h, d = renderer.get_text_width_height_descent(\n\u001b[0m\u001b[1;32m    315\u001b[0m                     clean_line, self._fontproperties, ismath=ismath)\n\u001b[1;32m    316\u001b[0m             \u001b[0;32melse\u001b[0m\u001b[0;34m:\u001b[0m\u001b[0;34m\u001b[0m\u001b[0;34m\u001b[0m\u001b[0m\n",
      "\u001b[0;32m~/.pyenv/versions/3.9.1/envs/Client-Churn-Prediction/lib/python3.9/site-packages/matplotlib/backends/backend_agg.py\u001b[0m in \u001b[0;36mget_text_width_height_descent\u001b[0;34m(self, s, prop, ismath)\u001b[0m\n\u001b[1;32m    238\u001b[0m         \u001b[0mflags\u001b[0m \u001b[0;34m=\u001b[0m \u001b[0mget_hinting_flag\u001b[0m\u001b[0;34m(\u001b[0m\u001b[0;34m)\u001b[0m\u001b[0;34m\u001b[0m\u001b[0;34m\u001b[0m\u001b[0m\n\u001b[1;32m    239\u001b[0m         \u001b[0mfont\u001b[0m \u001b[0;34m=\u001b[0m \u001b[0mself\u001b[0m\u001b[0;34m.\u001b[0m\u001b[0m_get_agg_font\u001b[0m\u001b[0;34m(\u001b[0m\u001b[0mprop\u001b[0m\u001b[0;34m)\u001b[0m\u001b[0;34m\u001b[0m\u001b[0;34m\u001b[0m\u001b[0m\n\u001b[0;32m--> 240\u001b[0;31m         \u001b[0mfont\u001b[0m\u001b[0;34m.\u001b[0m\u001b[0mset_text\u001b[0m\u001b[0;34m(\u001b[0m\u001b[0ms\u001b[0m\u001b[0;34m,\u001b[0m \u001b[0;36m0.0\u001b[0m\u001b[0;34m,\u001b[0m \u001b[0mflags\u001b[0m\u001b[0;34m=\u001b[0m\u001b[0mflags\u001b[0m\u001b[0;34m)\u001b[0m\u001b[0;34m\u001b[0m\u001b[0;34m\u001b[0m\u001b[0m\n\u001b[0m\u001b[1;32m    241\u001b[0m         \u001b[0mw\u001b[0m\u001b[0;34m,\u001b[0m \u001b[0mh\u001b[0m \u001b[0;34m=\u001b[0m \u001b[0mfont\u001b[0m\u001b[0;34m.\u001b[0m\u001b[0mget_width_height\u001b[0m\u001b[0;34m(\u001b[0m\u001b[0;34m)\u001b[0m  \u001b[0;31m# width and height of unrotated string\u001b[0m\u001b[0;34m\u001b[0m\u001b[0;34m\u001b[0m\u001b[0m\n\u001b[1;32m    242\u001b[0m         \u001b[0md\u001b[0m \u001b[0;34m=\u001b[0m \u001b[0mfont\u001b[0m\u001b[0;34m.\u001b[0m\u001b[0mget_descent\u001b[0m\u001b[0;34m(\u001b[0m\u001b[0;34m)\u001b[0m\u001b[0;34m\u001b[0m\u001b[0;34m\u001b[0m\u001b[0m\n",
      "\u001b[0;31mKeyboardInterrupt\u001b[0m: "
     ]
    }
   ],
   "source": [
    "sns.countplot(x = 'estimated_salary', data = aux_exited0)"
   ]
  },
  {
   "cell_type": "markdown",
   "id": "grateful-instrumentation",
   "metadata": {},
   "source": [
    "### H2. Customers with lower balances tend to be in churn"
   ]
  },
  {
   "cell_type": "code",
   "execution_count": null,
   "id": "vocational-nicholas",
   "metadata": {},
   "outputs": [],
   "source": []
  },
  {
   "cell_type": "markdown",
   "id": "executed-gates",
   "metadata": {},
   "source": [
    "### H3. Customers who live in France tend to be in churn"
   ]
  },
  {
   "cell_type": "code",
   "execution_count": null,
   "id": "environmental-louisiana",
   "metadata": {},
   "outputs": [],
   "source": []
  },
  {
   "cell_type": "markdown",
   "id": "virtual-cooking",
   "metadata": {},
   "source": [
    "### H4. Active members should not be in churn"
   ]
  },
  {
   "cell_type": "code",
   "execution_count": null,
   "id": "flexible-monthly",
   "metadata": {},
   "outputs": [],
   "source": []
  },
  {
   "cell_type": "markdown",
   "id": "amber-petroleum",
   "metadata": {},
   "source": [
    "### H5. Involuntary churn rate is grater than voluntary churn rate"
   ]
  },
  {
   "cell_type": "code",
   "execution_count": null,
   "id": "stock-bidder",
   "metadata": {},
   "outputs": [],
   "source": []
  },
  {
   "cell_type": "code",
   "execution_count": null,
   "id": "monthly-rachel",
   "metadata": {},
   "outputs": [],
   "source": []
  },
  {
   "cell_type": "markdown",
   "id": "norwegian-workplace",
   "metadata": {},
   "source": [
    "### H6. Customers with credit card have more probability to churn"
   ]
  },
  {
   "cell_type": "code",
   "execution_count": null,
   "id": "improving-yahoo",
   "metadata": {},
   "outputs": [],
   "source": []
  },
  {
   "cell_type": "markdown",
   "id": "spread-preliminary",
   "metadata": {},
   "source": [
    "### H7. Customers with high credit scores have less probability to churn (*generally credit scores from 580 to 669 are considered fair; 670 to 739 are considered good; 740 to 799 are considered very good; and 800 and up are considered excellent.*)"
   ]
  },
  {
   "cell_type": "code",
   "execution_count": null,
   "id": "english-match",
   "metadata": {},
   "outputs": [],
   "source": []
  },
  {
   "cell_type": "markdown",
   "id": "swiss-anxiety",
   "metadata": {},
   "source": [
    "### H8. Customers with less products tend to churn more"
   ]
  },
  {
   "cell_type": "code",
   "execution_count": null,
   "id": "every-shaft",
   "metadata": {},
   "outputs": [],
   "source": []
  },
  {
   "cell_type": "markdown",
   "id": "classified-utilization",
   "metadata": {},
   "source": [
    "### H9. Womans tend to churn more often than mens"
   ]
  },
  {
   "cell_type": "code",
   "execution_count": null,
   "id": "accurate-tribune",
   "metadata": {},
   "outputs": [],
   "source": []
  },
  {
   "cell_type": "markdown",
   "id": "weighted-raising",
   "metadata": {},
   "source": [
    "### H10. Younger costumers tend to churn more often"
   ]
  },
  {
   "cell_type": "code",
   "execution_count": null,
   "id": "caroline-crime",
   "metadata": {},
   "outputs": [],
   "source": []
  },
  {
   "cell_type": "markdown",
   "id": "framed-procurement",
   "metadata": {},
   "source": [
    "### H11. Customer with higher tenure tend to have a lower churn rate"
   ]
  },
  {
   "cell_type": "code",
   "execution_count": null,
   "id": "advised-shooting",
   "metadata": {},
   "outputs": [],
   "source": []
  },
  {
   "cell_type": "markdown",
   "id": "graduate-massage",
   "metadata": {
    "ExecuteTime": {
     "end_time": "2021-04-19T13:23:59.628629Z",
     "start_time": "2021-04-19T13:23:59.619515Z"
    }
   },
   "source": [
    "- H1. Customers with higher salaries tend to be in churn\n",
    "\n",
    "- H2. Customers with lower balances tend to be in churn\n",
    "\n",
    "- H3. Customers who live in France tend to be in churn\n",
    "- H4. Active members should not be in churn\n",
    "- H5. Involuntary churn rate is grater than voluntary churn rate\n",
    "- H6. Customers with credit card have more probability to churn\n",
    "- H7. Customers with high credit scores have less probability to churn (*generally credit scores from 580 to 669 are considered fair; 670 to 739 are considered good; 740 to 799 are considered very good; and 800 and up are considered excellent.*)\n",
    "- H8. Customers with less products tend to churn more\n",
    "- H9. Womans tend to churn more often than mens\n",
    "- H10. Younger costumers tend to churn more often\n",
    "- H11. Customer with higher tenure tend to have a lower churn rate"
   ]
  },
  {
   "cell_type": "code",
   "execution_count": null,
   "id": "laughing-denial",
   "metadata": {},
   "outputs": [],
   "source": []
  },
  {
   "cell_type": "markdown",
   "id": "smooth-franklin",
   "metadata": {
    "heading_collapsed": true
   },
   "source": [
    "## Multivariate Analysis"
   ]
  },
  {
   "cell_type": "code",
   "execution_count": null,
   "id": "swedish-bonus",
   "metadata": {
    "hidden": true
   },
   "outputs": [],
   "source": []
  },
  {
   "cell_type": "markdown",
   "id": "distributed-rebate",
   "metadata": {},
   "source": [
    "# DATA PREPARATION"
   ]
  },
  {
   "cell_type": "code",
   "execution_count": null,
   "id": "single-camera",
   "metadata": {},
   "outputs": [],
   "source": []
  },
  {
   "cell_type": "markdown",
   "id": "controlling-wisconsin",
   "metadata": {
    "heading_collapsed": true
   },
   "source": [
    "## Feature Normalization"
   ]
  },
  {
   "cell_type": "code",
   "execution_count": null,
   "id": "angry-hearing",
   "metadata": {
    "hidden": true
   },
   "outputs": [],
   "source": []
  },
  {
   "cell_type": "markdown",
   "id": "adapted-pastor",
   "metadata": {
    "heading_collapsed": true
   },
   "source": [
    "## Feature Rescaling"
   ]
  },
  {
   "cell_type": "code",
   "execution_count": null,
   "id": "fuzzy-march",
   "metadata": {
    "hidden": true
   },
   "outputs": [],
   "source": []
  },
  {
   "cell_type": "markdown",
   "id": "talented-auction",
   "metadata": {
    "heading_collapsed": true
   },
   "source": [
    "## Feature Transformation"
   ]
  },
  {
   "cell_type": "markdown",
   "id": "nominated-potato",
   "metadata": {
    "heading_collapsed": true,
    "hidden": true
   },
   "source": [
    "### Enconding"
   ]
  },
  {
   "cell_type": "code",
   "execution_count": null,
   "id": "dressed-evans",
   "metadata": {
    "hidden": true
   },
   "outputs": [],
   "source": []
  },
  {
   "cell_type": "markdown",
   "id": "supposed-royalty",
   "metadata": {
    "heading_collapsed": true,
    "hidden": true
   },
   "source": [
    "### Target Variable Transformation"
   ]
  },
  {
   "cell_type": "code",
   "execution_count": null,
   "id": "innocent-nancy",
   "metadata": {
    "hidden": true
   },
   "outputs": [],
   "source": []
  },
  {
   "cell_type": "markdown",
   "id": "eligible-safety",
   "metadata": {
    "heading_collapsed": true,
    "hidden": true
   },
   "source": [
    "### Nature Transformation"
   ]
  },
  {
   "cell_type": "code",
   "execution_count": null,
   "id": "imperial-judges",
   "metadata": {
    "hidden": true
   },
   "outputs": [],
   "source": []
  },
  {
   "cell_type": "markdown",
   "id": "fatal-meditation",
   "metadata": {
    "heading_collapsed": true
   },
   "source": [
    "# FEATURE SELECTION"
   ]
  },
  {
   "cell_type": "code",
   "execution_count": null,
   "id": "oriental-benjamin",
   "metadata": {
    "hidden": true
   },
   "outputs": [],
   "source": []
  },
  {
   "cell_type": "markdown",
   "id": "internal-stake",
   "metadata": {
    "heading_collapsed": true,
    "hidden": true
   },
   "source": [
    "## Spliting dataframe into training and test dataset"
   ]
  },
  {
   "cell_type": "code",
   "execution_count": null,
   "id": "norman-compatibility",
   "metadata": {
    "hidden": true
   },
   "outputs": [],
   "source": []
  },
  {
   "cell_type": "markdown",
   "id": "personalized-intervention",
   "metadata": {
    "heading_collapsed": true,
    "hidden": true
   },
   "source": [
    "## Feature Selector (boruta?)"
   ]
  },
  {
   "cell_type": "code",
   "execution_count": null,
   "id": "determined-pressing",
   "metadata": {
    "hidden": true
   },
   "outputs": [],
   "source": []
  },
  {
   "cell_type": "markdown",
   "id": "executive-gates",
   "metadata": {
    "heading_collapsed": true,
    "hidden": true
   },
   "source": [
    "## Best Features"
   ]
  },
  {
   "cell_type": "code",
   "execution_count": null,
   "id": "advance-serve",
   "metadata": {
    "hidden": true
   },
   "outputs": [],
   "source": []
  },
  {
   "cell_type": "markdown",
   "id": "electronic-release",
   "metadata": {
    "heading_collapsed": true
   },
   "source": [
    "# MACHINE LEARNING ALGORITHM MODELS"
   ]
  },
  {
   "cell_type": "markdown",
   "id": "stuffed-rally",
   "metadata": {
    "hidden": true
   },
   "source": [
    "## Modelo 1"
   ]
  },
  {
   "cell_type": "markdown",
   "id": "veterinary-oxford",
   "metadata": {
    "hidden": true
   },
   "source": [
    "## Modelo 2"
   ]
  },
  {
   "cell_type": "markdown",
   "id": "requested-mason",
   "metadata": {
    "hidden": true
   },
   "source": [
    "## Modelo 3"
   ]
  },
  {
   "cell_type": "markdown",
   "id": "charged-potato",
   "metadata": {
    "hidden": true
   },
   "source": [
    "## Compare Model's Performance"
   ]
  },
  {
   "cell_type": "code",
   "execution_count": null,
   "id": "representative-blake",
   "metadata": {
    "hidden": true
   },
   "outputs": [],
   "source": []
  },
  {
   "cell_type": "markdown",
   "id": "frequent-brooklyn",
   "metadata": {},
   "source": [
    "# HYPERPARAMETERS FINE TUNING"
   ]
  },
  {
   "cell_type": "code",
   "execution_count": null,
   "id": "absent-telephone",
   "metadata": {},
   "outputs": [],
   "source": []
  },
  {
   "cell_type": "markdown",
   "id": "bright-green",
   "metadata": {},
   "source": [
    "# ERROR INTERPRETATION"
   ]
  },
  {
   "cell_type": "code",
   "execution_count": null,
   "id": "dirty-hindu",
   "metadata": {},
   "outputs": [],
   "source": []
  },
  {
   "cell_type": "markdown",
   "id": "fifth-tooth",
   "metadata": {},
   "source": [
    "# MODEL DEPLOYMENT"
   ]
  }
 ],
 "metadata": {
  "kernelspec": {
   "display_name": "Python 3",
   "language": "python",
   "name": "python3"
  },
  "language_info": {
   "codemirror_mode": {
    "name": "ipython",
    "version": 3
   },
   "file_extension": ".py",
   "mimetype": "text/x-python",
   "name": "python",
   "nbconvert_exporter": "python",
   "pygments_lexer": "ipython3",
   "version": "3.9.1"
  },
  "toc": {
   "base_numbering": 1,
   "nav_menu": {},
   "number_sections": true,
   "sideBar": true,
   "skip_h1_title": false,
   "title_cell": "Table of Contents",
   "title_sidebar": "Contents",
   "toc_cell": false,
   "toc_position": {},
   "toc_section_display": true,
   "toc_window_display": false
  }
 },
 "nbformat": 4,
 "nbformat_minor": 5
}
