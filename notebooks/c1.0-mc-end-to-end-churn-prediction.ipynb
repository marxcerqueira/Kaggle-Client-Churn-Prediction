{
 "cells": [
  {
   "cell_type": "markdown",
   "id": "french-dollar",
   "metadata": {},
   "source": [
    "High Value Customers Identification"
   ]
  },
  {
   "cell_type": "markdown",
   "id": "interracial-limitation",
   "metadata": {},
   "source": [
    "# Project Solution Planning"
   ]
  },
  {
   "cell_type": "markdown",
   "id": "close-credits",
   "metadata": {},
   "source": [
    "Churn analytics: \n",
    "- Churn (or attrition), in the simplest terms, is when customers leave and stop buying your product or using your service during a defined time frame.\n",
    "\n",
    "- In order to do keep churn rates as close to zero as possible, companies in nearly every industry need to treat churn as a top priority. If ignored, churn can plateau the growth of any business, even the ones that can gain customers quickly."
   ]
  },
  {
   "cell_type": "markdown",
   "id": "thrown-montana",
   "metadata": {},
   "source": [
    "## Inputs"
   ]
  },
  {
   "cell_type": "markdown",
   "id": "capital-surfing",
   "metadata": {},
   "source": [
    "1. Problema de Negócio\n",
    "    - Taxa de churn aumentou nos últimos meses\n",
    "    - Rankear os clientes com maiores probabilidades de entrar em churn\n",
    "\n",
    "2. Conjunto de dados\n",
    "    - Atributos que descrevem os clientes de um determinado banco: ChrunDataset Kaggle"
   ]
  },
  {
   "cell_type": "markdown",
   "id": "rough-relative",
   "metadata": {},
   "source": [
    "## Output"
   ]
  },
  {
   "cell_type": "markdown",
   "id": "funny-camping",
   "metadata": {
    "ExecuteTime": {
     "end_time": "2021-04-07T19:38:32.014786Z",
     "start_time": "2021-04-07T19:38:32.005785Z"
    }
   },
   "source": [
    "1. Indicação das pessoas que irão entrar em churn\n",
    "    - Coluna em tabela com rankeado das pessoas com propensão de entrar em churn\n",
    "    - Modelo em produção\n",
    "    \n",
    "2. Relatório com performance do modelo e respostas das perguntas:\n",
    "     - Qual a taxa atual de Churn da TopBank? Como ela varia mensalmente?\n",
    "     - Qual a Performance do modelo em classificar os clientes como churns?\n",
    "     - Qual o retorno esperado, em termos de faturamento, se a empresa utilizar seu modelo para evitar o churn dos clientes?\n",
    "     - Para quais clientes você daria o incentivo financeiro e qual seria esse valor, de modo a maximizar o ROI (Retorno sobre o investimento). Lembrando que a soma dos incentivos não pode ultrapassar os  R$10.000,00\n",
    "    "
   ]
  },
  {
   "cell_type": "markdown",
   "id": "agreed-pierce",
   "metadata": {},
   "source": [
    "## Tasks"
   ]
  },
  {
   "cell_type": "markdown",
   "id": "incoming-money",
   "metadata": {},
   "source": [
    "1. Qual a taxa atual de Churn da TopBank? Como ela varia mensalmente?\n",
    "    - Calcular taxa atual, somatório da coluna target divido pelo número total de clientes da base\n",
    "    \n",
    "2. Qual a Performance do modelo em classificar os clientes como churns?\n",
    "    - Calculo da performance do modelo\n",
    "    - Verificar métricas de performance learning to rank\n",
    "    \n",
    "3. Qual o retorno esperado, em termos de faturamento, se a empresa utilizar seu modelo para evitar o churn dos clientes?\n",
    "    - Curva lift para comparação do modelo com o status quo da empresa e apresentação do resultado\n",
    "    - Calcular diferença em reais do modelo\n",
    "    - Calcular ROI\n",
    "    - Comparativo entre ROIs\n",
    "\n",
    "4. Para quais clientes você daria o incentivo financeiro e qual seria esse valor, de modo a maximizar o ROI (Retorno sobre o investimento). Lembrando que a soma dos incentivos não pode ultrapassar os  R$10.000,00\n",
    "    - Classificar quais clientes trarão mais retorno para empresa com o incentivo.\n",
    "    "
   ]
  },
  {
   "cell_type": "markdown",
   "id": "homeless-heading",
   "metadata": {},
   "source": [
    "# Imports"
   ]
  },
  {
   "cell_type": "code",
   "execution_count": 12,
   "id": "lovely-guess",
   "metadata": {
    "ExecuteTime": {
     "end_time": "2021-04-16T19:04:48.355630Z",
     "start_time": "2021-04-16T19:04:48.347948Z"
    }
   },
   "outputs": [],
   "source": [
    "import pandas as pd\n",
    "import numpy as np\n",
    "import seaborn as sns\n",
    "import os\n",
    "import inflection\n",
    "\n",
    "import missingno as msno\n",
    "\n",
    "\n",
    "from IPython.core.display    import HTML\n",
    "from IPython.display         import Image"
   ]
  },
  {
   "cell_type": "code",
   "execution_count": 2,
   "id": "indoor-archives",
   "metadata": {
    "ExecuteTime": {
     "end_time": "2021-04-08T11:21:23.408296Z",
     "start_time": "2021-04-08T11:21:23.397563Z"
    }
   },
   "outputs": [
    {
     "data": {
      "text/plain": [
       "'/home/marxcerqueira/repos/Data-Science-Projects/Kaggle-Client-Churn-Prediction/notebooks'"
      ]
     },
     "execution_count": 2,
     "metadata": {},
     "output_type": "execute_result"
    }
   ],
   "source": [
    "os.getcwd()"
   ]
  },
  {
   "cell_type": "markdown",
   "id": "dressed-ukraine",
   "metadata": {},
   "source": [
    "## Helper Functions"
   ]
  },
  {
   "cell_type": "code",
   "execution_count": 13,
   "id": "cordless-people",
   "metadata": {
    "ExecuteTime": {
     "end_time": "2021-04-16T19:04:50.538239Z",
     "start_time": "2021-04-16T19:04:50.532583Z"
    }
   },
   "outputs": [],
   "source": [
    "def jupyter_settings():\n",
    "    %matplotlib inline\n",
    "    %pylab inline\n",
    "    \n",
    "    plt.style.use( 'bmh' )\n",
    "    plt.rcParams['figure.figsize'] = [25, 12]\n",
    "    plt.rcParams['font.size'] = 24\n",
    "    \n",
    "    display( HTML( '<style>.container { width:100% !important; }</style>') )\n",
    "    pd.options.display.max_columns = None\n",
    "    pd.options.display.max_rows = None\n",
    "    pd.set_option( 'display.expand_frame_repr', False )\n",
    "    \n",
    "    sns.set()\n",
    "    \n",
    "# def cramer_v( x, y ):\n",
    "#     cm = pd.crosstab( x, y ).values # Confusion Matrix\n",
    "#     n = cm.sum()\n",
    "#     r, k = cm.shape\n",
    "    \n",
    "#     chi2 = ss.chi2_contingency( cm )[0]\n",
    "#     chi2corr = max( 0, chi2 - (k-1)*(r-1)/(n-1) )\n",
    "    \n",
    "#     kcorr = k - (k-1)**2/(n-1)\n",
    "#     rcorr = r - (r-1)**2/(n-1)\n",
    "    \n",
    "#     return np.sqrt( (chi2corr/n) / ( min( kcorr-1, rcorr-1 ) ) )\n",
    "\n",
    "# def mean_absolute_percentage_error( y, yhat ):\n",
    "#     return np.mean( np.abs( ( y-yhat ) / y ))\n",
    "\n",
    "# def mean_percentage_error( y, yhat ):\n",
    "#     return np.mean( ( y - yhat ) / y )\n",
    "\n",
    "# def ml_error ( model_name, y, yhat):\n",
    "#     mae = mean_absolute_error( y,yhat )\n",
    "#     mape = mean_absolute_percentage_error( y,yhat )\n",
    "#     rmse = np.sqrt(mean_squared_error( y,yhat ))\n",
    "    \n",
    "#     return pd.DataFrame( {'Model Name': model_name,\n",
    "#                           'MAE': mae,\n",
    "#                           'MAPE': mape,\n",
    "#                           'RMSE': rmse}, index=[0])\n",
    "\n",
    "# def cross_validation( x_training, kfold, model_name, model, verbose=False ):\n",
    "#     mae_list = []\n",
    "#     mape_list = []\n",
    "#     rmse_list = []\n",
    "    \n",
    "#     for k in reversed( range( 1, kfold+1 ) ):\n",
    "#         if verbose:\n",
    "#             print( '\\nKFold Number: {}'.format( k ) )\n",
    "#         # start and end date for validation \n",
    "#         start_date_validation = x_training['date'].max() - datetime.timedelta( days=k*6*7)\n",
    "#         end_date_validation = x_training['date'].max() - datetime.timedelta( days=(k-1)*6*7)\n",
    "\n",
    "#         # filtering dataset\n",
    "#         training = x_training[x_training['date'] < start_date_validation]\n",
    "#         validation = x_training[(x_training['date'] >= start_date_validation) & (x_training['date'] <= end_date_validation)]\n",
    "\n",
    "#         # training and validation dataset\n",
    "#         # training\n",
    "#         xtraining = training.drop( ['date', 'sales'], axis=1 ) \n",
    "#         ytraining = training['sales']\n",
    "\n",
    "#         # validation\n",
    "#         xvalidation = validation.drop( ['date', 'sales'], axis=1 )\n",
    "#         yvalidation = validation['sales']\n",
    "\n",
    "#         # model\n",
    "#         m = model.fit( xtraining, ytraining )\n",
    "\n",
    "#         # prediction\n",
    "#         yhat = m.predict( xvalidation )\n",
    "\n",
    "#         # performance\n",
    "#         m_result = ml_error( model_name, np.expm1( yvalidation ), np.expm1( yhat ) )\n",
    "\n",
    "#         # store performance of each kfold iteration\n",
    "#         mae_list.append(  m_result['MAE'] )\n",
    "#         mape_list.append( m_result['MAPE'] )\n",
    "#         rmse_list.append( m_result['RMSE'] )\n",
    "\n",
    "#     return pd.DataFrame( {'Model Name': model_name,\n",
    "#                           'MAE CV': np.round( np.mean( mae_list ), 2 ).astype( str ) + ' +/- ' + np.round( np.std( mae_list ), 2 ).astype( str ),\n",
    "#                           'MAPE CV': np.round( np.mean( mape_list ), 2 ).astype( str ) + ' +/- ' + np.round( np.std( mape_list ), 2 ).astype( str ),\n",
    "#                           'RMSE CV': np.round( np.mean( rmse_list ), 2 ).astype( str ) + ' +/- ' + np.round( np.std( rmse_list ), 2 ).astype( str ) }, index=[0] )\n"
   ]
  },
  {
   "cell_type": "code",
   "execution_count": 14,
   "id": "casual-ecology",
   "metadata": {
    "ExecuteTime": {
     "end_time": "2021-04-16T19:04:52.469264Z",
     "start_time": "2021-04-16T19:04:52.455724Z"
    }
   },
   "outputs": [
    {
     "name": "stdout",
     "output_type": "stream",
     "text": [
      "Populating the interactive namespace from numpy and matplotlib\n"
     ]
    },
    {
     "data": {
      "text/html": [
       "<style>.container { width:100% !important; }</style>"
      ],
      "text/plain": [
       "<IPython.core.display.HTML object>"
      ]
     },
     "metadata": {},
     "output_type": "display_data"
    }
   ],
   "source": [
    "jupyter_settings()"
   ]
  },
  {
   "cell_type": "markdown",
   "id": "perceived-wright",
   "metadata": {},
   "source": [
    "## Loading Dataset"
   ]
  },
  {
   "cell_type": "markdown",
   "id": "departmental-dance",
   "metadata": {},
   "source": [
    " - **Source**: https://www.kaggle.com/mervetorkan/churndataset"
   ]
  },
  {
   "cell_type": "code",
   "execution_count": 15,
   "id": "horizontal-interference",
   "metadata": {
    "ExecuteTime": {
     "end_time": "2021-04-16T19:04:54.731910Z",
     "start_time": "2021-04-16T19:04:54.675602Z"
    }
   },
   "outputs": [],
   "source": [
    "df_churn_raw = pd.read_csv('/home/marxcerqueira/repos/Data-Science-Projects/Kaggle-Client-Churn-Prediction/data/raw/churn.csv', low_memory = False)"
   ]
  },
  {
   "cell_type": "code",
   "execution_count": 16,
   "id": "consecutive-cooler",
   "metadata": {
    "ExecuteTime": {
     "end_time": "2021-04-16T19:04:57.235747Z",
     "start_time": "2021-04-16T19:04:57.202074Z"
    },
    "scrolled": true
   },
   "outputs": [
    {
     "data": {
      "text/html": [
       "<div>\n",
       "<style scoped>\n",
       "    .dataframe tbody tr th:only-of-type {\n",
       "        vertical-align: middle;\n",
       "    }\n",
       "\n",
       "    .dataframe tbody tr th {\n",
       "        vertical-align: top;\n",
       "    }\n",
       "\n",
       "    .dataframe thead th {\n",
       "        text-align: right;\n",
       "    }\n",
       "</style>\n",
       "<table border=\"1\" class=\"dataframe\">\n",
       "  <thead>\n",
       "    <tr style=\"text-align: right;\">\n",
       "      <th></th>\n",
       "      <th>RowNumber</th>\n",
       "      <th>CustomerId</th>\n",
       "      <th>Surname</th>\n",
       "      <th>CreditScore</th>\n",
       "      <th>Geography</th>\n",
       "      <th>Gender</th>\n",
       "      <th>Age</th>\n",
       "      <th>Tenure</th>\n",
       "      <th>Balance</th>\n",
       "      <th>NumOfProducts</th>\n",
       "      <th>HasCrCard</th>\n",
       "      <th>IsActiveMember</th>\n",
       "      <th>EstimatedSalary</th>\n",
       "      <th>Exited</th>\n",
       "    </tr>\n",
       "  </thead>\n",
       "  <tbody>\n",
       "    <tr>\n",
       "      <th>0</th>\n",
       "      <td>1</td>\n",
       "      <td>15634602</td>\n",
       "      <td>Hargrave</td>\n",
       "      <td>619</td>\n",
       "      <td>France</td>\n",
       "      <td>Female</td>\n",
       "      <td>42</td>\n",
       "      <td>2</td>\n",
       "      <td>0.00</td>\n",
       "      <td>1</td>\n",
       "      <td>1</td>\n",
       "      <td>1</td>\n",
       "      <td>101348.88</td>\n",
       "      <td>1</td>\n",
       "    </tr>\n",
       "    <tr>\n",
       "      <th>1</th>\n",
       "      <td>2</td>\n",
       "      <td>15647311</td>\n",
       "      <td>Hill</td>\n",
       "      <td>608</td>\n",
       "      <td>Spain</td>\n",
       "      <td>Female</td>\n",
       "      <td>41</td>\n",
       "      <td>1</td>\n",
       "      <td>83807.86</td>\n",
       "      <td>1</td>\n",
       "      <td>0</td>\n",
       "      <td>1</td>\n",
       "      <td>112542.58</td>\n",
       "      <td>0</td>\n",
       "    </tr>\n",
       "    <tr>\n",
       "      <th>2</th>\n",
       "      <td>3</td>\n",
       "      <td>15619304</td>\n",
       "      <td>Onio</td>\n",
       "      <td>502</td>\n",
       "      <td>France</td>\n",
       "      <td>Female</td>\n",
       "      <td>42</td>\n",
       "      <td>8</td>\n",
       "      <td>159660.80</td>\n",
       "      <td>3</td>\n",
       "      <td>1</td>\n",
       "      <td>0</td>\n",
       "      <td>113931.57</td>\n",
       "      <td>1</td>\n",
       "    </tr>\n",
       "    <tr>\n",
       "      <th>3</th>\n",
       "      <td>4</td>\n",
       "      <td>15701354</td>\n",
       "      <td>Boni</td>\n",
       "      <td>699</td>\n",
       "      <td>France</td>\n",
       "      <td>Female</td>\n",
       "      <td>39</td>\n",
       "      <td>1</td>\n",
       "      <td>0.00</td>\n",
       "      <td>2</td>\n",
       "      <td>0</td>\n",
       "      <td>0</td>\n",
       "      <td>93826.63</td>\n",
       "      <td>0</td>\n",
       "    </tr>\n",
       "    <tr>\n",
       "      <th>4</th>\n",
       "      <td>5</td>\n",
       "      <td>15737888</td>\n",
       "      <td>Mitchell</td>\n",
       "      <td>850</td>\n",
       "      <td>Spain</td>\n",
       "      <td>Female</td>\n",
       "      <td>43</td>\n",
       "      <td>2</td>\n",
       "      <td>125510.82</td>\n",
       "      <td>1</td>\n",
       "      <td>1</td>\n",
       "      <td>1</td>\n",
       "      <td>79084.10</td>\n",
       "      <td>0</td>\n",
       "    </tr>\n",
       "  </tbody>\n",
       "</table>\n",
       "</div>"
      ],
      "text/plain": [
       "   RowNumber  CustomerId   Surname  CreditScore Geography  Gender  Age  Tenure    Balance  NumOfProducts  HasCrCard  IsActiveMember  EstimatedSalary  Exited\n",
       "0          1    15634602  Hargrave          619    France  Female   42       2       0.00              1          1               1        101348.88       1\n",
       "1          2    15647311      Hill          608     Spain  Female   41       1   83807.86              1          0               1        112542.58       0\n",
       "2          3    15619304      Onio          502    France  Female   42       8  159660.80              3          1               0        113931.57       1\n",
       "3          4    15701354      Boni          699    France  Female   39       1       0.00              2          0               0         93826.63       0\n",
       "4          5    15737888  Mitchell          850     Spain  Female   43       2  125510.82              1          1               1         79084.10       0"
      ]
     },
     "execution_count": 16,
     "metadata": {},
     "output_type": "execute_result"
    }
   ],
   "source": [
    "df_churn_raw.head()"
   ]
  },
  {
   "cell_type": "markdown",
   "id": "pressing-health",
   "metadata": {
    "ExecuteTime": {
     "end_time": "2021-04-08T11:44:34.933983Z",
     "start_time": "2021-04-08T11:44:34.923584Z"
    }
   },
   "source": [
    "**Feature Description**:\n",
    "\n",
    "- **RowNumber**: The number of the columns.\n",
    "- **CustomerID**: Unique client identifier.\n",
    "- **Surname**: Client's surname.\n",
    "- **CreditScore**: Client's credit card score for the financial market A pontuação de Crédito do cliente para o mercado de consumo.\n",
    "- **Geography**: The country where the client lives.\n",
    "- **Gender**: Client's gender.\n",
    "- **Age**: Client's age.\n",
    "- **Tenure**: The number of years the client remained activate in the bank.\n",
    "- **Balance**: The monetary amount the client has in their current account.\n",
    "- **NumOfProducts**: The number of products purchased by the client.\n",
    "- **HasCrCard**: Point if the client has a credit card.\n",
    "- **IsActiveMember**: Tell if the client is an active member of the bank (within the last 12 months).\n",
    "- **EstimateSalary**: Client's annual salary estimate.\n",
    "- **Exited**: Indicates if the client is a churn (tagert variable)."
   ]
  },
  {
   "cell_type": "markdown",
   "id": "respiratory-seattle",
   "metadata": {},
   "source": [
    "# DATA DISCRIPTION"
   ]
  },
  {
   "cell_type": "code",
   "execution_count": 6,
   "id": "italian-wayne",
   "metadata": {
    "ExecuteTime": {
     "end_time": "2021-04-15T21:39:46.973161Z",
     "start_time": "2021-04-15T21:39:46.969293Z"
    }
   },
   "outputs": [],
   "source": [
    "# copy dataset\n",
    "df0 = df_churn_raw.copy()"
   ]
  },
  {
   "cell_type": "markdown",
   "id": "linear-haiti",
   "metadata": {},
   "source": [
    "## Rename Columns"
   ]
  },
  {
   "cell_type": "code",
   "execution_count": 7,
   "id": "accepting-comedy",
   "metadata": {
    "ExecuteTime": {
     "end_time": "2021-04-15T21:39:48.527279Z",
     "start_time": "2021-04-15T21:39:48.523598Z"
    }
   },
   "outputs": [
    {
     "data": {
      "text/plain": [
       "['row_number',\n",
       " 'customer_id',\n",
       " 'surname',\n",
       " 'credit_score',\n",
       " 'geography',\n",
       " 'gender',\n",
       " 'age',\n",
       " 'tenure',\n",
       " 'balance',\n",
       " 'num_of_products',\n",
       " 'has_cr_card',\n",
       " 'is_active_member',\n",
       " 'estimated_salary',\n",
       " 'exited']"
      ]
     },
     "execution_count": 7,
     "metadata": {},
     "output_type": "execute_result"
    }
   ],
   "source": [
    "cols_old = list(df0)\n",
    "snakecase = lambda x: inflection.underscore(x)\n",
    "col_news = list(map(snakecase, cols_old))\n",
    "\n",
    "# Rename columns\n",
    "df0.columns = col_news\n",
    "list(df0)"
   ]
  },
  {
   "cell_type": "code",
   "execution_count": 98,
   "id": "authorized-valentine",
   "metadata": {
    "ExecuteTime": {
     "end_time": "2021-04-08T13:21:29.283581Z",
     "start_time": "2021-04-08T13:21:29.255872Z"
    },
    "scrolled": false
   },
   "outputs": [
    {
     "data": {
      "text/html": [
       "<div>\n",
       "<style scoped>\n",
       "    .dataframe tbody tr th:only-of-type {\n",
       "        vertical-align: middle;\n",
       "    }\n",
       "\n",
       "    .dataframe tbody tr th {\n",
       "        vertical-align: top;\n",
       "    }\n",
       "\n",
       "    .dataframe thead th {\n",
       "        text-align: right;\n",
       "    }\n",
       "</style>\n",
       "<table border=\"1\" class=\"dataframe\">\n",
       "  <thead>\n",
       "    <tr style=\"text-align: right;\">\n",
       "      <th></th>\n",
       "      <th>row_number</th>\n",
       "      <th>customer_id</th>\n",
       "      <th>surname</th>\n",
       "      <th>credit_score</th>\n",
       "      <th>geography</th>\n",
       "      <th>gender</th>\n",
       "      <th>age</th>\n",
       "      <th>tenure</th>\n",
       "      <th>balance</th>\n",
       "      <th>num_of_products</th>\n",
       "      <th>has_cr_card</th>\n",
       "      <th>is_active_member</th>\n",
       "      <th>estimated_salary</th>\n",
       "      <th>exited</th>\n",
       "    </tr>\n",
       "  </thead>\n",
       "  <tbody>\n",
       "    <tr>\n",
       "      <th>0</th>\n",
       "      <td>1</td>\n",
       "      <td>15634602</td>\n",
       "      <td>Hargrave</td>\n",
       "      <td>619</td>\n",
       "      <td>France</td>\n",
       "      <td>Female</td>\n",
       "      <td>42</td>\n",
       "      <td>2</td>\n",
       "      <td>0.00</td>\n",
       "      <td>1</td>\n",
       "      <td>1</td>\n",
       "      <td>1</td>\n",
       "      <td>101348.88</td>\n",
       "      <td>1</td>\n",
       "    </tr>\n",
       "    <tr>\n",
       "      <th>1</th>\n",
       "      <td>2</td>\n",
       "      <td>15647311</td>\n",
       "      <td>Hill</td>\n",
       "      <td>608</td>\n",
       "      <td>Spain</td>\n",
       "      <td>Female</td>\n",
       "      <td>41</td>\n",
       "      <td>1</td>\n",
       "      <td>83807.86</td>\n",
       "      <td>1</td>\n",
       "      <td>0</td>\n",
       "      <td>1</td>\n",
       "      <td>112542.58</td>\n",
       "      <td>0</td>\n",
       "    </tr>\n",
       "    <tr>\n",
       "      <th>2</th>\n",
       "      <td>3</td>\n",
       "      <td>15619304</td>\n",
       "      <td>Onio</td>\n",
       "      <td>502</td>\n",
       "      <td>France</td>\n",
       "      <td>Female</td>\n",
       "      <td>42</td>\n",
       "      <td>8</td>\n",
       "      <td>159660.80</td>\n",
       "      <td>3</td>\n",
       "      <td>1</td>\n",
       "      <td>0</td>\n",
       "      <td>113931.57</td>\n",
       "      <td>1</td>\n",
       "    </tr>\n",
       "    <tr>\n",
       "      <th>3</th>\n",
       "      <td>4</td>\n",
       "      <td>15701354</td>\n",
       "      <td>Boni</td>\n",
       "      <td>699</td>\n",
       "      <td>France</td>\n",
       "      <td>Female</td>\n",
       "      <td>39</td>\n",
       "      <td>1</td>\n",
       "      <td>0.00</td>\n",
       "      <td>2</td>\n",
       "      <td>0</td>\n",
       "      <td>0</td>\n",
       "      <td>93826.63</td>\n",
       "      <td>0</td>\n",
       "    </tr>\n",
       "    <tr>\n",
       "      <th>4</th>\n",
       "      <td>5</td>\n",
       "      <td>15737888</td>\n",
       "      <td>Mitchell</td>\n",
       "      <td>850</td>\n",
       "      <td>Spain</td>\n",
       "      <td>Female</td>\n",
       "      <td>43</td>\n",
       "      <td>2</td>\n",
       "      <td>125510.82</td>\n",
       "      <td>1</td>\n",
       "      <td>1</td>\n",
       "      <td>1</td>\n",
       "      <td>79084.10</td>\n",
       "      <td>0</td>\n",
       "    </tr>\n",
       "  </tbody>\n",
       "</table>\n",
       "</div>"
      ],
      "text/plain": [
       "   row_number  customer_id   surname  credit_score geography  gender  age  tenure    balance  num_of_products  has_cr_card  is_active_member  estimated_salary  exited\n",
       "0           1     15634602  Hargrave           619    France  Female   42       2       0.00                1            1                 1         101348.88       1\n",
       "1           2     15647311      Hill           608     Spain  Female   41       1   83807.86                1            0                 1         112542.58       0\n",
       "2           3     15619304      Onio           502    France  Female   42       8  159660.80                3            1                 0         113931.57       1\n",
       "3           4     15701354      Boni           699    France  Female   39       1       0.00                2            0                 0          93826.63       0\n",
       "4           5     15737888  Mitchell           850     Spain  Female   43       2  125510.82                1            1                 1          79084.10       0"
      ]
     },
     "execution_count": 98,
     "metadata": {},
     "output_type": "execute_result"
    }
   ],
   "source": [
    "df0.head()"
   ]
  },
  {
   "cell_type": "markdown",
   "id": "fatal-governor",
   "metadata": {},
   "source": [
    "**Feature Description**:\n",
    "\n",
    "- **RowNumber**: The number of the columns.\n",
    "- **CustomerID**: Unique client identifier.\n",
    "- **Surname**: Client's surname.\n",
    "- **CreditScore**: Client's credit card score for the financial market A pontuação de Crédito do cliente para o mercado de consumo.\n",
    "- **Geography**: The country where the client lives.\n",
    "- **Gender**: Client's gender.\n",
    "- **Age**: Client's age.\n",
    "- **Tenure**: The number of years the client remained activate in the bank.\n",
    "- **Balance**: The monetary amount the client has in their current account.\n",
    "- **NumOfProducts**: The number of products purchased by the client.\n",
    "- **HasCrCard**: Point if the client has a credit card.\n",
    "- **IsActiveMember**: Tell if the client is an active member of the bank (within the last 12 months).\n",
    "- **EstimateSalary**: Client's annual salary estimate.\n",
    "- **Exited**: Indicates if the client is a churn (tagert variable)."
   ]
  },
  {
   "cell_type": "markdown",
   "id": "growing-arrival",
   "metadata": {},
   "source": [
    "## Data Dimension and Type"
   ]
  },
  {
   "cell_type": "code",
   "execution_count": 8,
   "id": "congressional-contrast",
   "metadata": {
    "ExecuteTime": {
     "end_time": "2021-04-15T21:39:53.766785Z",
     "start_time": "2021-04-15T21:39:53.763503Z"
    }
   },
   "outputs": [
    {
     "name": "stdout",
     "output_type": "stream",
     "text": [
      "Number of rows: 10000\n",
      "Number of columns: 14\n"
     ]
    }
   ],
   "source": [
    "print('Number of rows: {}'.format(df0.shape[0]))\n",
    "print('Number of columns: {}'.format(df0.shape[1]))"
   ]
  },
  {
   "cell_type": "code",
   "execution_count": 9,
   "id": "animated-characterization",
   "metadata": {
    "ExecuteTime": {
     "end_time": "2021-04-15T21:39:54.912228Z",
     "start_time": "2021-04-15T21:39:54.894198Z"
    },
    "scrolled": true
   },
   "outputs": [
    {
     "name": "stdout",
     "output_type": "stream",
     "text": [
      "<class 'pandas.core.frame.DataFrame'>\n",
      "RangeIndex: 10000 entries, 0 to 9999\n",
      "Data columns (total 14 columns):\n",
      " #   Column            Non-Null Count  Dtype  \n",
      "---  ------            --------------  -----  \n",
      " 0   row_number        10000 non-null  int64  \n",
      " 1   customer_id       10000 non-null  int64  \n",
      " 2   surname           10000 non-null  object \n",
      " 3   credit_score      10000 non-null  int64  \n",
      " 4   geography         10000 non-null  object \n",
      " 5   gender            10000 non-null  object \n",
      " 6   age               10000 non-null  int64  \n",
      " 7   tenure            10000 non-null  int64  \n",
      " 8   balance           10000 non-null  float64\n",
      " 9   num_of_products   10000 non-null  int64  \n",
      " 10  has_cr_card       10000 non-null  int64  \n",
      " 11  is_active_member  10000 non-null  int64  \n",
      " 12  estimated_salary  10000 non-null  float64\n",
      " 13  exited            10000 non-null  int64  \n",
      "dtypes: float64(2), int64(9), object(3)\n",
      "memory usage: 1.1+ MB\n"
     ]
    }
   ],
   "source": [
    "# check columns datatypes\n",
    "df0.info()"
   ]
  },
  {
   "cell_type": "markdown",
   "id": "stylish-camcorder",
   "metadata": {},
   "source": [
    "## Check for duplicates"
   ]
  },
  {
   "cell_type": "code",
   "execution_count": 10,
   "id": "played-virgin",
   "metadata": {
    "ExecuteTime": {
     "end_time": "2021-04-15T21:39:56.233795Z",
     "start_time": "2021-04-15T21:39:56.228513Z"
    },
    "scrolled": true
   },
   "outputs": [
    {
     "data": {
      "text/plain": [
       "0"
      ]
     },
     "execution_count": 10,
     "metadata": {},
     "output_type": "execute_result"
    }
   ],
   "source": [
    "# duplicates \n",
    "\n",
    "df0.duplicated(subset='customer_id').sum()"
   ]
  },
  {
   "cell_type": "markdown",
   "id": "naval-annual",
   "metadata": {},
   "source": [
    "## Check NA Values"
   ]
  },
  {
   "cell_type": "code",
   "execution_count": 11,
   "id": "important-appendix",
   "metadata": {
    "ExecuteTime": {
     "end_time": "2021-04-15T21:40:00.873467Z",
     "start_time": "2021-04-15T21:40:00.849044Z"
    }
   },
   "outputs": [
    {
     "data": {
      "text/html": [
       "<div>\n",
       "<style scoped>\n",
       "    .dataframe tbody tr th:only-of-type {\n",
       "        vertical-align: middle;\n",
       "    }\n",
       "\n",
       "    .dataframe tbody tr th {\n",
       "        vertical-align: top;\n",
       "    }\n",
       "\n",
       "    .dataframe thead th {\n",
       "        text-align: right;\n",
       "    }\n",
       "</style>\n",
       "<table border=\"1\" class=\"dataframe\">\n",
       "  <thead>\n",
       "    <tr style=\"text-align: right;\">\n",
       "      <th></th>\n",
       "      <th>missing value count</th>\n",
       "      <th>percentage (%)</th>\n",
       "    </tr>\n",
       "  </thead>\n",
       "  <tbody>\n",
       "    <tr>\n",
       "      <th>row_number</th>\n",
       "      <td>0</td>\n",
       "      <td>0.0</td>\n",
       "    </tr>\n",
       "    <tr>\n",
       "      <th>customer_id</th>\n",
       "      <td>0</td>\n",
       "      <td>0.0</td>\n",
       "    </tr>\n",
       "    <tr>\n",
       "      <th>surname</th>\n",
       "      <td>0</td>\n",
       "      <td>0.0</td>\n",
       "    </tr>\n",
       "    <tr>\n",
       "      <th>credit_score</th>\n",
       "      <td>0</td>\n",
       "      <td>0.0</td>\n",
       "    </tr>\n",
       "    <tr>\n",
       "      <th>geography</th>\n",
       "      <td>0</td>\n",
       "      <td>0.0</td>\n",
       "    </tr>\n",
       "    <tr>\n",
       "      <th>gender</th>\n",
       "      <td>0</td>\n",
       "      <td>0.0</td>\n",
       "    </tr>\n",
       "    <tr>\n",
       "      <th>age</th>\n",
       "      <td>0</td>\n",
       "      <td>0.0</td>\n",
       "    </tr>\n",
       "    <tr>\n",
       "      <th>tenure</th>\n",
       "      <td>0</td>\n",
       "      <td>0.0</td>\n",
       "    </tr>\n",
       "    <tr>\n",
       "      <th>balance</th>\n",
       "      <td>0</td>\n",
       "      <td>0.0</td>\n",
       "    </tr>\n",
       "    <tr>\n",
       "      <th>num_of_products</th>\n",
       "      <td>0</td>\n",
       "      <td>0.0</td>\n",
       "    </tr>\n",
       "    <tr>\n",
       "      <th>has_cr_card</th>\n",
       "      <td>0</td>\n",
       "      <td>0.0</td>\n",
       "    </tr>\n",
       "    <tr>\n",
       "      <th>is_active_member</th>\n",
       "      <td>0</td>\n",
       "      <td>0.0</td>\n",
       "    </tr>\n",
       "    <tr>\n",
       "      <th>estimated_salary</th>\n",
       "      <td>0</td>\n",
       "      <td>0.0</td>\n",
       "    </tr>\n",
       "    <tr>\n",
       "      <th>exited</th>\n",
       "      <td>0</td>\n",
       "      <td>0.0</td>\n",
       "    </tr>\n",
       "  </tbody>\n",
       "</table>\n",
       "</div>"
      ],
      "text/plain": [
       "                  missing value count  percentage (%)\n",
       "row_number                          0             0.0\n",
       "customer_id                         0             0.0\n",
       "surname                             0             0.0\n",
       "credit_score                        0             0.0\n",
       "geography                           0             0.0\n",
       "gender                              0             0.0\n",
       "age                                 0             0.0\n",
       "tenure                              0             0.0\n",
       "balance                             0             0.0\n",
       "num_of_products                     0             0.0\n",
       "has_cr_card                         0             0.0\n",
       "is_active_member                    0             0.0\n",
       "estimated_salary                    0             0.0\n",
       "exited                              0             0.0"
      ]
     },
     "execution_count": 11,
     "metadata": {},
     "output_type": "execute_result"
    }
   ],
   "source": [
    "missing_count = df0.isnull().sum()\n",
    "value_count = df0.isnull().count()\n",
    "\n",
    "missing_percentage = round(missing_count/value_count*100, 2)\n",
    "missing_df = pd.DataFrame({'missing value count': missing_count, 'percentage (%)': missing_percentage })\n",
    "missing_df"
   ]
  },
  {
   "cell_type": "code",
   "execution_count": 17,
   "id": "sporting-commitment",
   "metadata": {
    "ExecuteTime": {
     "end_time": "2021-04-16T19:06:33.446053Z",
     "start_time": "2021-04-16T19:06:33.135998Z"
    }
   },
   "outputs": [
    {
     "data": {
      "image/png": "[encoded data removed]",
      "text/plain": [
       "<Figure size 1800x720 with 2 Axes>"
      ]
     },
     "metadata": {},
     "output_type": "display_data"
    }
   ],
   "source": [
    "# check no missing values to confirm\n",
    "msno.matrix(df0);"
   ]
  },
  {
   "cell_type": "markdown",
   "id": "severe-puppy",
   "metadata": {},
   "source": [
    "## Descriptive Statistics"
   ]
  },
  {
   "cell_type": "code",
   "execution_count": 18,
   "id": "wrong-nothing",
   "metadata": {
    "ExecuteTime": {
     "end_time": "2021-04-16T19:06:36.820229Z",
     "start_time": "2021-04-16T19:06:36.777617Z"
    },
    "scrolled": false
   },
   "outputs": [
    {
     "data": {
      "text/html": [
       "<div>\n",
       "<style scoped>\n",
       "    .dataframe tbody tr th:only-of-type {\n",
       "        vertical-align: middle;\n",
       "    }\n",
       "\n",
       "    .dataframe tbody tr th {\n",
       "        vertical-align: top;\n",
       "    }\n",
       "\n",
       "    .dataframe thead th {\n",
       "        text-align: right;\n",
       "    }\n",
       "</style>\n",
       "<table border=\"1\" class=\"dataframe\">\n",
       "  <thead>\n",
       "    <tr style=\"text-align: right;\">\n",
       "      <th></th>\n",
       "      <th>row_number</th>\n",
       "      <th>customer_id</th>\n",
       "      <th>credit_score</th>\n",
       "      <th>age</th>\n",
       "      <th>tenure</th>\n",
       "      <th>balance</th>\n",
       "      <th>num_of_products</th>\n",
       "      <th>has_cr_card</th>\n",
       "      <th>is_active_member</th>\n",
       "      <th>estimated_salary</th>\n",
       "      <th>exited</th>\n",
       "    </tr>\n",
       "  </thead>\n",
       "  <tbody>\n",
       "    <tr>\n",
       "      <th>count</th>\n",
       "      <td>10000.00000</td>\n",
       "      <td>1.000000e+04</td>\n",
       "      <td>10000.000000</td>\n",
       "      <td>10000.000000</td>\n",
       "      <td>10000.000000</td>\n",
       "      <td>10000.000000</td>\n",
       "      <td>10000.000000</td>\n",
       "      <td>10000.00000</td>\n",
       "      <td>10000.000000</td>\n",
       "      <td>10000.000000</td>\n",
       "      <td>10000.000000</td>\n",
       "    </tr>\n",
       "    <tr>\n",
       "      <th>mean</th>\n",
       "      <td>5000.50000</td>\n",
       "      <td>1.569094e+07</td>\n",
       "      <td>650.528800</td>\n",
       "      <td>38.921800</td>\n",
       "      <td>5.012800</td>\n",
       "      <td>76485.889288</td>\n",
       "      <td>1.530200</td>\n",
       "      <td>0.70550</td>\n",
       "      <td>0.515100</td>\n",
       "      <td>100090.239881</td>\n",
       "      <td>0.203700</td>\n",
       "    </tr>\n",
       "    <tr>\n",
       "      <th>std</th>\n",
       "      <td>2886.89568</td>\n",
       "      <td>7.193619e+04</td>\n",
       "      <td>96.653299</td>\n",
       "      <td>10.487806</td>\n",
       "      <td>2.892174</td>\n",
       "      <td>62397.405202</td>\n",
       "      <td>0.581654</td>\n",
       "      <td>0.45584</td>\n",
       "      <td>0.499797</td>\n",
       "      <td>57510.492818</td>\n",
       "      <td>0.402769</td>\n",
       "    </tr>\n",
       "    <tr>\n",
       "      <th>min</th>\n",
       "      <td>1.00000</td>\n",
       "      <td>1.556570e+07</td>\n",
       "      <td>350.000000</td>\n",
       "      <td>18.000000</td>\n",
       "      <td>0.000000</td>\n",
       "      <td>0.000000</td>\n",
       "      <td>1.000000</td>\n",
       "      <td>0.00000</td>\n",
       "      <td>0.000000</td>\n",
       "      <td>11.580000</td>\n",
       "      <td>0.000000</td>\n",
       "    </tr>\n",
       "    <tr>\n",
       "      <th>25%</th>\n",
       "      <td>2500.75000</td>\n",
       "      <td>1.562853e+07</td>\n",
       "      <td>584.000000</td>\n",
       "      <td>32.000000</td>\n",
       "      <td>3.000000</td>\n",
       "      <td>0.000000</td>\n",
       "      <td>1.000000</td>\n",
       "      <td>0.00000</td>\n",
       "      <td>0.000000</td>\n",
       "      <td>51002.110000</td>\n",
       "      <td>0.000000</td>\n",
       "    </tr>\n",
       "    <tr>\n",
       "      <th>50%</th>\n",
       "      <td>5000.50000</td>\n",
       "      <td>1.569074e+07</td>\n",
       "      <td>652.000000</td>\n",
       "      <td>37.000000</td>\n",
       "      <td>5.000000</td>\n",
       "      <td>97198.540000</td>\n",
       "      <td>1.000000</td>\n",
       "      <td>1.00000</td>\n",
       "      <td>1.000000</td>\n",
       "      <td>100193.915000</td>\n",
       "      <td>0.000000</td>\n",
       "    </tr>\n",
       "    <tr>\n",
       "      <th>75%</th>\n",
       "      <td>7500.25000</td>\n",
       "      <td>1.575323e+07</td>\n",
       "      <td>718.000000</td>\n",
       "      <td>44.000000</td>\n",
       "      <td>7.000000</td>\n",
       "      <td>127644.240000</td>\n",
       "      <td>2.000000</td>\n",
       "      <td>1.00000</td>\n",
       "      <td>1.000000</td>\n",
       "      <td>149388.247500</td>\n",
       "      <td>0.000000</td>\n",
       "    </tr>\n",
       "    <tr>\n",
       "      <th>max</th>\n",
       "      <td>10000.00000</td>\n",
       "      <td>1.581569e+07</td>\n",
       "      <td>850.000000</td>\n",
       "      <td>92.000000</td>\n",
       "      <td>10.000000</td>\n",
       "      <td>250898.090000</td>\n",
       "      <td>4.000000</td>\n",
       "      <td>1.00000</td>\n",
       "      <td>1.000000</td>\n",
       "      <td>199992.480000</td>\n",
       "      <td>1.000000</td>\n",
       "    </tr>\n",
       "  </tbody>\n",
       "</table>\n",
       "</div>"
      ],
      "text/plain": [
       "        row_number   customer_id  credit_score           age        tenure        balance  num_of_products  has_cr_card  is_active_member  estimated_salary        exited\n",
       "count  10000.00000  1.000000e+04  10000.000000  10000.000000  10000.000000   10000.000000     10000.000000  10000.00000      10000.000000      10000.000000  10000.000000\n",
       "mean    5000.50000  1.569094e+07    650.528800     38.921800      5.012800   76485.889288         1.530200      0.70550          0.515100     100090.239881      0.203700\n",
       "std     2886.89568  7.193619e+04     96.653299     10.487806      2.892174   62397.405202         0.581654      0.45584          0.499797      57510.492818      0.402769\n",
       "min        1.00000  1.556570e+07    350.000000     18.000000      0.000000       0.000000         1.000000      0.00000          0.000000         11.580000      0.000000\n",
       "25%     2500.75000  1.562853e+07    584.000000     32.000000      3.000000       0.000000         1.000000      0.00000          0.000000      51002.110000      0.000000\n",
       "50%     5000.50000  1.569074e+07    652.000000     37.000000      5.000000   97198.540000         1.000000      1.00000          1.000000     100193.915000      0.000000\n",
       "75%     7500.25000  1.575323e+07    718.000000     44.000000      7.000000  127644.240000         2.000000      1.00000          1.000000     149388.247500      0.000000\n",
       "max    10000.00000  1.581569e+07    850.000000     92.000000     10.000000  250898.090000         4.000000      1.00000          1.000000     199992.480000      1.000000"
      ]
     },
     "execution_count": 18,
     "metadata": {},
     "output_type": "execute_result"
    }
   ],
   "source": [
    "df0.describe()"
   ]
  },
  {
   "cell_type": "code",
   "execution_count": 19,
   "id": "naval-consequence",
   "metadata": {
    "ExecuteTime": {
     "end_time": "2021-04-16T19:06:39.029576Z",
     "start_time": "2021-04-16T19:06:39.026953Z"
    }
   },
   "outputs": [
    {
     "data": {
      "text/plain": [
       "['row_number',\n",
       " 'customer_id',\n",
       " 'surname',\n",
       " 'credit_score',\n",
       " 'geography',\n",
       " 'gender',\n",
       " 'age',\n",
       " 'tenure',\n",
       " 'balance',\n",
       " 'num_of_products',\n",
       " 'has_cr_card',\n",
       " 'is_active_member',\n",
       " 'estimated_salary',\n",
       " 'exited']"
      ]
     },
     "execution_count": 19,
     "metadata": {},
     "output_type": "execute_result"
    }
   ],
   "source": [
    "list(df0)"
   ]
  },
  {
   "cell_type": "code",
   "execution_count": 20,
   "id": "attractive-tucson",
   "metadata": {
    "ExecuteTime": {
     "end_time": "2021-04-16T19:06:40.431189Z",
     "start_time": "2021-04-16T19:06:40.397093Z"
    }
   },
   "outputs": [],
   "source": [
    "# transforming categorical 1 or 0 values into 'yes' or 'no\n",
    "col_transform = ['has_cr_card', 'is_active_member']\n",
    "\n",
    "for col in col_transform:\n",
    "    df0[col] = df0[col].astype('str') \n",
    "\n",
    "for col in col_transform:\n",
    "    df0[col] = df0[col].apply(lambda x: 'yes' if x=='1' else 'no')\n"
   ]
  },
  {
   "cell_type": "code",
   "execution_count": 22,
   "id": "fitting-highlight",
   "metadata": {
    "ExecuteTime": {
     "end_time": "2021-04-16T19:06:47.338972Z",
     "start_time": "2021-04-16T19:06:47.327325Z"
    }
   },
   "outputs": [],
   "source": [
    "# separate numerical and categorical attributes\n",
    "\n",
    "num_att = df0.select_dtypes(include = 'number')\n",
    "cat_att = df0.select_dtypes(include = 'object')"
   ]
  },
  {
   "cell_type": "markdown",
   "id": "tropical-village",
   "metadata": {},
   "source": [
    "### Numerical Attributes"
   ]
  },
  {
   "cell_type": "code",
   "execution_count": 23,
   "id": "resistant-elephant",
   "metadata": {
    "ExecuteTime": {
     "end_time": "2021-04-16T19:06:48.721610Z",
     "start_time": "2021-04-16T19:06:48.654963Z"
    },
    "scrolled": true
   },
   "outputs": [
    {
     "data": {
      "text/html": [
       "<div>\n",
       "<style scoped>\n",
       "    .dataframe tbody tr th:only-of-type {\n",
       "        vertical-align: middle;\n",
       "    }\n",
       "\n",
       "    .dataframe tbody tr th {\n",
       "        vertical-align: top;\n",
       "    }\n",
       "\n",
       "    .dataframe thead th {\n",
       "        text-align: right;\n",
       "    }\n",
       "</style>\n",
       "<table border=\"1\" class=\"dataframe\">\n",
       "  <thead>\n",
       "    <tr style=\"text-align: right;\">\n",
       "      <th></th>\n",
       "      <th>attributes</th>\n",
       "      <th>min</th>\n",
       "      <th>max</th>\n",
       "      <th>range</th>\n",
       "      <th>mean</th>\n",
       "      <th>median</th>\n",
       "      <th>std</th>\n",
       "      <th>skew</th>\n",
       "      <th>kurtosis</th>\n",
       "    </tr>\n",
       "  </thead>\n",
       "  <tbody>\n",
       "    <tr>\n",
       "      <th>0</th>\n",
       "      <td>row_number</td>\n",
       "      <td>1.00</td>\n",
       "      <td>10000.00</td>\n",
       "      <td>9999.00</td>\n",
       "      <td>5.000500e+03</td>\n",
       "      <td>5.000500e+03</td>\n",
       "      <td>2886.751332</td>\n",
       "      <td>0.000000</td>\n",
       "      <td>-1.200000</td>\n",
       "    </tr>\n",
       "    <tr>\n",
       "      <th>1</th>\n",
       "      <td>customer_id</td>\n",
       "      <td>15565701.00</td>\n",
       "      <td>15815690.00</td>\n",
       "      <td>249989.00</td>\n",
       "      <td>1.569094e+07</td>\n",
       "      <td>1.569074e+07</td>\n",
       "      <td>71932.589224</td>\n",
       "      <td>0.001149</td>\n",
       "      <td>-1.196113</td>\n",
       "    </tr>\n",
       "    <tr>\n",
       "      <th>2</th>\n",
       "      <td>credit_score</td>\n",
       "      <td>350.00</td>\n",
       "      <td>850.00</td>\n",
       "      <td>500.00</td>\n",
       "      <td>6.505288e+02</td>\n",
       "      <td>6.520000e+02</td>\n",
       "      <td>96.648466</td>\n",
       "      <td>-0.071607</td>\n",
       "      <td>-0.425726</td>\n",
       "    </tr>\n",
       "    <tr>\n",
       "      <th>3</th>\n",
       "      <td>age</td>\n",
       "      <td>18.00</td>\n",
       "      <td>92.00</td>\n",
       "      <td>74.00</td>\n",
       "      <td>3.892180e+01</td>\n",
       "      <td>3.700000e+01</td>\n",
       "      <td>10.487282</td>\n",
       "      <td>1.011320</td>\n",
       "      <td>1.395347</td>\n",
       "    </tr>\n",
       "    <tr>\n",
       "      <th>4</th>\n",
       "      <td>tenure</td>\n",
       "      <td>0.00</td>\n",
       "      <td>10.00</td>\n",
       "      <td>10.00</td>\n",
       "      <td>5.012800e+00</td>\n",
       "      <td>5.000000e+00</td>\n",
       "      <td>2.892030</td>\n",
       "      <td>0.010991</td>\n",
       "      <td>-1.165225</td>\n",
       "    </tr>\n",
       "    <tr>\n",
       "      <th>5</th>\n",
       "      <td>balance</td>\n",
       "      <td>0.00</td>\n",
       "      <td>250898.09</td>\n",
       "      <td>250898.09</td>\n",
       "      <td>7.648589e+04</td>\n",
       "      <td>9.719854e+04</td>\n",
       "      <td>62394.285254</td>\n",
       "      <td>-0.141109</td>\n",
       "      <td>-1.489412</td>\n",
       "    </tr>\n",
       "    <tr>\n",
       "      <th>6</th>\n",
       "      <td>num_of_products</td>\n",
       "      <td>1.00</td>\n",
       "      <td>4.00</td>\n",
       "      <td>3.00</td>\n",
       "      <td>1.530200e+00</td>\n",
       "      <td>1.000000e+00</td>\n",
       "      <td>0.581625</td>\n",
       "      <td>0.745568</td>\n",
       "      <td>0.582981</td>\n",
       "    </tr>\n",
       "    <tr>\n",
       "      <th>7</th>\n",
       "      <td>estimated_salary</td>\n",
       "      <td>11.58</td>\n",
       "      <td>199992.48</td>\n",
       "      <td>199980.90</td>\n",
       "      <td>1.000902e+05</td>\n",
       "      <td>1.001939e+05</td>\n",
       "      <td>57507.617221</td>\n",
       "      <td>0.002085</td>\n",
       "      <td>-1.181518</td>\n",
       "    </tr>\n",
       "    <tr>\n",
       "      <th>8</th>\n",
       "      <td>exited</td>\n",
       "      <td>0.00</td>\n",
       "      <td>1.00</td>\n",
       "      <td>1.00</td>\n",
       "      <td>2.037000e-01</td>\n",
       "      <td>0.000000e+00</td>\n",
       "      <td>0.402748</td>\n",
       "      <td>1.471611</td>\n",
       "      <td>0.165671</td>\n",
       "    </tr>\n",
       "  </tbody>\n",
       "</table>\n",
       "</div>"
      ],
      "text/plain": [
       "         attributes          min          max      range          mean        median           std      skew  kurtosis\n",
       "0        row_number         1.00     10000.00    9999.00  5.000500e+03  5.000500e+03   2886.751332  0.000000 -1.200000\n",
       "1       customer_id  15565701.00  15815690.00  249989.00  1.569094e+07  1.569074e+07  71932.589224  0.001149 -1.196113\n",
       "2      credit_score       350.00       850.00     500.00  6.505288e+02  6.520000e+02     96.648466 -0.071607 -0.425726\n",
       "3               age        18.00        92.00      74.00  3.892180e+01  3.700000e+01     10.487282  1.011320  1.395347\n",
       "4            tenure         0.00        10.00      10.00  5.012800e+00  5.000000e+00      2.892030  0.010991 -1.165225\n",
       "5           balance         0.00    250898.09  250898.09  7.648589e+04  9.719854e+04  62394.285254 -0.141109 -1.489412\n",
       "6   num_of_products         1.00         4.00       3.00  1.530200e+00  1.000000e+00      0.581625  0.745568  0.582981\n",
       "7  estimated_salary        11.58    199992.48  199980.90  1.000902e+05  1.001939e+05  57507.617221  0.002085 -1.181518\n",
       "8            exited         0.00         1.00       1.00  2.037000e-01  0.000000e+00      0.402748  1.471611  0.165671"
      ]
     },
     "execution_count": 23,
     "metadata": {},
     "output_type": "execute_result"
    }
   ],
   "source": [
    "# Central Tendency - Mean, median\n",
    "ct1 = pd.DataFrame( num_att.apply( np.mean ) ).T\n",
    "ct2 = pd.DataFrame( num_att.apply( np.median ) ).T\n",
    "\n",
    "# Dispersion - std, min, max, range, skew, kurtoisis\n",
    "d1 = pd.DataFrame(num_att.apply( np.std )).T\n",
    "d2 = pd.DataFrame(num_att.apply( min )).T\n",
    "d3 = pd.DataFrame(num_att.apply( max )).T\n",
    "d4 = pd.DataFrame(num_att.apply( lambda x: x.max() - x.min() )).T\n",
    "d5 = pd.DataFrame(num_att.apply( lambda x: x.skew() )).T\n",
    "d6 = pd.DataFrame(num_att.apply( lambda x: x.kurtosis() )).T\n",
    "\n",
    "#concatenate\n",
    "m = pd.concat( [d2, d3, d4, ct1, ct2, d1, d5, d6] ).T.reset_index()\n",
    "\n",
    "\n",
    "m.columns = ['attributes', 'min', 'max', 'range', 'mean', 'median', 'std', 'skew', 'kurtosis']\n",
    "m"
   ]
  },
  {
   "cell_type": "code",
   "execution_count": 24,
   "id": "laughing-piece",
   "metadata": {
    "ExecuteTime": {
     "end_time": "2021-04-16T19:06:50.415650Z",
     "start_time": "2021-04-16T19:06:50.408295Z"
    },
    "scrolled": true
   },
   "outputs": [
    {
     "data": {
      "text/plain": [
       "row_number          10000\n",
       "customer_id         10000\n",
       "credit_score          460\n",
       "age                    70\n",
       "tenure                 11\n",
       "balance              6382\n",
       "num_of_products         4\n",
       "estimated_salary     9999\n",
       "exited                  2\n",
       "dtype: int64"
      ]
     },
     "execution_count": 24,
     "metadata": {},
     "output_type": "execute_result"
    }
   ],
   "source": [
    "num_att.apply( lambda x: x.unique().shape[0])"
   ]
  },
  {
   "cell_type": "code",
   "execution_count": 31,
   "id": "adjustable-sending",
   "metadata": {
    "ExecuteTime": {
     "end_time": "2021-04-16T19:12:35.034806Z",
     "start_time": "2021-04-16T19:12:33.328599Z"
    }
   },
   "outputs": [
    {
     "data": {
      "image/png": "[encoded data removed]",
      "text/plain": [
       "<Figure size 1800x864 with 9 Axes>"
      ]
     },
     "metadata": {},
     "output_type": "display_data"
    }
   ],
   "source": [
    "num_att.hist(bins = 80);"
   ]
  },
  {
   "cell_type": "markdown",
   "id": "injured-translator",
   "metadata": {},
   "source": [
    "### Categorical Attributes"
   ]
  },
  {
   "cell_type": "code",
   "execution_count": 25,
   "id": "abandoned-justice",
   "metadata": {
    "ExecuteTime": {
     "end_time": "2021-04-16T19:06:53.001392Z",
     "start_time": "2021-04-16T19:06:52.988217Z"
    }
   },
   "outputs": [
    {
     "data": {
      "text/plain": [
       "surname             2932\n",
       "geography              3\n",
       "gender                 2\n",
       "has_cr_card            2\n",
       "is_active_member       2\n",
       "dtype: int64"
      ]
     },
     "execution_count": 25,
     "metadata": {},
     "output_type": "execute_result"
    }
   ],
   "source": [
    "# check unique values of categorical features\n",
    "cat_att.apply( lambda x: x.unique().shape[0])"
   ]
  },
  {
   "cell_type": "code",
   "execution_count": null,
   "id": "copyrighted-exhibit",
   "metadata": {},
   "outputs": [],
   "source": [
    "# plot boxplots of categorical features against target variable"
   ]
  },
  {
   "cell_type": "markdown",
   "id": "frequent-river",
   "metadata": {},
   "source": [
    "### Zero values distribution"
   ]
  },
  {
   "cell_type": "markdown",
   "id": "charming-polish",
   "metadata": {},
   "source": [
    " Sometimes the data isn't missing (NaNs), but it can be in a form of an oddly high number of zero values \n",
    " \n",
    " **Conclusion**: The 'Balance' columns have a great number of zeros, but it doesn't mean they are missing values (NaNs). Nevertheless, the Data Science team should get in contact with the business team to check if this number is correct"
   ]
  },
  {
   "cell_type": "code",
   "execution_count": 26,
   "id": "growing-perth",
   "metadata": {
    "ExecuteTime": {
     "end_time": "2021-04-16T19:07:00.836149Z",
     "start_time": "2021-04-16T19:07:00.818494Z"
    }
   },
   "outputs": [],
   "source": [
    "# create DataFrame with zero and non zero values\n",
    "num_zero = num_att.copy()\n",
    "num_col = num_zero.columns\n",
    "\n",
    "for col in num_col :\n",
    "    num_zero[col] = num_zero[col].apply(lambda x: 'zero' if x==0 else 'not zero')"
   ]
  },
  {
   "cell_type": "code",
   "execution_count": 27,
   "id": "inappropriate-stroke",
   "metadata": {
    "ExecuteTime": {
     "end_time": "2021-04-16T19:07:07.298280Z",
     "start_time": "2021-04-16T19:07:07.286809Z"
    }
   },
   "outputs": [
    {
     "data": {
      "text/plain": [
       "row_number          1\n",
       "customer_id         1\n",
       "credit_score        1\n",
       "age                 1\n",
       "tenure              2\n",
       "balance             2\n",
       "num_of_products     1\n",
       "estimated_salary    1\n",
       "exited              2\n",
       "dtype: int64"
      ]
     },
     "execution_count": 27,
     "metadata": {},
     "output_type": "execute_result"
    }
   ],
   "source": [
    "# check which columns have zero values \n",
    "\n",
    "num_zero.apply( lambda x: x.unique().shape[0])"
   ]
  },
  {
   "cell_type": "code",
   "execution_count": 28,
   "id": "described-knock",
   "metadata": {
    "ExecuteTime": {
     "end_time": "2021-04-16T19:07:10.573663Z",
     "start_time": "2021-04-16T19:07:10.341470Z"
    },
    "scrolled": false
   },
   "outputs": [
    {
     "data": {
      "image/png": "[encoded data removed]",
      "text/plain": [
       "<Figure size 1800x864 with 3 Axes>"
      ]
     },
     "metadata": {},
     "output_type": "display_data"
    }
   ],
   "source": [
    "#Plot zero values proportion \n",
    "plt.subplot(1,3,1)\n",
    "sns.countplot(x = 'balance', data = num_zero) \n",
    "\n",
    "plt.subplot(1,3,2)\n",
    "sns.countplot(x = 'tenure', data = num_zero) \n",
    "\n",
    "plt.subplot(1,3,3)\n",
    "sns.countplot(x = 'exited', data = num_zero);"
   ]
  },
  {
   "cell_type": "code",
   "execution_count": null,
   "id": "loaded-damages",
   "metadata": {},
   "outputs": [],
   "source": []
  },
  {
   "cell_type": "markdown",
   "id": "coastal-pakistan",
   "metadata": {},
   "source": [
    "# FEATURE ENGINEERING"
   ]
  },
  {
   "cell_type": "code",
   "execution_count": 57,
   "id": "public-export",
   "metadata": {
    "ExecuteTime": {
     "end_time": "2021-04-16T23:15:00.645992Z",
     "start_time": "2021-04-16T23:15:00.643834Z"
    }
   },
   "outputs": [],
   "source": [
    "# dataset copy\n",
    "df1 = df0.copy()"
   ]
  },
  {
   "cell_type": "markdown",
   "id": "objective-blogger",
   "metadata": {},
   "source": [
    "## Hypothesis Mindmap"
   ]
  },
  {
   "cell_type": "code",
   "execution_count": 37,
   "id": "imposed-singapore",
   "metadata": {
    "ExecuteTime": {
     "end_time": "2021-04-16T19:38:12.159135Z",
     "start_time": "2021-04-16T19:38:12.146216Z"
    },
    "scrolled": false
   },
   "outputs": [
    {
     "data": {
      "image/png": "[encoded data removed]",
      "text/plain": [
       "<IPython.core.display.Image object>"
      ]
     },
     "execution_count": 37,
     "metadata": {},
     "output_type": "execute_result"
    }
   ],
   "source": [
    "Image('/home/marxcerqueira/repos/Data-Science-Projects/Kaggle-Client-Churn-Prediction/reports/figures/Churn.png')"
   ]
  },
  {
   "cell_type": "markdown",
   "id": "posted-forth",
   "metadata": {},
   "source": [
    "    . The goal of the hypothesis mind-map is to answer questions that are not clear in the dataset. To sum up it's a road map of which analysis do I have to do to validate hypothesis of the business and to which features do I have to create for a better understanding of the data during the Exploratory Data Analysis\n",
    "\n",
    "Motivação da feature engineering:\n",
    "    - ter variáveis disponíveis para estudo durante a Análise Exploratória de Dados e o mapa mental ajuda nessa atividade.\n",
    "    - Um roteiro para mostrar quais análises preciso fazer para validar as hipóteses e quais variáveis precisarei ter para validar as hipóteses\n",
    "    "
   ]
  },
  {
   "cell_type": "code",
   "execution_count": 38,
   "id": "stainless-divide",
   "metadata": {
    "ExecuteTime": {
     "end_time": "2021-04-16T20:08:25.495933Z",
     "start_time": "2021-04-16T20:08:25.484349Z"
    }
   },
   "outputs": [
    {
     "data": {
      "text/html": [
       "<div>\n",
       "<style scoped>\n",
       "    .dataframe tbody tr th:only-of-type {\n",
       "        vertical-align: middle;\n",
       "    }\n",
       "\n",
       "    .dataframe tbody tr th {\n",
       "        vertical-align: top;\n",
       "    }\n",
       "\n",
       "    .dataframe thead th {\n",
       "        text-align: right;\n",
       "    }\n",
       "</style>\n",
       "<table border=\"1\" class=\"dataframe\">\n",
       "  <thead>\n",
       "    <tr style=\"text-align: right;\">\n",
       "      <th></th>\n",
       "      <th>row_number</th>\n",
       "      <th>customer_id</th>\n",
       "      <th>surname</th>\n",
       "      <th>credit_score</th>\n",
       "      <th>geography</th>\n",
       "      <th>gender</th>\n",
       "      <th>age</th>\n",
       "      <th>tenure</th>\n",
       "      <th>balance</th>\n",
       "      <th>num_of_products</th>\n",
       "      <th>has_cr_card</th>\n",
       "      <th>is_active_member</th>\n",
       "      <th>estimated_salary</th>\n",
       "      <th>exited</th>\n",
       "    </tr>\n",
       "  </thead>\n",
       "  <tbody>\n",
       "    <tr>\n",
       "      <th>0</th>\n",
       "      <td>1</td>\n",
       "      <td>15634602</td>\n",
       "      <td>Hargrave</td>\n",
       "      <td>619</td>\n",
       "      <td>France</td>\n",
       "      <td>Female</td>\n",
       "      <td>42</td>\n",
       "      <td>2</td>\n",
       "      <td>0.00</td>\n",
       "      <td>1</td>\n",
       "      <td>yes</td>\n",
       "      <td>yes</td>\n",
       "      <td>101348.88</td>\n",
       "      <td>1</td>\n",
       "    </tr>\n",
       "    <tr>\n",
       "      <th>1</th>\n",
       "      <td>2</td>\n",
       "      <td>15647311</td>\n",
       "      <td>Hill</td>\n",
       "      <td>608</td>\n",
       "      <td>Spain</td>\n",
       "      <td>Female</td>\n",
       "      <td>41</td>\n",
       "      <td>1</td>\n",
       "      <td>83807.86</td>\n",
       "      <td>1</td>\n",
       "      <td>no</td>\n",
       "      <td>yes</td>\n",
       "      <td>112542.58</td>\n",
       "      <td>0</td>\n",
       "    </tr>\n",
       "    <tr>\n",
       "      <th>2</th>\n",
       "      <td>3</td>\n",
       "      <td>15619304</td>\n",
       "      <td>Onio</td>\n",
       "      <td>502</td>\n",
       "      <td>France</td>\n",
       "      <td>Female</td>\n",
       "      <td>42</td>\n",
       "      <td>8</td>\n",
       "      <td>159660.80</td>\n",
       "      <td>3</td>\n",
       "      <td>yes</td>\n",
       "      <td>no</td>\n",
       "      <td>113931.57</td>\n",
       "      <td>1</td>\n",
       "    </tr>\n",
       "    <tr>\n",
       "      <th>3</th>\n",
       "      <td>4</td>\n",
       "      <td>15701354</td>\n",
       "      <td>Boni</td>\n",
       "      <td>699</td>\n",
       "      <td>France</td>\n",
       "      <td>Female</td>\n",
       "      <td>39</td>\n",
       "      <td>1</td>\n",
       "      <td>0.00</td>\n",
       "      <td>2</td>\n",
       "      <td>no</td>\n",
       "      <td>no</td>\n",
       "      <td>93826.63</td>\n",
       "      <td>0</td>\n",
       "    </tr>\n",
       "    <tr>\n",
       "      <th>4</th>\n",
       "      <td>5</td>\n",
       "      <td>15737888</td>\n",
       "      <td>Mitchell</td>\n",
       "      <td>850</td>\n",
       "      <td>Spain</td>\n",
       "      <td>Female</td>\n",
       "      <td>43</td>\n",
       "      <td>2</td>\n",
       "      <td>125510.82</td>\n",
       "      <td>1</td>\n",
       "      <td>yes</td>\n",
       "      <td>yes</td>\n",
       "      <td>79084.10</td>\n",
       "      <td>0</td>\n",
       "    </tr>\n",
       "  </tbody>\n",
       "</table>\n",
       "</div>"
      ],
      "text/plain": [
       "   row_number  customer_id   surname  credit_score geography  gender  age  tenure    balance  num_of_products has_cr_card is_active_member  estimated_salary  exited\n",
       "0           1     15634602  Hargrave           619    France  Female   42       2       0.00                1         yes              yes         101348.88       1\n",
       "1           2     15647311      Hill           608     Spain  Female   41       1   83807.86                1          no              yes         112542.58       0\n",
       "2           3     15619304      Onio           502    France  Female   42       8  159660.80                3         yes               no         113931.57       1\n",
       "3           4     15701354      Boni           699    France  Female   39       1       0.00                2          no               no          93826.63       0\n",
       "4           5     15737888  Mitchell           850     Spain  Female   43       2  125510.82                1         yes              yes          79084.10       0"
      ]
     },
     "execution_count": 38,
     "metadata": {},
     "output_type": "execute_result"
    }
   ],
   "source": [
    "df1.head()"
   ]
  },
  {
   "cell_type": "code",
   "execution_count": 39,
   "id": "rocky-participant",
   "metadata": {
    "ExecuteTime": {
     "end_time": "2021-04-16T20:26:35.684207Z",
     "start_time": "2021-04-16T20:26:35.679795Z"
    }
   },
   "outputs": [
    {
     "data": {
      "text/plain": [
       "France     5014\n",
       "Germany    2509\n",
       "Spain      2477\n",
       "Name: geography, dtype: int64"
      ]
     },
     "execution_count": 39,
     "metadata": {},
     "output_type": "execute_result"
    }
   ],
   "source": [
    "df1['geography'].value_counts()"
   ]
  },
  {
   "cell_type": "markdown",
   "id": "colonial-standing",
   "metadata": {},
   "source": [
    "## Creating Hypothesis"
   ]
  },
  {
   "cell_type": "markdown",
   "id": "banner-polls",
   "metadata": {},
   "source": [
    "### Finance Hypothesis"
   ]
  },
  {
   "cell_type": "markdown",
   "id": "romantic-cycle",
   "metadata": {},
   "source": [
    "- H1. Customers with higher salaries tend to be in churn\n",
    "\n",
    "- H2. Customers with lower balances tend to be in churn"
   ]
  },
  {
   "cell_type": "markdown",
   "id": "aging-dictionary",
   "metadata": {},
   "source": [
    "### Geography Hypothesis"
   ]
  },
  {
   "cell_type": "markdown",
   "id": "pressed-compatibility",
   "metadata": {},
   "source": [
    "- H3. Customers who live in France tend to be in churn"
   ]
  },
  {
   "cell_type": "markdown",
   "id": "organizational-africa",
   "metadata": {},
   "source": [
    "### Customer Hypothesis"
   ]
  },
  {
   "cell_type": "markdown",
   "id": "orange-diamond",
   "metadata": {},
   "source": [
    "- H4. Active members should not be in churn\n",
    "- H5. Involuntary churn rate is grater than voluntary churn rate"
   ]
  },
  {
   "cell_type": "markdown",
   "id": "aging-rendering",
   "metadata": {},
   "source": [
    "### Activities Hypothesis"
   ]
  },
  {
   "cell_type": "markdown",
   "id": "exterior-calgary",
   "metadata": {},
   "source": [
    "- H6. Customers with credit card have more probability to churn\n",
    "- H7. Customers with high credit scores have less probability to churn (*generally credit scores from 580 to 669 are considered fair; 670 to 739 are considered good; 740 to 799 are considered very good; and 800 and up are considered excellent.*)\n",
    "- H8. Customers with less products tend to churn more"
   ]
  },
  {
   "cell_type": "markdown",
   "id": "impaired-reconstruction",
   "metadata": {},
   "source": [
    "### Gender Hypothesis"
   ]
  },
  {
   "cell_type": "markdown",
   "id": "primary-stock",
   "metadata": {},
   "source": [
    "- H9. Womans tend to churn more often than mens"
   ]
  },
  {
   "cell_type": "markdown",
   "id": "double-encoding",
   "metadata": {},
   "source": [
    "### Time Hypothesis\n"
   ]
  },
  {
   "cell_type": "markdown",
   "id": "sophisticated-sociology",
   "metadata": {},
   "source": [
    "- H10. Younger costumers tend to churn more often\n",
    "- H11. Customer with higher tenure tend to have a lower churn rate"
   ]
  },
  {
   "cell_type": "markdown",
   "id": "heated-capability",
   "metadata": {},
   "source": [
    "## Final Hypothesis List"
   ]
  },
  {
   "cell_type": "markdown",
   "id": "express-desire",
   "metadata": {},
   "source": [
    "- H1. Customers with higher salaries tend to be in churn\n",
    "\n",
    "- H2. Customers with lower balances tend to be in churn\n",
    "\n",
    "- H3. Customers who live in France tend to be in churn\n",
    "- H4. Active members should not be in churn\n",
    "- H5. Involuntary churn rate is grater than voluntary churn rate\n",
    "- H6. Customers with credit card have more probability to churn\n",
    "- H7. Customers with high credit scores have less probability to churn (*generally credit scores from 580 to 669 are considered fair; 670 to 739 are considered good; 740 to 799 are considered very good; and 800 and up are considered excellent.*)\n",
    "- H8. Customers with less products tend to churn more\n",
    "- H9. Womans tend to churn more often than mens\n",
    "- H10. Younger costumers tend to churn more often\n",
    "- H11. Customer with higher tenure tend to have a lower churn rate"
   ]
  },
  {
   "cell_type": "markdown",
   "id": "hidden-albert",
   "metadata": {},
   "source": [
    "## Feature Engineering"
   ]
  },
  {
   "cell_type": "markdown",
   "id": "initial-opera",
   "metadata": {
    "ExecuteTime": {
     "end_time": "2021-04-16T22:24:27.030849Z",
     "start_time": "2021-04-16T22:24:27.026710Z"
    }
   },
   "source": [
    "**Feature Description**:\n",
    "\n",
    "- **RowNumber**: The number of the columns.\n",
    "- **CustomerID**: Unique client identifier.\n",
    "- **Surname**: Client's surname.\n",
    "- **CreditScore**: Client's credit card score for the financial market A pontuação de Crédito do cliente para o mercado de consumo.\n",
    "- **Geography**: The country where the client lives.\n",
    "- **Gender**: Client's gender.\n",
    "- **Age**: Client's age.\n",
    "- **Tenure**: The number of years the client remained activate in the bank.\n",
    "- **Balance**: The monetary amount the client has in their current account.\n",
    "- **NumOfProducts**: The number of products purchased by the client.\n",
    "- **HasCrCard**: Point if the client has a credit card.\n",
    "- **IsActiveMember**: Tell if the client is an active member of the bank (within the last 12 months).\n",
    "- **EstimateSalary**: Client's annual salary estimate.\n",
    "- **Exited**: Indicates if the client is a churn (tagert variable)."
   ]
  },
  {
   "cell_type": "code",
   "execution_count": 40,
   "id": "serious-archives",
   "metadata": {
    "ExecuteTime": {
     "end_time": "2021-04-16T22:20:16.128616Z",
     "start_time": "2021-04-16T22:20:16.117925Z"
    },
    "scrolled": true
   },
   "outputs": [
    {
     "data": {
      "text/html": [
       "<div>\n",
       "<style scoped>\n",
       "    .dataframe tbody tr th:only-of-type {\n",
       "        vertical-align: middle;\n",
       "    }\n",
       "\n",
       "    .dataframe tbody tr th {\n",
       "        vertical-align: top;\n",
       "    }\n",
       "\n",
       "    .dataframe thead th {\n",
       "        text-align: right;\n",
       "    }\n",
       "</style>\n",
       "<table border=\"1\" class=\"dataframe\">\n",
       "  <thead>\n",
       "    <tr style=\"text-align: right;\">\n",
       "      <th></th>\n",
       "      <th>row_number</th>\n",
       "      <th>customer_id</th>\n",
       "      <th>surname</th>\n",
       "      <th>credit_score</th>\n",
       "      <th>geography</th>\n",
       "      <th>gender</th>\n",
       "      <th>age</th>\n",
       "      <th>tenure</th>\n",
       "      <th>balance</th>\n",
       "      <th>num_of_products</th>\n",
       "      <th>has_cr_card</th>\n",
       "      <th>is_active_member</th>\n",
       "      <th>estimated_salary</th>\n",
       "      <th>exited</th>\n",
       "    </tr>\n",
       "  </thead>\n",
       "  <tbody>\n",
       "    <tr>\n",
       "      <th>0</th>\n",
       "      <td>1</td>\n",
       "      <td>15634602</td>\n",
       "      <td>Hargrave</td>\n",
       "      <td>619</td>\n",
       "      <td>France</td>\n",
       "      <td>Female</td>\n",
       "      <td>42</td>\n",
       "      <td>2</td>\n",
       "      <td>0.00</td>\n",
       "      <td>1</td>\n",
       "      <td>yes</td>\n",
       "      <td>yes</td>\n",
       "      <td>101348.88</td>\n",
       "      <td>1</td>\n",
       "    </tr>\n",
       "    <tr>\n",
       "      <th>1</th>\n",
       "      <td>2</td>\n",
       "      <td>15647311</td>\n",
       "      <td>Hill</td>\n",
       "      <td>608</td>\n",
       "      <td>Spain</td>\n",
       "      <td>Female</td>\n",
       "      <td>41</td>\n",
       "      <td>1</td>\n",
       "      <td>83807.86</td>\n",
       "      <td>1</td>\n",
       "      <td>no</td>\n",
       "      <td>yes</td>\n",
       "      <td>112542.58</td>\n",
       "      <td>0</td>\n",
       "    </tr>\n",
       "    <tr>\n",
       "      <th>2</th>\n",
       "      <td>3</td>\n",
       "      <td>15619304</td>\n",
       "      <td>Onio</td>\n",
       "      <td>502</td>\n",
       "      <td>France</td>\n",
       "      <td>Female</td>\n",
       "      <td>42</td>\n",
       "      <td>8</td>\n",
       "      <td>159660.80</td>\n",
       "      <td>3</td>\n",
       "      <td>yes</td>\n",
       "      <td>no</td>\n",
       "      <td>113931.57</td>\n",
       "      <td>1</td>\n",
       "    </tr>\n",
       "    <tr>\n",
       "      <th>3</th>\n",
       "      <td>4</td>\n",
       "      <td>15701354</td>\n",
       "      <td>Boni</td>\n",
       "      <td>699</td>\n",
       "      <td>France</td>\n",
       "      <td>Female</td>\n",
       "      <td>39</td>\n",
       "      <td>1</td>\n",
       "      <td>0.00</td>\n",
       "      <td>2</td>\n",
       "      <td>no</td>\n",
       "      <td>no</td>\n",
       "      <td>93826.63</td>\n",
       "      <td>0</td>\n",
       "    </tr>\n",
       "    <tr>\n",
       "      <th>4</th>\n",
       "      <td>5</td>\n",
       "      <td>15737888</td>\n",
       "      <td>Mitchell</td>\n",
       "      <td>850</td>\n",
       "      <td>Spain</td>\n",
       "      <td>Female</td>\n",
       "      <td>43</td>\n",
       "      <td>2</td>\n",
       "      <td>125510.82</td>\n",
       "      <td>1</td>\n",
       "      <td>yes</td>\n",
       "      <td>yes</td>\n",
       "      <td>79084.10</td>\n",
       "      <td>0</td>\n",
       "    </tr>\n",
       "  </tbody>\n",
       "</table>\n",
       "</div>"
      ],
      "text/plain": [
       "   row_number  customer_id   surname  credit_score geography  gender  age  tenure    balance  num_of_products has_cr_card is_active_member  estimated_salary  exited\n",
       "0           1     15634602  Hargrave           619    France  Female   42       2       0.00                1         yes              yes         101348.88       1\n",
       "1           2     15647311      Hill           608     Spain  Female   41       1   83807.86                1          no              yes         112542.58       0\n",
       "2           3     15619304      Onio           502    France  Female   42       8  159660.80                3         yes               no         113931.57       1\n",
       "3           4     15701354      Boni           699    France  Female   39       1       0.00                2          no               no          93826.63       0\n",
       "4           5     15737888  Mitchell           850     Spain  Female   43       2  125510.82                1         yes              yes          79084.10       0"
      ]
     },
     "execution_count": 40,
     "metadata": {},
     "output_type": "execute_result"
    }
   ],
   "source": [
    "df1.head()"
   ]
  },
  {
   "cell_type": "code",
   "execution_count": 58,
   "id": "drawn-ownership",
   "metadata": {
    "ExecuteTime": {
     "end_time": "2021-04-16T23:15:07.763604Z",
     "start_time": "2021-04-16T23:15:07.756335Z"
    }
   },
   "outputs": [],
   "source": [
    "# create features\n",
    "\n",
    "df1['age_by_tenure'] = df1['age'] / df1['tenure']\n",
    "\n",
    "df1['salary_by_age'] = df1['estimated_salary'] / df1['age']\n",
    "\n",
    "df1['salary_by_tenure'] = df1['estimated_salary'] / df1['tenure']\n",
    "\n",
    "df1['balance_by_age'] = df1['balance'] / df1['age']\n",
    "\n",
    "df1['balance_by_prod'] = df1['balance'] / df1['num_of_products']"
   ]
  },
  {
   "cell_type": "markdown",
   "id": "experienced-lighting",
   "metadata": {},
   "source": [
    "# VARIABLE FILTERING"
   ]
  },
  {
   "cell_type": "code",
   "execution_count": 59,
   "id": "amazing-envelope",
   "metadata": {
    "ExecuteTime": {
     "end_time": "2021-04-16T23:15:10.221826Z",
     "start_time": "2021-04-16T23:15:10.215770Z"
    }
   },
   "outputs": [],
   "source": [
    "df2 = df1.copy()"
   ]
  },
  {
   "cell_type": "code",
   "execution_count": 60,
   "id": "grand-shuttle",
   "metadata": {
    "ExecuteTime": {
     "end_time": "2021-04-16T23:15:11.331292Z",
     "start_time": "2021-04-16T23:15:11.317435Z"
    }
   },
   "outputs": [
    {
     "data": {
      "text/html": [
       "<div>\n",
       "<style scoped>\n",
       "    .dataframe tbody tr th:only-of-type {\n",
       "        vertical-align: middle;\n",
       "    }\n",
       "\n",
       "    .dataframe tbody tr th {\n",
       "        vertical-align: top;\n",
       "    }\n",
       "\n",
       "    .dataframe thead th {\n",
       "        text-align: right;\n",
       "    }\n",
       "</style>\n",
       "<table border=\"1\" class=\"dataframe\">\n",
       "  <thead>\n",
       "    <tr style=\"text-align: right;\">\n",
       "      <th></th>\n",
       "      <th>row_number</th>\n",
       "      <th>customer_id</th>\n",
       "      <th>surname</th>\n",
       "      <th>credit_score</th>\n",
       "      <th>geography</th>\n",
       "      <th>gender</th>\n",
       "      <th>age</th>\n",
       "      <th>tenure</th>\n",
       "      <th>balance</th>\n",
       "      <th>num_of_products</th>\n",
       "      <th>has_cr_card</th>\n",
       "      <th>is_active_member</th>\n",
       "      <th>estimated_salary</th>\n",
       "      <th>exited</th>\n",
       "      <th>age_by_tenure</th>\n",
       "      <th>salary_by_age</th>\n",
       "      <th>salary_by_tenure</th>\n",
       "      <th>balance_by_age</th>\n",
       "      <th>balance_by_prod</th>\n",
       "    </tr>\n",
       "  </thead>\n",
       "  <tbody>\n",
       "    <tr>\n",
       "      <th>0</th>\n",
       "      <td>1</td>\n",
       "      <td>15634602</td>\n",
       "      <td>Hargrave</td>\n",
       "      <td>619</td>\n",
       "      <td>France</td>\n",
       "      <td>Female</td>\n",
       "      <td>42</td>\n",
       "      <td>2</td>\n",
       "      <td>0.00</td>\n",
       "      <td>1</td>\n",
       "      <td>yes</td>\n",
       "      <td>yes</td>\n",
       "      <td>101348.88</td>\n",
       "      <td>1</td>\n",
       "      <td>21.00</td>\n",
       "      <td>2413.068571</td>\n",
       "      <td>50674.44000</td>\n",
       "      <td>0.000000</td>\n",
       "      <td>0.000000</td>\n",
       "    </tr>\n",
       "    <tr>\n",
       "      <th>1</th>\n",
       "      <td>2</td>\n",
       "      <td>15647311</td>\n",
       "      <td>Hill</td>\n",
       "      <td>608</td>\n",
       "      <td>Spain</td>\n",
       "      <td>Female</td>\n",
       "      <td>41</td>\n",
       "      <td>1</td>\n",
       "      <td>83807.86</td>\n",
       "      <td>1</td>\n",
       "      <td>no</td>\n",
       "      <td>yes</td>\n",
       "      <td>112542.58</td>\n",
       "      <td>0</td>\n",
       "      <td>41.00</td>\n",
       "      <td>2744.940976</td>\n",
       "      <td>112542.58000</td>\n",
       "      <td>2044.094146</td>\n",
       "      <td>83807.860000</td>\n",
       "    </tr>\n",
       "    <tr>\n",
       "      <th>2</th>\n",
       "      <td>3</td>\n",
       "      <td>15619304</td>\n",
       "      <td>Onio</td>\n",
       "      <td>502</td>\n",
       "      <td>France</td>\n",
       "      <td>Female</td>\n",
       "      <td>42</td>\n",
       "      <td>8</td>\n",
       "      <td>159660.80</td>\n",
       "      <td>3</td>\n",
       "      <td>yes</td>\n",
       "      <td>no</td>\n",
       "      <td>113931.57</td>\n",
       "      <td>1</td>\n",
       "      <td>5.25</td>\n",
       "      <td>2712.656429</td>\n",
       "      <td>14241.44625</td>\n",
       "      <td>3801.447619</td>\n",
       "      <td>53220.266667</td>\n",
       "    </tr>\n",
       "    <tr>\n",
       "      <th>3</th>\n",
       "      <td>4</td>\n",
       "      <td>15701354</td>\n",
       "      <td>Boni</td>\n",
       "      <td>699</td>\n",
       "      <td>France</td>\n",
       "      <td>Female</td>\n",
       "      <td>39</td>\n",
       "      <td>1</td>\n",
       "      <td>0.00</td>\n",
       "      <td>2</td>\n",
       "      <td>no</td>\n",
       "      <td>no</td>\n",
       "      <td>93826.63</td>\n",
       "      <td>0</td>\n",
       "      <td>39.00</td>\n",
       "      <td>2405.811026</td>\n",
       "      <td>93826.63000</td>\n",
       "      <td>0.000000</td>\n",
       "      <td>0.000000</td>\n",
       "    </tr>\n",
       "    <tr>\n",
       "      <th>4</th>\n",
       "      <td>5</td>\n",
       "      <td>15737888</td>\n",
       "      <td>Mitchell</td>\n",
       "      <td>850</td>\n",
       "      <td>Spain</td>\n",
       "      <td>Female</td>\n",
       "      <td>43</td>\n",
       "      <td>2</td>\n",
       "      <td>125510.82</td>\n",
       "      <td>1</td>\n",
       "      <td>yes</td>\n",
       "      <td>yes</td>\n",
       "      <td>79084.10</td>\n",
       "      <td>0</td>\n",
       "      <td>21.50</td>\n",
       "      <td>1839.165116</td>\n",
       "      <td>39542.05000</td>\n",
       "      <td>2918.856279</td>\n",
       "      <td>125510.820000</td>\n",
       "    </tr>\n",
       "  </tbody>\n",
       "</table>\n",
       "</div>"
      ],
      "text/plain": [
       "   row_number  customer_id   surname  credit_score geography  gender  age  tenure    balance  num_of_products has_cr_card is_active_member  estimated_salary  exited  age_by_tenure  salary_by_age  salary_by_tenure  balance_by_age  balance_by_prod\n",
       "0           1     15634602  Hargrave           619    France  Female   42       2       0.00                1         yes              yes         101348.88       1          21.00    2413.068571       50674.44000        0.000000         0.000000\n",
       "1           2     15647311      Hill           608     Spain  Female   41       1   83807.86                1          no              yes         112542.58       0          41.00    2744.940976      112542.58000     2044.094146     83807.860000\n",
       "2           3     15619304      Onio           502    France  Female   42       8  159660.80                3         yes               no         113931.57       1           5.25    2712.656429       14241.44625     3801.447619     53220.266667\n",
       "3           4     15701354      Boni           699    France  Female   39       1       0.00                2          no               no          93826.63       0          39.00    2405.811026       93826.63000        0.000000         0.000000\n",
       "4           5     15737888  Mitchell           850     Spain  Female   43       2  125510.82                1         yes              yes          79084.10       0          21.50    1839.165116       39542.05000     2918.856279    125510.820000"
      ]
     },
     "execution_count": 60,
     "metadata": {},
     "output_type": "execute_result"
    }
   ],
   "source": [
    "df2.head()"
   ]
  },
  {
   "cell_type": "code",
   "execution_count": 63,
   "id": "miniature-location",
   "metadata": {
    "ExecuteTime": {
     "end_time": "2021-04-16T23:16:09.976921Z",
     "start_time": "2021-04-16T23:16:09.947474Z"
    }
   },
   "outputs": [
    {
     "ename": "KeyError",
     "evalue": "\"['row_number'] not found in axis\"",
     "output_type": "error",
     "traceback": [
      "\u001b[0;31m---------------------------------------------------------------------------\u001b[0m",
      "\u001b[0;31mKeyError\u001b[0m                                  Traceback (most recent call last)",
      "\u001b[0;32m<ipython-input-63-8323685bcaa8>\u001b[0m in \u001b[0;36m<module>\u001b[0;34m\u001b[0m\n\u001b[1;32m      1\u001b[0m \u001b[0;31m# feature row_number is not necessary\u001b[0m\u001b[0;34m\u001b[0m\u001b[0;34m\u001b[0m\u001b[0;34m\u001b[0m\u001b[0m\n\u001b[0;32m----> 2\u001b[0;31m \u001b[0mdf2\u001b[0m \u001b[0;34m=\u001b[0m \u001b[0mdf2\u001b[0m\u001b[0;34m.\u001b[0m\u001b[0mdrop\u001b[0m\u001b[0;34m(\u001b[0m\u001b[0;34m'row_number'\u001b[0m\u001b[0;34m,\u001b[0m \u001b[0maxis\u001b[0m \u001b[0;34m=\u001b[0m \u001b[0;36m1\u001b[0m\u001b[0;34m)\u001b[0m\u001b[0;34m\u001b[0m\u001b[0;34m\u001b[0m\u001b[0m\n\u001b[0m\u001b[1;32m      3\u001b[0m \u001b[0mdf2\u001b[0m\u001b[0;34m.\u001b[0m\u001b[0mhead\u001b[0m\u001b[0;34m(\u001b[0m\u001b[0;34m)\u001b[0m\u001b[0;34m\u001b[0m\u001b[0;34m\u001b[0m\u001b[0m\n",
      "\u001b[0;32m~/.pyenv/versions/3.9.1/envs/Client-Churn-Prediction/lib/python3.9/site-packages/pandas/core/frame.py\u001b[0m in \u001b[0;36mdrop\u001b[0;34m(self, labels, axis, index, columns, level, inplace, errors)\u001b[0m\n\u001b[1;32m   4306\u001b[0m                 \u001b[0mweight\u001b[0m  \u001b[0;36m1.0\u001b[0m     \u001b[0;36m0.8\u001b[0m\u001b[0;34m\u001b[0m\u001b[0;34m\u001b[0m\u001b[0m\n\u001b[1;32m   4307\u001b[0m         \"\"\"\n\u001b[0;32m-> 4308\u001b[0;31m         return super().drop(\n\u001b[0m\u001b[1;32m   4309\u001b[0m             \u001b[0mlabels\u001b[0m\u001b[0;34m=\u001b[0m\u001b[0mlabels\u001b[0m\u001b[0;34m,\u001b[0m\u001b[0;34m\u001b[0m\u001b[0;34m\u001b[0m\u001b[0m\n\u001b[1;32m   4310\u001b[0m             \u001b[0maxis\u001b[0m\u001b[0;34m=\u001b[0m\u001b[0maxis\u001b[0m\u001b[0;34m,\u001b[0m\u001b[0;34m\u001b[0m\u001b[0;34m\u001b[0m\u001b[0m\n",
      "\u001b[0;32m~/.pyenv/versions/3.9.1/envs/Client-Churn-Prediction/lib/python3.9/site-packages/pandas/core/generic.py\u001b[0m in \u001b[0;36mdrop\u001b[0;34m(self, labels, axis, index, columns, level, inplace, errors)\u001b[0m\n\u001b[1;32m   4151\u001b[0m         \u001b[0;32mfor\u001b[0m \u001b[0maxis\u001b[0m\u001b[0;34m,\u001b[0m \u001b[0mlabels\u001b[0m \u001b[0;32min\u001b[0m \u001b[0maxes\u001b[0m\u001b[0;34m.\u001b[0m\u001b[0mitems\u001b[0m\u001b[0;34m(\u001b[0m\u001b[0;34m)\u001b[0m\u001b[0;34m:\u001b[0m\u001b[0;34m\u001b[0m\u001b[0;34m\u001b[0m\u001b[0m\n\u001b[1;32m   4152\u001b[0m             \u001b[0;32mif\u001b[0m \u001b[0mlabels\u001b[0m \u001b[0;32mis\u001b[0m \u001b[0;32mnot\u001b[0m \u001b[0;32mNone\u001b[0m\u001b[0;34m:\u001b[0m\u001b[0;34m\u001b[0m\u001b[0;34m\u001b[0m\u001b[0m\n\u001b[0;32m-> 4153\u001b[0;31m                 \u001b[0mobj\u001b[0m \u001b[0;34m=\u001b[0m \u001b[0mobj\u001b[0m\u001b[0;34m.\u001b[0m\u001b[0m_drop_axis\u001b[0m\u001b[0;34m(\u001b[0m\u001b[0mlabels\u001b[0m\u001b[0;34m,\u001b[0m \u001b[0maxis\u001b[0m\u001b[0;34m,\u001b[0m \u001b[0mlevel\u001b[0m\u001b[0;34m=\u001b[0m\u001b[0mlevel\u001b[0m\u001b[0;34m,\u001b[0m \u001b[0merrors\u001b[0m\u001b[0;34m=\u001b[0m\u001b[0merrors\u001b[0m\u001b[0;34m)\u001b[0m\u001b[0;34m\u001b[0m\u001b[0;34m\u001b[0m\u001b[0m\n\u001b[0m\u001b[1;32m   4154\u001b[0m \u001b[0;34m\u001b[0m\u001b[0m\n\u001b[1;32m   4155\u001b[0m         \u001b[0;32mif\u001b[0m \u001b[0minplace\u001b[0m\u001b[0;34m:\u001b[0m\u001b[0;34m\u001b[0m\u001b[0;34m\u001b[0m\u001b[0m\n",
      "\u001b[0;32m~/.pyenv/versions/3.9.1/envs/Client-Churn-Prediction/lib/python3.9/site-packages/pandas/core/generic.py\u001b[0m in \u001b[0;36m_drop_axis\u001b[0;34m(self, labels, axis, level, errors)\u001b[0m\n\u001b[1;32m   4186\u001b[0m                 \u001b[0mnew_axis\u001b[0m \u001b[0;34m=\u001b[0m \u001b[0maxis\u001b[0m\u001b[0;34m.\u001b[0m\u001b[0mdrop\u001b[0m\u001b[0;34m(\u001b[0m\u001b[0mlabels\u001b[0m\u001b[0;34m,\u001b[0m \u001b[0mlevel\u001b[0m\u001b[0;34m=\u001b[0m\u001b[0mlevel\u001b[0m\u001b[0;34m,\u001b[0m \u001b[0merrors\u001b[0m\u001b[0;34m=\u001b[0m\u001b[0merrors\u001b[0m\u001b[0;34m)\u001b[0m\u001b[0;34m\u001b[0m\u001b[0;34m\u001b[0m\u001b[0m\n\u001b[1;32m   4187\u001b[0m             \u001b[0;32melse\u001b[0m\u001b[0;34m:\u001b[0m\u001b[0;34m\u001b[0m\u001b[0;34m\u001b[0m\u001b[0m\n\u001b[0;32m-> 4188\u001b[0;31m                 \u001b[0mnew_axis\u001b[0m \u001b[0;34m=\u001b[0m \u001b[0maxis\u001b[0m\u001b[0;34m.\u001b[0m\u001b[0mdrop\u001b[0m\u001b[0;34m(\u001b[0m\u001b[0mlabels\u001b[0m\u001b[0;34m,\u001b[0m \u001b[0merrors\u001b[0m\u001b[0;34m=\u001b[0m\u001b[0merrors\u001b[0m\u001b[0;34m)\u001b[0m\u001b[0;34m\u001b[0m\u001b[0;34m\u001b[0m\u001b[0m\n\u001b[0m\u001b[1;32m   4189\u001b[0m             \u001b[0mresult\u001b[0m \u001b[0;34m=\u001b[0m \u001b[0mself\u001b[0m\u001b[0;34m.\u001b[0m\u001b[0mreindex\u001b[0m\u001b[0;34m(\u001b[0m\u001b[0;34m**\u001b[0m\u001b[0;34m{\u001b[0m\u001b[0maxis_name\u001b[0m\u001b[0;34m:\u001b[0m \u001b[0mnew_axis\u001b[0m\u001b[0;34m}\u001b[0m\u001b[0;34m)\u001b[0m\u001b[0;34m\u001b[0m\u001b[0;34m\u001b[0m\u001b[0m\n\u001b[1;32m   4190\u001b[0m \u001b[0;34m\u001b[0m\u001b[0m\n",
      "\u001b[0;32m~/.pyenv/versions/3.9.1/envs/Client-Churn-Prediction/lib/python3.9/site-packages/pandas/core/indexes/base.py\u001b[0m in \u001b[0;36mdrop\u001b[0;34m(self, labels, errors)\u001b[0m\n\u001b[1;32m   5589\u001b[0m         \u001b[0;32mif\u001b[0m \u001b[0mmask\u001b[0m\u001b[0;34m.\u001b[0m\u001b[0many\u001b[0m\u001b[0;34m(\u001b[0m\u001b[0;34m)\u001b[0m\u001b[0;34m:\u001b[0m\u001b[0;34m\u001b[0m\u001b[0;34m\u001b[0m\u001b[0m\n\u001b[1;32m   5590\u001b[0m             \u001b[0;32mif\u001b[0m \u001b[0merrors\u001b[0m \u001b[0;34m!=\u001b[0m \u001b[0;34m\"ignore\"\u001b[0m\u001b[0;34m:\u001b[0m\u001b[0;34m\u001b[0m\u001b[0;34m\u001b[0m\u001b[0m\n\u001b[0;32m-> 5591\u001b[0;31m                 \u001b[0;32mraise\u001b[0m \u001b[0mKeyError\u001b[0m\u001b[0;34m(\u001b[0m\u001b[0;34mf\"{labels[mask]} not found in axis\"\u001b[0m\u001b[0;34m)\u001b[0m\u001b[0;34m\u001b[0m\u001b[0;34m\u001b[0m\u001b[0m\n\u001b[0m\u001b[1;32m   5592\u001b[0m             \u001b[0mindexer\u001b[0m \u001b[0;34m=\u001b[0m \u001b[0mindexer\u001b[0m\u001b[0;34m[\u001b[0m\u001b[0;34m~\u001b[0m\u001b[0mmask\u001b[0m\u001b[0;34m]\u001b[0m\u001b[0;34m\u001b[0m\u001b[0;34m\u001b[0m\u001b[0m\n\u001b[1;32m   5593\u001b[0m         \u001b[0;32mreturn\u001b[0m \u001b[0mself\u001b[0m\u001b[0;34m.\u001b[0m\u001b[0mdelete\u001b[0m\u001b[0;34m(\u001b[0m\u001b[0mindexer\u001b[0m\u001b[0;34m)\u001b[0m\u001b[0;34m\u001b[0m\u001b[0;34m\u001b[0m\u001b[0m\n",
      "\u001b[0;31mKeyError\u001b[0m: \"['row_number'] not found in axis\""
     ]
    }
   ],
   "source": [
    "# feature row_number is not necessary\n",
    "df2 = df2.drop('row_number', axis = 1)"
   ]
  },
  {
   "cell_type": "code",
   "execution_count": 65,
   "id": "overall-monitor",
   "metadata": {
    "ExecuteTime": {
     "end_time": "2021-04-16T23:16:24.464365Z",
     "start_time": "2021-04-16T23:16:24.450615Z"
    }
   },
   "outputs": [
    {
     "data": {
      "text/html": [
       "<div>\n",
       "<style scoped>\n",
       "    .dataframe tbody tr th:only-of-type {\n",
       "        vertical-align: middle;\n",
       "    }\n",
       "\n",
       "    .dataframe tbody tr th {\n",
       "        vertical-align: top;\n",
       "    }\n",
       "\n",
       "    .dataframe thead th {\n",
       "        text-align: right;\n",
       "    }\n",
       "</style>\n",
       "<table border=\"1\" class=\"dataframe\">\n",
       "  <thead>\n",
       "    <tr style=\"text-align: right;\">\n",
       "      <th></th>\n",
       "      <th>customer_id</th>\n",
       "      <th>surname</th>\n",
       "      <th>credit_score</th>\n",
       "      <th>geography</th>\n",
       "      <th>gender</th>\n",
       "      <th>age</th>\n",
       "      <th>tenure</th>\n",
       "      <th>balance</th>\n",
       "      <th>num_of_products</th>\n",
       "      <th>has_cr_card</th>\n",
       "      <th>is_active_member</th>\n",
       "      <th>estimated_salary</th>\n",
       "      <th>exited</th>\n",
       "      <th>age_by_tenure</th>\n",
       "      <th>salary_by_age</th>\n",
       "      <th>salary_by_tenure</th>\n",
       "      <th>balance_by_age</th>\n",
       "      <th>balance_by_prod</th>\n",
       "    </tr>\n",
       "  </thead>\n",
       "  <tbody>\n",
       "    <tr>\n",
       "      <th>0</th>\n",
       "      <td>15634602</td>\n",
       "      <td>Hargrave</td>\n",
       "      <td>619</td>\n",
       "      <td>France</td>\n",
       "      <td>Female</td>\n",
       "      <td>42</td>\n",
       "      <td>2</td>\n",
       "      <td>0.00</td>\n",
       "      <td>1</td>\n",
       "      <td>yes</td>\n",
       "      <td>yes</td>\n",
       "      <td>101348.88</td>\n",
       "      <td>1</td>\n",
       "      <td>21.00</td>\n",
       "      <td>2413.068571</td>\n",
       "      <td>50674.44000</td>\n",
       "      <td>0.000000</td>\n",
       "      <td>0.000000</td>\n",
       "    </tr>\n",
       "    <tr>\n",
       "      <th>1</th>\n",
       "      <td>15647311</td>\n",
       "      <td>Hill</td>\n",
       "      <td>608</td>\n",
       "      <td>Spain</td>\n",
       "      <td>Female</td>\n",
       "      <td>41</td>\n",
       "      <td>1</td>\n",
       "      <td>83807.86</td>\n",
       "      <td>1</td>\n",
       "      <td>no</td>\n",
       "      <td>yes</td>\n",
       "      <td>112542.58</td>\n",
       "      <td>0</td>\n",
       "      <td>41.00</td>\n",
       "      <td>2744.940976</td>\n",
       "      <td>112542.58000</td>\n",
       "      <td>2044.094146</td>\n",
       "      <td>83807.860000</td>\n",
       "    </tr>\n",
       "    <tr>\n",
       "      <th>2</th>\n",
       "      <td>15619304</td>\n",
       "      <td>Onio</td>\n",
       "      <td>502</td>\n",
       "      <td>France</td>\n",
       "      <td>Female</td>\n",
       "      <td>42</td>\n",
       "      <td>8</td>\n",
       "      <td>159660.80</td>\n",
       "      <td>3</td>\n",
       "      <td>yes</td>\n",
       "      <td>no</td>\n",
       "      <td>113931.57</td>\n",
       "      <td>1</td>\n",
       "      <td>5.25</td>\n",
       "      <td>2712.656429</td>\n",
       "      <td>14241.44625</td>\n",
       "      <td>3801.447619</td>\n",
       "      <td>53220.266667</td>\n",
       "    </tr>\n",
       "    <tr>\n",
       "      <th>3</th>\n",
       "      <td>15701354</td>\n",
       "      <td>Boni</td>\n",
       "      <td>699</td>\n",
       "      <td>France</td>\n",
       "      <td>Female</td>\n",
       "      <td>39</td>\n",
       "      <td>1</td>\n",
       "      <td>0.00</td>\n",
       "      <td>2</td>\n",
       "      <td>no</td>\n",
       "      <td>no</td>\n",
       "      <td>93826.63</td>\n",
       "      <td>0</td>\n",
       "      <td>39.00</td>\n",
       "      <td>2405.811026</td>\n",
       "      <td>93826.63000</td>\n",
       "      <td>0.000000</td>\n",
       "      <td>0.000000</td>\n",
       "    </tr>\n",
       "    <tr>\n",
       "      <th>4</th>\n",
       "      <td>15737888</td>\n",
       "      <td>Mitchell</td>\n",
       "      <td>850</td>\n",
       "      <td>Spain</td>\n",
       "      <td>Female</td>\n",
       "      <td>43</td>\n",
       "      <td>2</td>\n",
       "      <td>125510.82</td>\n",
       "      <td>1</td>\n",
       "      <td>yes</td>\n",
       "      <td>yes</td>\n",
       "      <td>79084.10</td>\n",
       "      <td>0</td>\n",
       "      <td>21.50</td>\n",
       "      <td>1839.165116</td>\n",
       "      <td>39542.05000</td>\n",
       "      <td>2918.856279</td>\n",
       "      <td>125510.820000</td>\n",
       "    </tr>\n",
       "  </tbody>\n",
       "</table>\n",
       "</div>"
      ],
      "text/plain": [
       "   customer_id   surname  credit_score geography  gender  age  tenure    balance  num_of_products has_cr_card is_active_member  estimated_salary  exited  age_by_tenure  salary_by_age  salary_by_tenure  balance_by_age  balance_by_prod\n",
       "0     15634602  Hargrave           619    France  Female   42       2       0.00                1         yes              yes         101348.88       1          21.00    2413.068571       50674.44000        0.000000         0.000000\n",
       "1     15647311      Hill           608     Spain  Female   41       1   83807.86                1          no              yes         112542.58       0          41.00    2744.940976      112542.58000     2044.094146     83807.860000\n",
       "2     15619304      Onio           502    France  Female   42       8  159660.80                3         yes               no         113931.57       1           5.25    2712.656429       14241.44625     3801.447619     53220.266667\n",
       "3     15701354      Boni           699    France  Female   39       1       0.00                2          no               no          93826.63       0          39.00    2405.811026       93826.63000        0.000000         0.000000\n",
       "4     15737888  Mitchell           850     Spain  Female   43       2  125510.82                1         yes              yes          79084.10       0          21.50    1839.165116       39542.05000     2918.856279    125510.820000"
      ]
     },
     "execution_count": 65,
     "metadata": {},
     "output_type": "execute_result"
    }
   ],
   "source": [
    "df2.head()"
   ]
  },
  {
   "cell_type": "markdown",
   "id": "royal-fitting",
   "metadata": {
    "heading_collapsed": true
   },
   "source": [
    "## Line Filtering"
   ]
  },
  {
   "cell_type": "code",
   "execution_count": null,
   "id": "pregnant-cradle",
   "metadata": {
    "hidden": true
   },
   "outputs": [],
   "source": []
  },
  {
   "cell_type": "markdown",
   "id": "bulgarian-queue",
   "metadata": {
    "heading_collapsed": true
   },
   "source": [
    "## Columns Selection"
   ]
  },
  {
   "cell_type": "code",
   "execution_count": null,
   "id": "destroyed-liquid",
   "metadata": {
    "hidden": true
   },
   "outputs": [],
   "source": []
  },
  {
   "cell_type": "markdown",
   "id": "collaborative-baker",
   "metadata": {
    "heading_collapsed": true
   },
   "source": [
    "# EXPLORATORY DATA ANALYSIS (EDA)"
   ]
  },
  {
   "cell_type": "code",
   "execution_count": null,
   "id": "liquid-secretariat",
   "metadata": {
    "hidden": true
   },
   "outputs": [],
   "source": []
  },
  {
   "cell_type": "markdown",
   "id": "prostate-deputy",
   "metadata": {
    "heading_collapsed": true,
    "hidden": true
   },
   "source": [
    "## Univariate Analysis"
   ]
  },
  {
   "cell_type": "markdown",
   "id": "accessible-glass",
   "metadata": {
    "heading_collapsed": true,
    "hidden": true
   },
   "source": [
    "### Response Variable"
   ]
  },
  {
   "cell_type": "code",
   "execution_count": null,
   "id": "nervous-discrimination",
   "metadata": {
    "hidden": true
   },
   "outputs": [],
   "source": []
  },
  {
   "cell_type": "markdown",
   "id": "preceding-contractor",
   "metadata": {
    "heading_collapsed": true,
    "hidden": true
   },
   "source": [
    "### Numerical Variable"
   ]
  },
  {
   "cell_type": "code",
   "execution_count": null,
   "id": "athletic-phoenix",
   "metadata": {
    "hidden": true
   },
   "outputs": [],
   "source": []
  },
  {
   "cell_type": "markdown",
   "id": "european-sally",
   "metadata": {
    "heading_collapsed": true,
    "hidden": true
   },
   "source": [
    "### Categorical Variable"
   ]
  },
  {
   "cell_type": "code",
   "execution_count": null,
   "id": "graphic-interface",
   "metadata": {
    "hidden": true
   },
   "outputs": [],
   "source": []
  },
  {
   "cell_type": "markdown",
   "id": "metallic-granny",
   "metadata": {
    "heading_collapsed": true,
    "hidden": true
   },
   "source": [
    "## Bivariate Analysis"
   ]
  },
  {
   "cell_type": "code",
   "execution_count": null,
   "id": "governing-upgrade",
   "metadata": {
    "hidden": true
   },
   "outputs": [],
   "source": []
  },
  {
   "cell_type": "markdown",
   "id": "smooth-franklin",
   "metadata": {
    "heading_collapsed": true,
    "hidden": true
   },
   "source": [
    "## Multivariate Analysis"
   ]
  },
  {
   "cell_type": "code",
   "execution_count": null,
   "id": "swedish-bonus",
   "metadata": {
    "hidden": true
   },
   "outputs": [],
   "source": []
  },
  {
   "cell_type": "markdown",
   "id": "distributed-rebate",
   "metadata": {
    "heading_collapsed": true
   },
   "source": [
    "# DATA PREPARATION"
   ]
  },
  {
   "cell_type": "code",
   "execution_count": null,
   "id": "single-camera",
   "metadata": {
    "hidden": true
   },
   "outputs": [],
   "source": []
  },
  {
   "cell_type": "markdown",
   "id": "controlling-wisconsin",
   "metadata": {
    "heading_collapsed": true,
    "hidden": true
   },
   "source": [
    "## Feature Normalization"
   ]
  },
  {
   "cell_type": "code",
   "execution_count": null,
   "id": "angry-hearing",
   "metadata": {
    "hidden": true
   },
   "outputs": [],
   "source": []
  },
  {
   "cell_type": "markdown",
   "id": "adapted-pastor",
   "metadata": {
    "heading_collapsed": true,
    "hidden": true
   },
   "source": [
    "## Feature Rescaling"
   ]
  },
  {
   "cell_type": "code",
   "execution_count": null,
   "id": "fuzzy-march",
   "metadata": {
    "hidden": true
   },
   "outputs": [],
   "source": []
  },
  {
   "cell_type": "markdown",
   "id": "talented-auction",
   "metadata": {
    "heading_collapsed": true,
    "hidden": true
   },
   "source": [
    "## Feature Transformation"
   ]
  },
  {
   "cell_type": "markdown",
   "id": "nominated-potato",
   "metadata": {
    "heading_collapsed": true,
    "hidden": true
   },
   "source": [
    "### Enconding"
   ]
  },
  {
   "cell_type": "code",
   "execution_count": null,
   "id": "dressed-evans",
   "metadata": {
    "hidden": true
   },
   "outputs": [],
   "source": []
  },
  {
   "cell_type": "markdown",
   "id": "supposed-royalty",
   "metadata": {
    "heading_collapsed": true,
    "hidden": true
   },
   "source": [
    "### Target Variable Transformation"
   ]
  },
  {
   "cell_type": "code",
   "execution_count": null,
   "id": "innocent-nancy",
   "metadata": {
    "hidden": true
   },
   "outputs": [],
   "source": []
  },
  {
   "cell_type": "markdown",
   "id": "eligible-safety",
   "metadata": {
    "heading_collapsed": true,
    "hidden": true
   },
   "source": [
    "### Nature Transformation"
   ]
  },
  {
   "cell_type": "code",
   "execution_count": null,
   "id": "imperial-judges",
   "metadata": {
    "hidden": true
   },
   "outputs": [],
   "source": []
  },
  {
   "cell_type": "markdown",
   "id": "fatal-meditation",
   "metadata": {
    "heading_collapsed": true
   },
   "source": [
    "# FEATURE SELECTION"
   ]
  },
  {
   "cell_type": "code",
   "execution_count": null,
   "id": "oriental-benjamin",
   "metadata": {
    "hidden": true
   },
   "outputs": [],
   "source": []
  },
  {
   "cell_type": "markdown",
   "id": "internal-stake",
   "metadata": {
    "heading_collapsed": true,
    "hidden": true
   },
   "source": [
    "## Spliting dataframe into training and test dataset"
   ]
  },
  {
   "cell_type": "code",
   "execution_count": null,
   "id": "norman-compatibility",
   "metadata": {
    "hidden": true
   },
   "outputs": [],
   "source": []
  },
  {
   "cell_type": "markdown",
   "id": "personalized-intervention",
   "metadata": {
    "heading_collapsed": true,
    "hidden": true
   },
   "source": [
    "## Feature Selector (boruta?)"
   ]
  },
  {
   "cell_type": "code",
   "execution_count": null,
   "id": "determined-pressing",
   "metadata": {
    "hidden": true
   },
   "outputs": [],
   "source": []
  },
  {
   "cell_type": "markdown",
   "id": "executive-gates",
   "metadata": {
    "heading_collapsed": true,
    "hidden": true
   },
   "source": [
    "## Best Features"
   ]
  },
  {
   "cell_type": "code",
   "execution_count": null,
   "id": "advance-serve",
   "metadata": {
    "hidden": true
   },
   "outputs": [],
   "source": []
  },
  {
   "cell_type": "markdown",
   "id": "electronic-release",
   "metadata": {
    "heading_collapsed": true
   },
   "source": [
    "# MACHINE LEARNING ALGORITHM MODELS"
   ]
  },
  {
   "cell_type": "markdown",
   "id": "stuffed-rally",
   "metadata": {
    "hidden": true
   },
   "source": [
    "## Modelo 1"
   ]
  },
  {
   "cell_type": "markdown",
   "id": "veterinary-oxford",
   "metadata": {
    "hidden": true
   },
   "source": [
    "## Modelo 2"
   ]
  },
  {
   "cell_type": "markdown",
   "id": "requested-mason",
   "metadata": {
    "hidden": true
   },
   "source": [
    "## Modelo 3"
   ]
  },
  {
   "cell_type": "markdown",
   "id": "charged-potato",
   "metadata": {
    "hidden": true
   },
   "source": [
    "## Compare Model's Performance"
   ]
  },
  {
   "cell_type": "code",
   "execution_count": null,
   "id": "representative-blake",
   "metadata": {
    "hidden": true
   },
   "outputs": [],
   "source": []
  },
  {
   "cell_type": "markdown",
   "id": "frequent-brooklyn",
   "metadata": {},
   "source": [
    "# HYPERPARAMETERS FINE TUNING"
   ]
  },
  {
   "cell_type": "code",
   "execution_count": null,
   "id": "absent-telephone",
   "metadata": {},
   "outputs": [],
   "source": []
  },
  {
   "cell_type": "markdown",
   "id": "bright-green",
   "metadata": {},
   "source": [
    "# ERROR INTERPRETATION"
   ]
  },
  {
   "cell_type": "code",
   "execution_count": null,
   "id": "dirty-hindu",
   "metadata": {},
   "outputs": [],
   "source": []
  },
  {
   "cell_type": "markdown",
   "id": "fifth-tooth",
   "metadata": {},
   "source": [
    "# MODEL DEPLOYMENT"
   ]
  }
 ],
 "metadata": {
  "kernelspec": {
   "display_name": "Python 3",
   "language": "python",
   "name": "python3"
  },
  "language_info": {
   "codemirror_mode": {
    "name": "ipython",
    "version": 3
   },
   "file_extension": ".py",
   "mimetype": "text/x-python",
   "name": "python",
   "nbconvert_exporter": "python",
   "pygments_lexer": "ipython3",
   "version": "3.9.1"
  },
  "toc": {
   "base_numbering": 1,
   "nav_menu": {},
   "number_sections": true,
   "sideBar": true,
   "skip_h1_title": false,
   "title_cell": "Table of Contents",
   "title_sidebar": "Contents",
   "toc_cell": false,
   "toc_position": {},
   "toc_section_display": true,
   "toc_window_display": false
  }
 },
 "nbformat": 4,
 "nbformat_minor": 5
}
